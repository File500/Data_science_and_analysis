{
 "cells": [
  {
   "cell_type": "code",
   "execution_count": 8,
   "id": "initial_id",
   "metadata": {
    "collapsed": true,
    "ExecuteTime": {
     "end_time": "2024-11-30T11:31:29.957932400Z",
     "start_time": "2024-11-30T11:31:29.939294400Z"
    }
   },
   "outputs": [],
   "source": [
    "import numpy as np\n",
    "import statsmodels.tsa.stattools as stm\n",
    "import scipy.stats as sc\n",
    "from matplotlib import pyplot as plt\n",
    "import pandas as pd\n",
    "import seaborn as sb\n",
    "from sklearn.cluster import KMeans, DBSCAN\n",
    "import findspark\n",
    "from pyspark.sql import SparkSession\n",
    "\n",
    "def warn(*args, **kwargs):\n",
    "    pass\n",
    "import warnings\n",
    "warnings.warn = warn\n",
    "warnings.filterwarnings('ignore')\n",
    "\n",
    "findspark.init()\n",
    "spark = SparkSession.builder.appName(\"Price\").getOrCreate()\n",
    "\n",
    "def sql_to_df(command: str) -> pd.DataFrame:\n",
    "    return spark.sql(command).toPandas()"
   ]
  },
  {
   "cell_type": "code",
   "outputs": [],
   "source": [
    "price_data = spark.read.csv(path=\"../../data/clean_data/clean_car_price.csv\", header=True, inferSchema=True)"
   ],
   "metadata": {
    "collapsed": false,
    "ExecuteTime": {
     "end_time": "2024-11-30T11:31:30.438117Z",
     "start_time": "2024-11-30T11:31:29.961902300Z"
    }
   },
   "id": "1f9f6ca83b6cae93",
   "execution_count": 9
  },
  {
   "cell_type": "code",
   "outputs": [],
   "source": [
    "price_data.createOrReplaceTempView(\"price\")"
   ],
   "metadata": {
    "collapsed": false,
    "ExecuteTime": {
     "end_time": "2024-11-30T11:31:30.450082900Z",
     "start_time": "2024-11-30T11:31:30.440110300Z"
    }
   },
   "id": "802754dc979c146a",
   "execution_count": 10
  },
  {
   "cell_type": "code",
   "outputs": [
    {
     "data": {
      "text/plain": "6925"
     },
     "execution_count": 19,
     "metadata": {},
     "output_type": "execute_result"
    }
   ],
   "source": [
    "price_data.count()"
   ],
   "metadata": {
    "collapsed": false,
    "ExecuteTime": {
     "end_time": "2024-11-30T11:39:46.311363700Z",
     "start_time": "2024-11-30T11:39:46.190988700Z"
    }
   },
   "id": "65ac4a7bb69e43f2",
   "execution_count": 19
  },
  {
   "cell_type": "code",
   "outputs": [],
   "source": [
    "'''\n",
    "price with:\n",
    "\n",
    "- km  => scatterplot\n",
    "- year => lineplot\n",
    "- ostalo => barplot ili boxplot\n",
    "\n",
    "\n",
    "- postotci zastupljenosti => piechart\n",
    "\n",
    "\n",
    "'''"
   ],
   "metadata": {
    "collapsed": false
   },
   "id": "3ce67b51c21d099a"
  },
  {
   "cell_type": "code",
   "outputs": [
    {
     "name": "stdout",
     "output_type": "stream",
     "text": [
      "+---+--------------------+----+------------------+---------+------+-----------+------------+------------+\n",
      "|_c0|                name|year|     selling_price|km_driven|  fuel|seller_type|transmission|       owner|\n",
      "+---+--------------------+----+------------------+---------+------+-----------+------------+------------+\n",
      "|  0|Maruti Swift Dzir...|2014|            4950.0|   145500|Diesel| Individual|      Manual| First Owner|\n",
      "|  1|Skoda Rapid 1.5 T...|2014|4069.9999999999995|   120000|Diesel| Individual|      Manual|Second Owner|\n",
      "|  2|Honda City 2017-2...|2006|            1738.0|   140000|Petrol| Individual|      Manual| Third Owner|\n",
      "|  3|Hyundai i20 Sport...|2010|            2475.0|   127000|Diesel| Individual|      Manual| First Owner|\n",
      "|  4|Maruti Swift VXI ...|2007|            1430.0|   120000|Petrol| Individual|      Manual| First Owner|\n",
      "|  5|Hyundai Xcent 1.2...|2017|            4840.0|    45000|Petrol| Individual|      Manual| First Owner|\n",
      "|  6|Maruti Wagon R LX...|2007|            1056.0|   175000|   LPG| Individual|      Manual| First Owner|\n",
      "|  7|  Maruti 800 DX BSII|2001|494.99999999999994|     5000|Petrol| Individual|      Manual|Second Owner|\n",
      "|  8|    Toyota Etios VXD|2011|            3850.0|    90000|Diesel| Individual|      Manual| First Owner|\n",
      "|  9|Ford Figo Diesel ...|2013|            2200.0|   169000|Diesel| Individual|      Manual| First Owner|\n",
      "| 10|Renault Duster 11...|2014|            5500.0|    68000|Diesel| Individual|      Manual|Second Owner|\n",
      "| 11|       Maruti Zen LX|2005|1011.9999999999999|   100000|Petrol| Individual|      Manual|Second Owner|\n",
      "| 12|Maruti Swift Dzir...|2009|            3080.0|   140000|Diesel| Individual|      Manual|Second Owner|\n",
      "| 13|Maruti Swift 1.3 VXi|2007|            2200.0|    80000|Petrol| Individual|      Manual|Second Owner|\n",
      "| 14|Maruti Wagon R LX...|2009|1979.9999999999998|    90000|Petrol| Individual|      Manual|Second Owner|\n",
      "| 15|Mahindra KUV 100 ...|2016|            4400.0|    40000|Petrol| Individual|      Manual| First Owner|\n",
      "| 16|Maruti Ertiga SHV...|2016|            8558.0|    70000|Diesel| Individual|      Manual|Second Owner|\n",
      "| 17|Hyundai i20 1.4 C...|2012|            5500.0|    53000|Diesel| Individual|      Manual|Second Owner|\n",
      "| 18|      Maruti Alto LX|2002|            1650.0|    80000|Petrol| Individual|      Manual|Second Owner|\n",
      "| 19|Hyundai i20 2015-...|2016|            7480.0|   100000|Diesel| Individual|      Manual| First Owner|\n",
      "+---+--------------------+----+------------------+---------+------+-----------+------------+------------+\n"
     ]
    }
   ],
   "source": [
    "price_data.show()"
   ],
   "metadata": {
    "collapsed": false,
    "ExecuteTime": {
     "end_time": "2024-11-30T11:41:11.253630800Z",
     "start_time": "2024-11-30T11:41:11.156473900Z"
    }
   },
   "id": "5a18467a70cc7ad0",
   "execution_count": 27
  },
  {
   "cell_type": "code",
   "outputs": [
    {
     "data": {
      "text/plain": "     fuel       seller_type  sel_cnt\n0     LPG            Dealer        2\n1  Diesel  Trustmark Dealer        3\n2  Petrol  Trustmark Dealer       24\n3     LPG        Individual       36\n4     CNG        Individual       56\n5  Petrol            Dealer      273\n6  Diesel            Dealer      405\n7  Petrol        Individual     2780\n8  Diesel        Individual     3346",
      "text/html": "<div>\n<style scoped>\n    .dataframe tbody tr th:only-of-type {\n        vertical-align: middle;\n    }\n\n    .dataframe tbody tr th {\n        vertical-align: top;\n    }\n\n    .dataframe thead th {\n        text-align: right;\n    }\n</style>\n<table border=\"1\" class=\"dataframe\">\n  <thead>\n    <tr style=\"text-align: right;\">\n      <th></th>\n      <th>fuel</th>\n      <th>seller_type</th>\n      <th>sel_cnt</th>\n    </tr>\n  </thead>\n  <tbody>\n    <tr>\n      <th>0</th>\n      <td>LPG</td>\n      <td>Dealer</td>\n      <td>2</td>\n    </tr>\n    <tr>\n      <th>1</th>\n      <td>Diesel</td>\n      <td>Trustmark Dealer</td>\n      <td>3</td>\n    </tr>\n    <tr>\n      <th>2</th>\n      <td>Petrol</td>\n      <td>Trustmark Dealer</td>\n      <td>24</td>\n    </tr>\n    <tr>\n      <th>3</th>\n      <td>LPG</td>\n      <td>Individual</td>\n      <td>36</td>\n    </tr>\n    <tr>\n      <th>4</th>\n      <td>CNG</td>\n      <td>Individual</td>\n      <td>56</td>\n    </tr>\n    <tr>\n      <th>5</th>\n      <td>Petrol</td>\n      <td>Dealer</td>\n      <td>273</td>\n    </tr>\n    <tr>\n      <th>6</th>\n      <td>Diesel</td>\n      <td>Dealer</td>\n      <td>405</td>\n    </tr>\n    <tr>\n      <th>7</th>\n      <td>Petrol</td>\n      <td>Individual</td>\n      <td>2780</td>\n    </tr>\n    <tr>\n      <th>8</th>\n      <td>Diesel</td>\n      <td>Individual</td>\n      <td>3346</td>\n    </tr>\n  </tbody>\n</table>\n</div>"
     },
     "execution_count": 29,
     "metadata": {},
     "output_type": "execute_result"
    }
   ],
   "source": [
    "filtered = sql_to_df('''select fuel, seller_type, count(seller_type) as sel_cnt from price \n",
    "                        group by fuel, seller_type\n",
    "                        order by  sel_cnt asc ''')\n",
    "filtered"
   ],
   "metadata": {
    "collapsed": false,
    "ExecuteTime": {
     "end_time": "2024-11-30T11:58:53.089049800Z",
     "start_time": "2024-11-30T11:58:52.749162300Z"
    }
   },
   "id": "c93b5753d8853e97",
   "execution_count": 29
  },
  {
   "cell_type": "code",
   "outputs": [],
   "source": [
    "# spark.stop()"
   ],
   "metadata": {
    "collapsed": false,
    "ExecuteTime": {
     "end_time": "2024-11-30T11:31:30.598284Z",
     "start_time": "2024-11-30T11:31:30.594295100Z"
    }
   },
   "id": "d8b8d4b56912b5d1",
   "execution_count": 12
  }
 ],
 "metadata": {
  "kernelspec": {
   "display_name": "Python 3",
   "language": "python",
   "name": "python3"
  },
  "language_info": {
   "codemirror_mode": {
    "name": "ipython",
    "version": 2
   },
   "file_extension": ".py",
   "mimetype": "text/x-python",
   "name": "python",
   "nbconvert_exporter": "python",
   "pygments_lexer": "ipython2",
   "version": "2.7.6"
  }
 },
 "nbformat": 4,
 "nbformat_minor": 5
}
