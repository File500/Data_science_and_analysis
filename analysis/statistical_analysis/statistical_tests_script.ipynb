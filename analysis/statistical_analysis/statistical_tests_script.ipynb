{
 "cells": [
  {
   "cell_type": "code",
   "execution_count": 79,
   "id": "initial_id",
   "metadata": {
    "collapsed": true,
    "ExecuteTime": {
     "end_time": "2024-11-28T12:10:18.638671300Z",
     "start_time": "2024-11-28T12:10:18.635171300Z"
    }
   },
   "outputs": [],
   "source": [
    "import numpy as np\n",
    "from scipy import stats\n",
    "import statsmodels.api as sm\n",
    "from statsmodels.tsa.stattools import adfuller\n",
    "import pandas as pd"
   ]
  },
  {
   "cell_type": "code",
   "outputs": [],
   "source": [
    "def warn(*args, **kwargs):\n",
    "     pass\n",
    "import warnings\n",
    "warnings.warn = warn\n",
    "warnings.filterwarnings('ignore')"
   ],
   "metadata": {
    "collapsed": false,
    "ExecuteTime": {
     "end_time": "2024-11-28T12:10:18.650382800Z",
     "start_time": "2024-11-28T12:10:18.641662700Z"
    }
   },
   "id": "e01fb0ed74106030",
   "execution_count": 80
  },
  {
   "cell_type": "code",
   "outputs": [],
   "source": [
    "ownership = pd.read_csv(\"../../data/final_data/final_ownership_data.csv\")\n",
    "sales = pd.read_csv(\"../../data/final_data/final_sales_data.csv\")"
   ],
   "metadata": {
    "collapsed": false,
    "ExecuteTime": {
     "end_time": "2024-11-28T12:10:18.716919700Z",
     "start_time": "2024-11-28T12:10:18.648388600Z"
    }
   },
   "id": "a132f42033a883a6",
   "execution_count": 81
  },
  {
   "cell_type": "code",
   "outputs": [
    {
     "data": {
      "text/plain": "Index(['Unnamed: 0', '_c0', 'Occupation', 'Annual_Income', 'Credit_Score',\n       'Years_of_Employment', 'Finance_Status', 'Car', 'Number_of_Children'],\n      dtype='object')"
     },
     "execution_count": 82,
     "metadata": {},
     "output_type": "execute_result"
    }
   ],
   "source": [
    "ownership.columns"
   ],
   "metadata": {
    "collapsed": false,
    "ExecuteTime": {
     "end_time": "2024-11-28T12:10:18.724778500Z",
     "start_time": "2024-11-28T12:10:18.718914200Z"
    }
   },
   "id": "3952cab77e5782ab",
   "execution_count": 82
  },
  {
   "cell_type": "code",
   "outputs": [
    {
     "data": {
      "text/plain": "Index(['Unnamed: 0', '_c0', 'Car_id', 'Date', 'Gender', 'Annual_Income',\n       'Dealer_Name', 'Company', 'Model', 'Engine', 'Transmission', 'Color',\n       'Price', 'Dealer_No ', 'Body_Style', 'Phone', 'Dealer_Region', 'Month',\n       'Year'],\n      dtype='object')"
     },
     "execution_count": 83,
     "metadata": {},
     "output_type": "execute_result"
    }
   ],
   "source": [
    "sales.columns"
   ],
   "metadata": {
    "collapsed": false,
    "ExecuteTime": {
     "end_time": "2024-11-28T12:10:18.731764700Z",
     "start_time": "2024-11-28T12:10:18.723781700Z"
    }
   },
   "id": "3757bfbd53cf1a0a",
   "execution_count": 83
  },
  {
   "cell_type": "code",
   "outputs": [],
   "source": [
    "def t_test(df, column1, column2):\n",
    "     \"\"\"\n",
    "     t-test\n",
    "     \"\"\"\n",
    "     # Separate years of employment for car owners and non-owners\n",
    "     car_owners = df[df[column1] == True][column2]\n",
    "     non_car_owners = df[df[column1] == False][column2]\n",
    "\n",
    "     # Perform independent t-test\n",
    "     t_stat, p_value = stats.ttest_ind(car_owners, non_car_owners)\n",
    "\n",
    "     print(f\"T-statistic: {t_stat:.4f}\")\n",
    "     print(f\"P-value: {p_value:.4f}\")\n",
    "\n",
    "     return t_stat, p_value\n",
    "\n",
    "\n",
    "def chi_square_test(df, column1, column2):\n",
    "     \"\"\"\n",
    "     Performs chi-square test of independence between two categorical variables\n",
    "     \"\"\"\n",
    "     # Create contingency table\n",
    "     contingency = pd.crosstab(df[column1], df[column2])\n",
    "\n",
    "     # Perform chi-square test\n",
    "     chi2_stat, p_value, dof, expected = stats.chi2_contingency(contingency)\n",
    "\n",
    "     print(f\"Contingency Table:\\n{contingency}\\n\")\n",
    "     print(f\"Chi-square statistic: {chi2_stat:.4f}\")\n",
    "     print(f\"p-value: {p_value:.4f}\")\n",
    "     print(f\"Degrees of freedom: {dof}\")\n",
    "     return chi2_stat, p_value, dof, expected\n",
    "\n",
    "def two_way_anova(df, dependent_var, factor1, factor2):\n",
    "     \"\"\"\n",
    "     Performs two-way ANOVA test\n",
    "     \"\"\"\n",
    "     # Create groups based on factors\n",
    "     groups = []\n",
    "     for f1 in df[factor1].unique():\n",
    "          for f2 in df[factor2].unique():\n",
    "               group = df[(df[factor1] == f1) & (df[factor2] == f2)][dependent_var]\n",
    "               groups.append(group)\n",
    "\n",
    "     # Perform ANOVA\n",
    "     f_stat, p_value = stats.f_oneway(*groups)\n",
    "\n",
    "     print(f\"F-statistic: {f_stat:.4f}\")\n",
    "     print(f\"p-value: {p_value:.4f}\")\n",
    "     return f_stat, p_value\n",
    "\n",
    "def mann_whitney_test(df, numeric_column, binary_column):\n",
    "     \"\"\"\n",
    "     Performs Mann-Whitney U test between two groups\n",
    "     \"\"\"\n",
    "     group1 = df[df[binary_column] == True][numeric_column]\n",
    "     group2 = df[df[binary_column] == False][numeric_column]\n",
    "\n",
    "     # Perform test\n",
    "     stat, p_value = stats.mannwhitneyu(group1, group2, alternative='two-sided')\n",
    "\n",
    "     print(f\"Mann-Whitney U statistic: {stat:.4f}\")\n",
    "     print(f\"p-value: {p_value:.4f}\")\n",
    "     return stat, p_value\n",
    "\n",
    "def multiple_linear_regression(df, dependent_var, independent_vars):\n",
    "     \"\"\"\n",
    "     Performs multiple linear regression\n",
    "     \"\"\"\n",
    "     # Prepare the data\n",
    "     X = df[independent_vars]\n",
    "     # Add constant for intercept\n",
    "     X = sm.add_constant(X)\n",
    "     y = df[dependent_var]\n",
    "\n",
    "     # Fit the model\n",
    "     model = sm.OLS(y, X).fit()\n",
    "\n",
    "     print(model.summary())\n",
    "     return model\n",
    "\n",
    "def time_series_analysis(df, date_column, value_column):\n",
    "     \"\"\"\n",
    "     Performs Augmented Dickey-Fuller test for stationarity\n",
    "     \"\"\"\n",
    "     # Ensure data is sorted by date\n",
    "     df = df.sort_values(date_column)\n",
    "\n",
    "     # Perform ADF test\n",
    "     result = adfuller(df[value_column].values)\n",
    "\n",
    "     print('ADF Statistic:', result[0])\n",
    "     print('p-value:', result[1])\n",
    "     print('Critical values:')\n",
    "     for key, value in result[4].items():\n",
    "          print('\\t%s: %.3f' % (key, value))\n",
    "     return result\n"
   ],
   "metadata": {
    "collapsed": false,
    "ExecuteTime": {
     "end_time": "2024-11-28T12:34:55.802990800Z",
     "start_time": "2024-11-28T12:34:55.795978700Z"
    }
   },
   "id": "5b5af5fb91be2f5f",
   "execution_count": 95
  },
  {
   "cell_type": "code",
   "outputs": [
    {
     "name": "stdout",
     "output_type": "stream",
     "text": [
      "Contingency Table:\n",
      "Car                      No  Yes\n",
      "Occupation                      \n",
      "Account Executive         0    3\n",
      "Account Manager           0    2\n",
      "Accountant                1    8\n",
      "Architect                 1   10\n",
      "Art Director              0    1\n",
      "...                      ..  ...\n",
      "Veterinarian Technician   1    0\n",
      "Waiter/Waitress           1    0\n",
      "Web Designer              4    3\n",
      "Web Developer             1    6\n",
      "Writer                    7    0\n",
      "\n",
      "[116 rows x 2 columns]\n",
      "\n",
      "Chi-square statistic: 273.4004\n",
      "p-value: 0.0000\n",
      "Degrees of freedom: 115\n"
     ]
    },
    {
     "data": {
      "text/plain": "(273.4004148727985,\n 6.337285346434918e-15,\n 115,\n array([[ 1.10606061,  1.89393939],\n        [ 0.73737374,  1.26262626],\n        [ 3.31818182,  5.68181818],\n        [ 4.05555556,  6.94444444],\n        [ 0.36868687,  0.63131313],\n        [ 0.73737374,  1.26262626],\n        [ 0.36868687,  0.63131313],\n        [ 1.10606061,  1.89393939],\n        [ 0.36868687,  0.63131313],\n        [ 0.36868687,  0.63131313],\n        [ 1.10606061,  1.89393939],\n        [ 0.36868687,  0.63131313],\n        [ 0.73737374,  1.26262626],\n        [ 1.47474747,  2.52525253],\n        [ 8.84848485, 15.15151515],\n        [ 0.36868687,  0.63131313],\n        [ 0.36868687,  0.63131313],\n        [ 0.36868687,  0.63131313],\n        [ 1.47474747,  2.52525253],\n        [ 0.36868687,  0.63131313],\n        [ 0.73737374,  1.26262626],\n        [ 2.21212121,  3.78787879],\n        [ 0.36868687,  0.63131313],\n        [ 1.10606061,  1.89393939],\n        [ 1.84343434,  3.15656566],\n        [ 1.10606061,  1.89393939],\n        [ 2.58080808,  4.41919192],\n        [ 0.36868687,  0.63131313],\n        [ 0.36868687,  0.63131313],\n        [ 1.10606061,  1.89393939],\n        [ 0.36868687,  0.63131313],\n        [ 5.53030303,  9.46969697],\n        [ 0.36868687,  0.63131313],\n        [ 1.84343434,  3.15656566],\n        [ 0.73737374,  1.26262626],\n        [ 1.10606061,  1.89393939],\n        [ 1.10606061,  1.89393939],\n        [ 0.73737374,  1.26262626],\n        [ 1.84343434,  3.15656566],\n        [ 2.21212121,  3.78787879],\n        [ 0.36868687,  0.63131313],\n        [ 0.36868687,  0.63131313],\n        [ 0.36868687,  0.63131313],\n        [ 0.36868687,  0.63131313],\n        [ 0.73737374,  1.26262626],\n        [ 0.36868687,  0.63131313],\n        [ 5.53030303,  9.46969697],\n        [ 1.10606061,  1.89393939],\n        [ 0.36868687,  0.63131313],\n        [ 0.36868687,  0.63131313],\n        [ 0.73737374,  1.26262626],\n        [ 0.36868687,  0.63131313],\n        [ 1.47474747,  2.52525253],\n        [ 1.47474747,  2.52525253],\n        [ 0.36868687,  0.63131313],\n        [ 2.21212121,  3.78787879],\n        [ 0.36868687,  0.63131313],\n        [ 2.94949495,  5.05050505],\n        [ 0.36868687,  0.63131313],\n        [ 0.73737374,  1.26262626],\n        [ 0.36868687,  0.63131313],\n        [ 1.47474747,  2.52525253],\n        [ 0.36868687,  0.63131313],\n        [ 0.36868687,  0.63131313],\n        [ 0.36868687,  0.63131313],\n        [ 0.36868687,  0.63131313],\n        [ 1.47474747,  2.52525253],\n        [ 0.36868687,  0.63131313],\n        [ 2.58080808,  4.41919192],\n        [ 0.36868687,  0.63131313],\n        [ 0.73737374,  1.26262626],\n        [ 0.36868687,  0.63131313],\n        [ 1.84343434,  3.15656566],\n        [ 1.10606061,  1.89393939],\n        [ 1.47474747,  2.52525253],\n        [ 1.47474747,  2.52525253],\n        [ 4.05555556,  6.94444444],\n        [ 0.36868687,  0.63131313],\n        [ 0.73737374,  1.26262626],\n        [ 0.36868687,  0.63131313],\n        [ 1.47474747,  2.52525253],\n        [ 1.47474747,  2.52525253],\n        [ 0.73737374,  1.26262626],\n        [ 1.47474747,  2.52525253],\n        [ 3.68686869,  6.31313131],\n        [ 0.36868687,  0.63131313],\n        [ 0.73737374,  1.26262626],\n        [ 1.10606061,  1.89393939],\n        [ 1.10606061,  1.89393939],\n        [ 0.36868687,  0.63131313],\n        [ 1.84343434,  3.15656566],\n        [ 0.73737374,  1.26262626],\n        [ 1.47474747,  2.52525253],\n        [ 0.73737374,  1.26262626],\n        [ 0.36868687,  0.63131313],\n        [ 0.36868687,  0.63131313],\n        [ 2.58080808,  4.41919192],\n        [ 0.36868687,  0.63131313],\n        [ 1.10606061,  1.89393939],\n        [ 0.36868687,  0.63131313],\n        [ 2.21212121,  3.78787879],\n        [ 3.31818182,  5.68181818],\n        [ 1.10606061,  1.89393939],\n        [ 0.36868687,  0.63131313],\n        [ 1.47474747,  2.52525253],\n        [ 0.36868687,  0.63131313],\n        [ 0.36868687,  0.63131313],\n        [ 1.47474747,  2.52525253],\n        [ 2.21212121,  3.78787879],\n        [ 2.21212121,  3.78787879],\n        [ 2.58080808,  4.41919192],\n        [ 0.36868687,  0.63131313],\n        [ 0.36868687,  0.63131313],\n        [ 2.58080808,  4.41919192],\n        [ 2.58080808,  4.41919192],\n        [ 2.58080808,  4.41919192]]))"
     },
     "execution_count": 85,
     "metadata": {},
     "output_type": "execute_result"
    }
   ],
   "source": [
    "chi_square_test(ownership, 'Occupation', 'Car')"
   ],
   "metadata": {
    "collapsed": false,
    "ExecuteTime": {
     "end_time": "2024-11-28T12:11:38.746000200Z",
     "start_time": "2024-11-28T12:11:38.726316500Z"
    }
   },
   "id": "763518343ecba675",
   "execution_count": 85
  },
  {
   "cell_type": "code",
   "outputs": [
    {
     "name": "stdout",
     "output_type": "stream",
     "text": [
      "Contingency Table:\n",
      "Car             No  Yes\n",
      "Finance_Status         \n",
      "Excellent        3    8\n",
      "Fair            10    4\n",
      "Good             3   10\n",
      "Poor             4    0\n",
      "Stable          49  220\n",
      "Unknown         10    3\n",
      "Unstable        67    5\n",
      "\n",
      "Chi-square statistic: 162.3593\n",
      "p-value: 0.0000\n",
      "Degrees of freedom: 6\n"
     ]
    },
    {
     "data": {
      "text/plain": "(162.35931369073967,\n 1.8736391064028802e-32,\n 6,\n array([[  4.05555556,   6.94444444],\n        [  5.16161616,   8.83838384],\n        [  4.79292929,   8.20707071],\n        [  1.47474747,   2.52525253],\n        [ 99.17676768, 169.82323232],\n        [  4.79292929,   8.20707071],\n        [ 26.54545455,  45.45454545]]))"
     },
     "execution_count": 92,
     "metadata": {},
     "output_type": "execute_result"
    }
   ],
   "source": [
    "chi_square_test(ownership, 'Finance_Status', 'Car')"
   ],
   "metadata": {
    "collapsed": false,
    "ExecuteTime": {
     "end_time": "2024-11-28T12:32:53.269802400Z",
     "start_time": "2024-11-28T12:32:53.253216900Z"
    }
   },
   "id": "90d0186f316ffb69",
   "execution_count": 92
  },
  {
   "cell_type": "code",
   "outputs": [],
   "source": [
    "ownership_tt = ownership.__deepcopy__()\n",
    "ownership_tt['Car']= ownership_tt['Car'].replace({'Yes': 1, 'No': 0}).astype(int)"
   ],
   "metadata": {
    "collapsed": false,
    "ExecuteTime": {
     "end_time": "2024-11-28T12:33:07.252069Z",
     "start_time": "2024-11-28T12:33:07.248760900Z"
    }
   },
   "id": "b0a8b988c7afc0b5",
   "execution_count": 93
  },
  {
   "cell_type": "code",
   "outputs": [
    {
     "name": "stdout",
     "output_type": "stream",
     "text": [
      "T-statistic: 16.1754\n",
      "P-value: 0.0000\n"
     ]
    },
    {
     "data": {
      "text/plain": "(16.175410175636937, 1.70182323635391e-45)"
     },
     "execution_count": 96,
     "metadata": {},
     "output_type": "execute_result"
    }
   ],
   "source": [
    "t_test(ownership_tt, 'Car', 'Years_of_Employment')"
   ],
   "metadata": {
    "collapsed": false,
    "ExecuteTime": {
     "end_time": "2024-11-28T12:34:58.916413800Z",
     "start_time": "2024-11-28T12:34:58.902175200Z"
    }
   },
   "id": "5ce2eed85fb39b17",
   "execution_count": 96
  }
 ],
 "metadata": {
  "kernelspec": {
   "display_name": "Python 3",
   "language": "python",
   "name": "python3"
  },
  "language_info": {
   "codemirror_mode": {
    "name": "ipython",
    "version": 2
   },
   "file_extension": ".py",
   "mimetype": "text/x-python",
   "name": "python",
   "nbconvert_exporter": "python",
   "pygments_lexer": "ipython2",
   "version": "2.7.6"
  }
 },
 "nbformat": 4,
 "nbformat_minor": 5
}
