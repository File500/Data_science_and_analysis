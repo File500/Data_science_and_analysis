{
 "cells": [
  {
   "cell_type": "code",
   "execution_count": 7,
   "id": "initial_id",
   "metadata": {
    "collapsed": true,
    "ExecuteTime": {
     "end_time": "2024-11-27T19:25:27.820380900Z",
     "start_time": "2024-11-27T19:25:27.814834700Z"
    }
   },
   "outputs": [],
   "source": [
    "import numpy as np\n",
    "import statsmodels.tsa.stattools as stm\n",
    "import scipy.stats as sc\n",
    "import pandas as pd"
   ]
  },
  {
   "cell_type": "code",
   "outputs": [],
   "source": [
    "ownership = pd.read_csv(\"../../data/final_data/final_ownership_data.csv\")\n",
    "sales = pd.read_csv(\"../../data/final_data/final_sales_data.csv\")"
   ],
   "metadata": {
    "collapsed": false,
    "ExecuteTime": {
     "end_time": "2024-11-27T19:25:27.895519200Z",
     "start_time": "2024-11-27T19:25:27.819383300Z"
    }
   },
   "id": "a132f42033a883a6",
   "execution_count": 8
  },
  {
   "cell_type": "code",
   "outputs": [
    {
     "data": {
      "text/plain": "Index(['Unnamed: 0', '_c0', 'Occupation', 'Annual_Income', 'Credit_Score',\n       'Years_of_Employment', 'Finance_Status', 'Car', 'Number_of_Children'],\n      dtype='object')"
     },
     "execution_count": 12,
     "metadata": {},
     "output_type": "execute_result"
    }
   ],
   "source": [
    "ownership.columns"
   ],
   "metadata": {
    "collapsed": false,
    "ExecuteTime": {
     "end_time": "2024-11-27T19:29:27.904866500Z",
     "start_time": "2024-11-27T19:29:27.893771400Z"
    }
   },
   "id": "dd837f02c5ff67f6",
   "execution_count": 12
  },
  {
   "cell_type": "code",
   "outputs": [
    {
     "data": {
      "text/plain": "Index(['Unnamed: 0', '_c0', 'Car_id', 'Date', 'Gender', 'Annual_Income',\n       'Dealer_Name', 'Company', 'Model', 'Engine', 'Transmission', 'Color',\n       'Price', 'Dealer_No ', 'Body_Style', 'Phone', 'Dealer_Region', 'Month',\n       'Year'],\n      dtype='object')"
     },
     "execution_count": 11,
     "metadata": {},
     "output_type": "execute_result"
    }
   ],
   "source": [
    "sales.columns"
   ],
   "metadata": {
    "collapsed": false,
    "ExecuteTime": {
     "end_time": "2024-11-27T19:29:20.080740800Z",
     "start_time": "2024-11-27T19:29:20.064780100Z"
    }
   },
   "id": "8363927a9f49d033",
   "execution_count": 11
  }
 ],
 "metadata": {
  "kernelspec": {
   "display_name": "Python 3",
   "language": "python",
   "name": "python3"
  },
  "language_info": {
   "codemirror_mode": {
    "name": "ipython",
    "version": 2
   },
   "file_extension": ".py",
   "mimetype": "text/x-python",
   "name": "python",
   "nbconvert_exporter": "python",
   "pygments_lexer": "ipython2",
   "version": "2.7.6"
  }
 },
 "nbformat": 4,
 "nbformat_minor": 5
}
