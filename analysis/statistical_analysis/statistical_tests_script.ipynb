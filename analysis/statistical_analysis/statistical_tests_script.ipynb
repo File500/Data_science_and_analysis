{
 "cells": [
  {
   "cell_type": "code",
   "execution_count": 1,
   "id": "initial_id",
   "metadata": {
    "collapsed": true,
    "ExecuteTime": {
     "end_time": "2024-11-28T17:47:34.504113800Z",
     "start_time": "2024-11-28T17:47:32.518875700Z"
    }
   },
   "outputs": [],
   "source": [
    "import numpy as np\n",
    "from scipy import stats\n",
    "import statsmodels.api as sm\n",
    "from statsmodels.tsa.stattools import adfuller\n",
    "import pandas as pd"
   ]
  },
  {
   "cell_type": "code",
   "outputs": [],
   "source": [
    "def warn(*args, **kwargs):\n",
    "     pass\n",
    "import warnings\n",
    "warnings.warn = warn\n",
    "warnings.filterwarnings('ignore')"
   ],
   "metadata": {
    "collapsed": false,
    "ExecuteTime": {
     "end_time": "2024-11-28T17:47:34.511096300Z",
     "start_time": "2024-11-28T17:47:34.504113800Z"
    }
   },
   "id": "e01fb0ed74106030",
   "execution_count": 2
  },
  {
   "cell_type": "code",
   "outputs": [],
   "source": [
    "ownership = pd.read_csv(\"../../data/final_data/final_ownership_data.csv\")\n",
    "sales = pd.read_csv(\"../../data/final_data/final_sales_data.csv\")"
   ],
   "metadata": {
    "collapsed": false,
    "ExecuteTime": {
     "end_time": "2024-11-28T17:47:34.872246100Z",
     "start_time": "2024-11-28T17:47:34.510098100Z"
    }
   },
   "id": "a132f42033a883a6",
   "execution_count": 3
  },
  {
   "cell_type": "code",
   "outputs": [
    {
     "data": {
      "text/plain": "Index(['Unnamed: 0', '_c0', 'Occupation', 'Annual_Income', 'Credit_Score',\n       'Years_of_Employment', 'Finance_Status', 'Car', 'Number_of_Children'],\n      dtype='object')"
     },
     "execution_count": 4,
     "metadata": {},
     "output_type": "execute_result"
    }
   ],
   "source": [
    "ownership.columns"
   ],
   "metadata": {
    "collapsed": false,
    "ExecuteTime": {
     "end_time": "2024-11-28T17:47:34.880444800Z",
     "start_time": "2024-11-28T17:47:34.873210500Z"
    }
   },
   "id": "3952cab77e5782ab",
   "execution_count": 4
  },
  {
   "cell_type": "code",
   "outputs": [
    {
     "data": {
      "text/plain": "Index(['Unnamed: 0', '_c0', 'Car_id', 'Date', 'Gender', 'Annual_Income',\n       'Dealer_Name', 'Company', 'Model', 'Engine', 'Transmission', 'Color',\n       'Price', 'Dealer_No ', 'Body_Style', 'Phone', 'Dealer_Region', 'Month',\n       'Year'],\n      dtype='object')"
     },
     "execution_count": 5,
     "metadata": {},
     "output_type": "execute_result"
    }
   ],
   "source": [
    "sales.columns"
   ],
   "metadata": {
    "collapsed": false,
    "ExecuteTime": {
     "end_time": "2024-11-28T17:47:34.892575300Z",
     "start_time": "2024-11-28T17:47:34.882440200Z"
    }
   },
   "id": "3757bfbd53cf1a0a",
   "execution_count": 5
  },
  {
   "cell_type": "code",
   "outputs": [],
   "source": [
    "def t_test(df, column1, column2):\n",
    "     \"\"\"\n",
    "     t-test\n",
    "     \"\"\"\n",
    "     # Separate years of employment for car owners and non-owners\n",
    "     car_owners = df[df[column1] == True][column2]\n",
    "     non_car_owners = df[df[column1] == False][column2]\n",
    "\n",
    "     # Perform independent t-test\n",
    "     t_stat, p_value = stats.ttest_ind(car_owners, non_car_owners)\n",
    "\n",
    "     print(f\"T-statistic: {t_stat:.4f}\")\n",
    "     print(f\"P-value: {p_value:.4f}\")\n",
    "\n",
    "     return t_stat, p_value\n",
    "\n",
    "\n",
    "def chi_square_test(df, column1, column2):\n",
    "     \"\"\"\n",
    "     Performs chi-square test of independence between two categorical variables\n",
    "     \"\"\"\n",
    "     # Create contingency table\n",
    "     contingency = pd.crosstab(df[column1], df[column2])\n",
    "\n",
    "     # Perform chi-square test\n",
    "     chi2_stat, p_value, dof, expected = stats.chi2_contingency(contingency)\n",
    "\n",
    "     print(f\"Contingency Table:\\n{contingency}\\n\")\n",
    "     print(f\"Chi-square statistic: {chi2_stat:.4f}\")\n",
    "     print(f\"p-value: {p_value:.4f}\")\n",
    "     print(f\"Degrees of freedom: {dof}\")\n",
    "     return chi2_stat, p_value, dof, expected\n",
    "\n",
    "def two_way_anova(df, dependent_var, factor1, factor2):\n",
    "     \"\"\"\n",
    "     Performs two-way ANOVA test\n",
    "     \"\"\"\n",
    "     # Create groups based on factors\n",
    "     groups = []\n",
    "     for f1 in df[factor1].unique():\n",
    "          for f2 in df[factor2].unique():\n",
    "               group = df[(df[factor1] == f1) & (df[factor2] == f2)][dependent_var]\n",
    "               groups.append(group)\n",
    "\n",
    "     # Perform ANOVA\n",
    "     f_stat, p_value = stats.f_oneway(*groups)\n",
    "\n",
    "     print(f\"F-statistic: {f_stat:.4f}\")\n",
    "     print(f\"p-value: {p_value:.4f}\")\n",
    "     return f_stat, p_value\n",
    "\n",
    "def mann_whitney_test(df, numeric_column, binary_column):\n",
    "     \"\"\"\n",
    "     Performs Mann-Whitney U test between two groups\n",
    "     \"\"\"\n",
    "     group1 = df[df[binary_column] == True][numeric_column]\n",
    "     group2 = df[df[binary_column] == False][numeric_column]\n",
    "\n",
    "     # Perform test\n",
    "     stat, p_value = stats.mannwhitneyu(group1, group2, alternative='two-sided')\n",
    "\n",
    "     print(f\"Mann-Whitney U statistic: {stat:.4f}\")\n",
    "     print(f\"p-value: {p_value:.4f}\")\n",
    "     return stat, p_value\n",
    "\n",
    "def multiple_linear_regression(df, dependent_var, independent_vars):\n",
    "     \"\"\"\n",
    "     Performs multiple linear regression\n",
    "     \"\"\"\n",
    "     # Prepare the data\n",
    "     X = df[independent_vars]\n",
    "     # Add constant for intercept\n",
    "     X = sm.add_constant(X)\n",
    "     y = df[dependent_var]\n",
    "\n",
    "     # Fit the model\n",
    "     model = sm.OLS(y, X).fit()\n",
    "\n",
    "     print(model.summary())\n",
    "     return model\n",
    "\n",
    "def time_series_analysis(df, date_column, value_column):\n",
    "     \"\"\"\n",
    "     Performs Augmented Dickey-Fuller test for stationarity\n",
    "     \"\"\"\n",
    "     # Ensure data is sorted by date\n",
    "     df = df.sort_values(date_column)\n",
    "\n",
    "     # Perform ADF test\n",
    "     result = adfuller(df[value_column].values)\n",
    "\n",
    "     print('ADF Statistic:', result[0])\n",
    "     print('p-value:', result[1])\n",
    "     print('Critical values:')\n",
    "     for key, value in result[4].items():\n",
    "          print('\\t%s: %.3f' % (key, value))\n",
    "     return result\n"
   ],
   "metadata": {
    "collapsed": false,
    "ExecuteTime": {
     "end_time": "2024-11-28T17:47:34.956383600Z",
     "start_time": "2024-11-28T17:47:34.894570700Z"
    }
   },
   "id": "5b5af5fb91be2f5f",
   "execution_count": 6
  },
  {
   "cell_type": "code",
   "outputs": [
    {
     "name": "stdout",
     "output_type": "stream",
     "text": [
      "Contingency Table:\n",
      "Car                      No  Yes\n",
      "Occupation                      \n",
      "Account Executive         0    3\n",
      "Account Manager           0    2\n",
      "Accountant                1    8\n",
      "Architect                 1   10\n",
      "Art Director              0    1\n",
      "...                      ..  ...\n",
      "Veterinarian Technician   1    0\n",
      "Waiter/Waitress           1    0\n",
      "Web Designer              4    3\n",
      "Web Developer             1    6\n",
      "Writer                    7    0\n",
      "\n",
      "[116 rows x 2 columns]\n",
      "\n",
      "Chi-square statistic: 273.4004\n",
      "p-value: 0.0000\n",
      "Degrees of freedom: 115\n"
     ]
    },
    {
     "data": {
      "text/plain": "(273.4004148727985,\n 6.337285346434918e-15,\n 115,\n array([[ 1.10606061,  1.89393939],\n        [ 0.73737374,  1.26262626],\n        [ 3.31818182,  5.68181818],\n        [ 4.05555556,  6.94444444],\n        [ 0.36868687,  0.63131313],\n        [ 0.73737374,  1.26262626],\n        [ 0.36868687,  0.63131313],\n        [ 1.10606061,  1.89393939],\n        [ 0.36868687,  0.63131313],\n        [ 0.36868687,  0.63131313],\n        [ 1.10606061,  1.89393939],\n        [ 0.36868687,  0.63131313],\n        [ 0.73737374,  1.26262626],\n        [ 1.47474747,  2.52525253],\n        [ 8.84848485, 15.15151515],\n        [ 0.36868687,  0.63131313],\n        [ 0.36868687,  0.63131313],\n        [ 0.36868687,  0.63131313],\n        [ 1.47474747,  2.52525253],\n        [ 0.36868687,  0.63131313],\n        [ 0.73737374,  1.26262626],\n        [ 2.21212121,  3.78787879],\n        [ 0.36868687,  0.63131313],\n        [ 1.10606061,  1.89393939],\n        [ 1.84343434,  3.15656566],\n        [ 1.10606061,  1.89393939],\n        [ 2.58080808,  4.41919192],\n        [ 0.36868687,  0.63131313],\n        [ 0.36868687,  0.63131313],\n        [ 1.10606061,  1.89393939],\n        [ 0.36868687,  0.63131313],\n        [ 5.53030303,  9.46969697],\n        [ 0.36868687,  0.63131313],\n        [ 1.84343434,  3.15656566],\n        [ 0.73737374,  1.26262626],\n        [ 1.10606061,  1.89393939],\n        [ 1.10606061,  1.89393939],\n        [ 0.73737374,  1.26262626],\n        [ 1.84343434,  3.15656566],\n        [ 2.21212121,  3.78787879],\n        [ 0.36868687,  0.63131313],\n        [ 0.36868687,  0.63131313],\n        [ 0.36868687,  0.63131313],\n        [ 0.36868687,  0.63131313],\n        [ 0.73737374,  1.26262626],\n        [ 0.36868687,  0.63131313],\n        [ 5.53030303,  9.46969697],\n        [ 1.10606061,  1.89393939],\n        [ 0.36868687,  0.63131313],\n        [ 0.36868687,  0.63131313],\n        [ 0.73737374,  1.26262626],\n        [ 0.36868687,  0.63131313],\n        [ 1.47474747,  2.52525253],\n        [ 1.47474747,  2.52525253],\n        [ 0.36868687,  0.63131313],\n        [ 2.21212121,  3.78787879],\n        [ 0.36868687,  0.63131313],\n        [ 2.94949495,  5.05050505],\n        [ 0.36868687,  0.63131313],\n        [ 0.73737374,  1.26262626],\n        [ 0.36868687,  0.63131313],\n        [ 1.47474747,  2.52525253],\n        [ 0.36868687,  0.63131313],\n        [ 0.36868687,  0.63131313],\n        [ 0.36868687,  0.63131313],\n        [ 0.36868687,  0.63131313],\n        [ 1.47474747,  2.52525253],\n        [ 0.36868687,  0.63131313],\n        [ 2.58080808,  4.41919192],\n        [ 0.36868687,  0.63131313],\n        [ 0.73737374,  1.26262626],\n        [ 0.36868687,  0.63131313],\n        [ 1.84343434,  3.15656566],\n        [ 1.10606061,  1.89393939],\n        [ 1.47474747,  2.52525253],\n        [ 1.47474747,  2.52525253],\n        [ 4.05555556,  6.94444444],\n        [ 0.36868687,  0.63131313],\n        [ 0.73737374,  1.26262626],\n        [ 0.36868687,  0.63131313],\n        [ 1.47474747,  2.52525253],\n        [ 1.47474747,  2.52525253],\n        [ 0.73737374,  1.26262626],\n        [ 1.47474747,  2.52525253],\n        [ 3.68686869,  6.31313131],\n        [ 0.36868687,  0.63131313],\n        [ 0.73737374,  1.26262626],\n        [ 1.10606061,  1.89393939],\n        [ 1.10606061,  1.89393939],\n        [ 0.36868687,  0.63131313],\n        [ 1.84343434,  3.15656566],\n        [ 0.73737374,  1.26262626],\n        [ 1.47474747,  2.52525253],\n        [ 0.73737374,  1.26262626],\n        [ 0.36868687,  0.63131313],\n        [ 0.36868687,  0.63131313],\n        [ 2.58080808,  4.41919192],\n        [ 0.36868687,  0.63131313],\n        [ 1.10606061,  1.89393939],\n        [ 0.36868687,  0.63131313],\n        [ 2.21212121,  3.78787879],\n        [ 3.31818182,  5.68181818],\n        [ 1.10606061,  1.89393939],\n        [ 0.36868687,  0.63131313],\n        [ 1.47474747,  2.52525253],\n        [ 0.36868687,  0.63131313],\n        [ 0.36868687,  0.63131313],\n        [ 1.47474747,  2.52525253],\n        [ 2.21212121,  3.78787879],\n        [ 2.21212121,  3.78787879],\n        [ 2.58080808,  4.41919192],\n        [ 0.36868687,  0.63131313],\n        [ 0.36868687,  0.63131313],\n        [ 2.58080808,  4.41919192],\n        [ 2.58080808,  4.41919192],\n        [ 2.58080808,  4.41919192]]))"
     },
     "execution_count": 7,
     "metadata": {},
     "output_type": "execute_result"
    }
   ],
   "source": [
    "chi_square_test(ownership, 'Occupation', 'Car')"
   ],
   "metadata": {
    "collapsed": false,
    "ExecuteTime": {
     "end_time": "2024-11-28T17:47:34.975332300Z",
     "start_time": "2024-11-28T17:47:34.901506Z"
    }
   },
   "id": "763518343ecba675",
   "execution_count": 7
  },
  {
   "cell_type": "code",
   "outputs": [
    {
     "name": "stdout",
     "output_type": "stream",
     "text": [
      "Contingency Table:\n",
      "Car             No  Yes\n",
      "Finance_Status         \n",
      "Excellent        3    8\n",
      "Fair            10    4\n",
      "Good             3   10\n",
      "Poor             4    0\n",
      "Stable          49  220\n",
      "Unknown         10    3\n",
      "Unstable        67    5\n",
      "\n",
      "Chi-square statistic: 162.3593\n",
      "p-value: 0.0000\n",
      "Degrees of freedom: 6\n"
     ]
    },
    {
     "data": {
      "text/plain": "(162.35931369073967,\n 1.8736391064028802e-32,\n 6,\n array([[  4.05555556,   6.94444444],\n        [  5.16161616,   8.83838384],\n        [  4.79292929,   8.20707071],\n        [  1.47474747,   2.52525253],\n        [ 99.17676768, 169.82323232],\n        [  4.79292929,   8.20707071],\n        [ 26.54545455,  45.45454545]]))"
     },
     "execution_count": 8,
     "metadata": {},
     "output_type": "execute_result"
    }
   ],
   "source": [
    "chi_square_test(ownership, 'Finance_Status', 'Car')"
   ],
   "metadata": {
    "collapsed": false,
    "ExecuteTime": {
     "end_time": "2024-11-28T17:47:34.977327200Z",
     "start_time": "2024-11-28T17:47:34.922805300Z"
    }
   },
   "id": "90d0186f316ffb69",
   "execution_count": 8
  },
  {
   "cell_type": "code",
   "outputs": [],
   "source": [
    "ownership_tt = ownership.__deepcopy__()\n",
    "ownership_tt['Car']= ownership_tt['Car'].replace({'Yes': 1, 'No': 0}).astype(int)"
   ],
   "metadata": {
    "collapsed": false,
    "ExecuteTime": {
     "end_time": "2024-11-28T17:47:34.977327200Z",
     "start_time": "2024-11-28T17:47:34.935151Z"
    }
   },
   "id": "b0a8b988c7afc0b5",
   "execution_count": 9
  },
  {
   "cell_type": "code",
   "outputs": [
    {
     "name": "stdout",
     "output_type": "stream",
     "text": [
      "T-statistic: 16.1754\n",
      "P-value: 0.0000\n"
     ]
    },
    {
     "data": {
      "text/plain": "(16.175410175636937, 1.70182323635391e-45)"
     },
     "execution_count": 10,
     "metadata": {},
     "output_type": "execute_result"
    }
   ],
   "source": [
    "t_test(ownership_tt, 'Car', 'Years_of_Employment')"
   ],
   "metadata": {
    "collapsed": false,
    "ExecuteTime": {
     "end_time": "2024-11-28T17:47:34.985305600Z",
     "start_time": "2024-11-28T17:47:34.940675400Z"
    }
   },
   "id": "5ce2eed85fb39b17",
   "execution_count": 10
  },
  {
   "cell_type": "code",
   "outputs": [
    {
     "name": "stdout",
     "output_type": "stream",
     "text": [
      "Contingency Table:\n",
      "Number_of_Children  -1   0   1   2   3   4\n",
      "Car                                       \n",
      "No                  42  38  32  25   8   1\n",
      "Yes                 37  74  68  62   9   0\n",
      "\n",
      "Chi-square statistic: 15.3907\n",
      "p-value: 0.0088\n",
      "Degrees of freedom: 5\n"
     ]
    },
    {
     "data": {
      "text/plain": "(15.390747852416434,\n 0.008816920421520028,\n 5,\n array([[29.12626263, 41.29292929, 36.86868687, 32.07575758,  6.26767677,\n          0.36868687],\n        [49.87373737, 70.70707071, 63.13131313, 54.92424242, 10.73232323,\n          0.63131313]]))"
     },
     "execution_count": 11,
     "metadata": {},
     "output_type": "execute_result"
    }
   ],
   "source": [
    "chi_square_test(ownership, 'Car', 'Number_of_Children')"
   ],
   "metadata": {
    "collapsed": false,
    "ExecuteTime": {
     "end_time": "2024-11-28T17:48:34.570097100Z",
     "start_time": "2024-11-28T17:48:34.524265300Z"
    }
   },
   "id": "d2590444f821b088",
   "execution_count": 11
  },
  {
   "cell_type": "code",
   "outputs": [
    {
     "name": "stdout",
     "output_type": "stream",
     "text": [
      "Mann-Whitney U statistic: 32367.5000\n",
      "p-value: 0.0000\n"
     ]
    },
    {
     "data": {
      "text/plain": "(32367.5, 8.075407838854787e-38)"
     },
     "execution_count": 12,
     "metadata": {},
     "output_type": "execute_result"
    }
   ],
   "source": [
    "mann_whitney_test(ownership_tt, 'Annual_Income', 'Car')"
   ],
   "metadata": {
    "collapsed": false,
    "ExecuteTime": {
     "end_time": "2024-11-28T17:50:50.569852600Z",
     "start_time": "2024-11-28T17:50:50.559484600Z"
    }
   },
   "id": "4e702cc76597e937",
   "execution_count": 12
  },
  {
   "cell_type": "code",
   "outputs": [
    {
     "ename": "ValueError",
     "evalue": "Pandas data cast to numpy dtype of object. Check input data with np.asarray(data).",
     "output_type": "error",
     "traceback": [
      "\u001B[1;31m---------------------------------------------------------------------------\u001B[0m",
      "\u001B[1;31mValueError\u001B[0m                                Traceback (most recent call last)",
      "Cell \u001B[1;32mIn[13], line 1\u001B[0m\n\u001B[1;32m----> 1\u001B[0m \u001B[43mmultiple_linear_regression\u001B[49m\u001B[43m(\u001B[49m\u001B[43msales\u001B[49m\u001B[43m,\u001B[49m\u001B[43m \u001B[49m\u001B[38;5;124;43m'\u001B[39;49m\u001B[38;5;124;43mGender\u001B[39;49m\u001B[38;5;124;43m'\u001B[39;49m\u001B[43m,\u001B[49m\u001B[43m \u001B[49m\u001B[43m[\u001B[49m\u001B[38;5;124;43m'\u001B[39;49m\u001B[38;5;124;43mAnnual_Income\u001B[39;49m\u001B[38;5;124;43m'\u001B[39;49m\u001B[43m,\u001B[49m\u001B[43m \u001B[49m\u001B[38;5;124;43m'\u001B[39;49m\u001B[38;5;124;43mPrice\u001B[39;49m\u001B[38;5;124;43m'\u001B[39;49m\u001B[43m]\u001B[49m\u001B[43m)\u001B[49m\n",
      "Cell \u001B[1;32mIn[6], line 77\u001B[0m, in \u001B[0;36mmultiple_linear_regression\u001B[1;34m(df, dependent_var, independent_vars)\u001B[0m\n\u001B[0;32m     74\u001B[0m y \u001B[38;5;241m=\u001B[39m df[dependent_var]\n\u001B[0;32m     76\u001B[0m \u001B[38;5;66;03m# Fit the model\u001B[39;00m\n\u001B[1;32m---> 77\u001B[0m model \u001B[38;5;241m=\u001B[39m \u001B[43msm\u001B[49m\u001B[38;5;241;43m.\u001B[39;49m\u001B[43mOLS\u001B[49m\u001B[43m(\u001B[49m\u001B[43my\u001B[49m\u001B[43m,\u001B[49m\u001B[43m \u001B[49m\u001B[43mX\u001B[49m\u001B[43m)\u001B[49m\u001B[38;5;241m.\u001B[39mfit()\n\u001B[0;32m     79\u001B[0m \u001B[38;5;28mprint\u001B[39m(model\u001B[38;5;241m.\u001B[39msummary())\n\u001B[0;32m     80\u001B[0m \u001B[38;5;28;01mreturn\u001B[39;00m model\n",
      "File \u001B[1;32m~\\AppData\\Local\\Programs\\Python\\Python311\\Lib\\site-packages\\statsmodels\\regression\\linear_model.py:924\u001B[0m, in \u001B[0;36mOLS.__init__\u001B[1;34m(self, endog, exog, missing, hasconst, **kwargs)\u001B[0m\n\u001B[0;32m    921\u001B[0m     msg \u001B[38;5;241m=\u001B[39m (\u001B[38;5;124m\"\u001B[39m\u001B[38;5;124mWeights are not supported in OLS and will be ignored\u001B[39m\u001B[38;5;124m\"\u001B[39m\n\u001B[0;32m    922\u001B[0m            \u001B[38;5;124m\"\u001B[39m\u001B[38;5;124mAn exception will be raised in the next version.\u001B[39m\u001B[38;5;124m\"\u001B[39m)\n\u001B[0;32m    923\u001B[0m     warnings\u001B[38;5;241m.\u001B[39mwarn(msg, ValueWarning)\n\u001B[1;32m--> 924\u001B[0m \u001B[38;5;28;43msuper\u001B[39;49m\u001B[43m(\u001B[49m\u001B[43m)\u001B[49m\u001B[38;5;241;43m.\u001B[39;49m\u001B[38;5;21;43m__init__\u001B[39;49m\u001B[43m(\u001B[49m\u001B[43mendog\u001B[49m\u001B[43m,\u001B[49m\u001B[43m \u001B[49m\u001B[43mexog\u001B[49m\u001B[43m,\u001B[49m\u001B[43m \u001B[49m\u001B[43mmissing\u001B[49m\u001B[38;5;241;43m=\u001B[39;49m\u001B[43mmissing\u001B[49m\u001B[43m,\u001B[49m\n\u001B[0;32m    925\u001B[0m \u001B[43m                          \u001B[49m\u001B[43mhasconst\u001B[49m\u001B[38;5;241;43m=\u001B[39;49m\u001B[43mhasconst\u001B[49m\u001B[43m,\u001B[49m\u001B[43m \u001B[49m\u001B[38;5;241;43m*\u001B[39;49m\u001B[38;5;241;43m*\u001B[39;49m\u001B[43mkwargs\u001B[49m\u001B[43m)\u001B[49m\n\u001B[0;32m    926\u001B[0m \u001B[38;5;28;01mif\u001B[39;00m \u001B[38;5;124m\"\u001B[39m\u001B[38;5;124mweights\u001B[39m\u001B[38;5;124m\"\u001B[39m \u001B[38;5;129;01min\u001B[39;00m \u001B[38;5;28mself\u001B[39m\u001B[38;5;241m.\u001B[39m_init_keys:\n\u001B[0;32m    927\u001B[0m     \u001B[38;5;28mself\u001B[39m\u001B[38;5;241m.\u001B[39m_init_keys\u001B[38;5;241m.\u001B[39mremove(\u001B[38;5;124m\"\u001B[39m\u001B[38;5;124mweights\u001B[39m\u001B[38;5;124m\"\u001B[39m)\n",
      "File \u001B[1;32m~\\AppData\\Local\\Programs\\Python\\Python311\\Lib\\site-packages\\statsmodels\\regression\\linear_model.py:749\u001B[0m, in \u001B[0;36mWLS.__init__\u001B[1;34m(self, endog, exog, weights, missing, hasconst, **kwargs)\u001B[0m\n\u001B[0;32m    747\u001B[0m \u001B[38;5;28;01melse\u001B[39;00m:\n\u001B[0;32m    748\u001B[0m     weights \u001B[38;5;241m=\u001B[39m weights\u001B[38;5;241m.\u001B[39msqueeze()\n\u001B[1;32m--> 749\u001B[0m \u001B[38;5;28;43msuper\u001B[39;49m\u001B[43m(\u001B[49m\u001B[43m)\u001B[49m\u001B[38;5;241;43m.\u001B[39;49m\u001B[38;5;21;43m__init__\u001B[39;49m\u001B[43m(\u001B[49m\u001B[43mendog\u001B[49m\u001B[43m,\u001B[49m\u001B[43m \u001B[49m\u001B[43mexog\u001B[49m\u001B[43m,\u001B[49m\u001B[43m \u001B[49m\u001B[43mmissing\u001B[49m\u001B[38;5;241;43m=\u001B[39;49m\u001B[43mmissing\u001B[49m\u001B[43m,\u001B[49m\n\u001B[0;32m    750\u001B[0m \u001B[43m                          \u001B[49m\u001B[43mweights\u001B[49m\u001B[38;5;241;43m=\u001B[39;49m\u001B[43mweights\u001B[49m\u001B[43m,\u001B[49m\u001B[43m \u001B[49m\u001B[43mhasconst\u001B[49m\u001B[38;5;241;43m=\u001B[39;49m\u001B[43mhasconst\u001B[49m\u001B[43m,\u001B[49m\u001B[43m \u001B[49m\u001B[38;5;241;43m*\u001B[39;49m\u001B[38;5;241;43m*\u001B[39;49m\u001B[43mkwargs\u001B[49m\u001B[43m)\u001B[49m\n\u001B[0;32m    751\u001B[0m nobs \u001B[38;5;241m=\u001B[39m \u001B[38;5;28mself\u001B[39m\u001B[38;5;241m.\u001B[39mexog\u001B[38;5;241m.\u001B[39mshape[\u001B[38;5;241m0\u001B[39m]\n\u001B[0;32m    752\u001B[0m weights \u001B[38;5;241m=\u001B[39m \u001B[38;5;28mself\u001B[39m\u001B[38;5;241m.\u001B[39mweights\n",
      "File \u001B[1;32m~\\AppData\\Local\\Programs\\Python\\Python311\\Lib\\site-packages\\statsmodels\\regression\\linear_model.py:203\u001B[0m, in \u001B[0;36mRegressionModel.__init__\u001B[1;34m(self, endog, exog, **kwargs)\u001B[0m\n\u001B[0;32m    202\u001B[0m \u001B[38;5;28;01mdef\u001B[39;00m \u001B[38;5;21m__init__\u001B[39m(\u001B[38;5;28mself\u001B[39m, endog, exog, \u001B[38;5;241m*\u001B[39m\u001B[38;5;241m*\u001B[39mkwargs):\n\u001B[1;32m--> 203\u001B[0m     \u001B[38;5;28;43msuper\u001B[39;49m\u001B[43m(\u001B[49m\u001B[43m)\u001B[49m\u001B[38;5;241;43m.\u001B[39;49m\u001B[38;5;21;43m__init__\u001B[39;49m\u001B[43m(\u001B[49m\u001B[43mendog\u001B[49m\u001B[43m,\u001B[49m\u001B[43m \u001B[49m\u001B[43mexog\u001B[49m\u001B[43m,\u001B[49m\u001B[43m \u001B[49m\u001B[38;5;241;43m*\u001B[39;49m\u001B[38;5;241;43m*\u001B[39;49m\u001B[43mkwargs\u001B[49m\u001B[43m)\u001B[49m\n\u001B[0;32m    204\u001B[0m     \u001B[38;5;28mself\u001B[39m\u001B[38;5;241m.\u001B[39mpinv_wexog: Float64Array \u001B[38;5;241m|\u001B[39m \u001B[38;5;28;01mNone\u001B[39;00m \u001B[38;5;241m=\u001B[39m \u001B[38;5;28;01mNone\u001B[39;00m\n\u001B[0;32m    205\u001B[0m     \u001B[38;5;28mself\u001B[39m\u001B[38;5;241m.\u001B[39m_data_attr\u001B[38;5;241m.\u001B[39mextend([\u001B[38;5;124m'\u001B[39m\u001B[38;5;124mpinv_wexog\u001B[39m\u001B[38;5;124m'\u001B[39m, \u001B[38;5;124m'\u001B[39m\u001B[38;5;124mwendog\u001B[39m\u001B[38;5;124m'\u001B[39m, \u001B[38;5;124m'\u001B[39m\u001B[38;5;124mwexog\u001B[39m\u001B[38;5;124m'\u001B[39m, \u001B[38;5;124m'\u001B[39m\u001B[38;5;124mweights\u001B[39m\u001B[38;5;124m'\u001B[39m])\n",
      "File \u001B[1;32m~\\AppData\\Local\\Programs\\Python\\Python311\\Lib\\site-packages\\statsmodels\\base\\model.py:270\u001B[0m, in \u001B[0;36mLikelihoodModel.__init__\u001B[1;34m(self, endog, exog, **kwargs)\u001B[0m\n\u001B[0;32m    269\u001B[0m \u001B[38;5;28;01mdef\u001B[39;00m \u001B[38;5;21m__init__\u001B[39m(\u001B[38;5;28mself\u001B[39m, endog, exog\u001B[38;5;241m=\u001B[39m\u001B[38;5;28;01mNone\u001B[39;00m, \u001B[38;5;241m*\u001B[39m\u001B[38;5;241m*\u001B[39mkwargs):\n\u001B[1;32m--> 270\u001B[0m     \u001B[38;5;28;43msuper\u001B[39;49m\u001B[43m(\u001B[49m\u001B[43m)\u001B[49m\u001B[38;5;241;43m.\u001B[39;49m\u001B[38;5;21;43m__init__\u001B[39;49m\u001B[43m(\u001B[49m\u001B[43mendog\u001B[49m\u001B[43m,\u001B[49m\u001B[43m \u001B[49m\u001B[43mexog\u001B[49m\u001B[43m,\u001B[49m\u001B[43m \u001B[49m\u001B[38;5;241;43m*\u001B[39;49m\u001B[38;5;241;43m*\u001B[39;49m\u001B[43mkwargs\u001B[49m\u001B[43m)\u001B[49m\n\u001B[0;32m    271\u001B[0m     \u001B[38;5;28mself\u001B[39m\u001B[38;5;241m.\u001B[39minitialize()\n",
      "File \u001B[1;32m~\\AppData\\Local\\Programs\\Python\\Python311\\Lib\\site-packages\\statsmodels\\base\\model.py:95\u001B[0m, in \u001B[0;36mModel.__init__\u001B[1;34m(self, endog, exog, **kwargs)\u001B[0m\n\u001B[0;32m     93\u001B[0m missing \u001B[38;5;241m=\u001B[39m kwargs\u001B[38;5;241m.\u001B[39mpop(\u001B[38;5;124m'\u001B[39m\u001B[38;5;124mmissing\u001B[39m\u001B[38;5;124m'\u001B[39m, \u001B[38;5;124m'\u001B[39m\u001B[38;5;124mnone\u001B[39m\u001B[38;5;124m'\u001B[39m)\n\u001B[0;32m     94\u001B[0m hasconst \u001B[38;5;241m=\u001B[39m kwargs\u001B[38;5;241m.\u001B[39mpop(\u001B[38;5;124m'\u001B[39m\u001B[38;5;124mhasconst\u001B[39m\u001B[38;5;124m'\u001B[39m, \u001B[38;5;28;01mNone\u001B[39;00m)\n\u001B[1;32m---> 95\u001B[0m \u001B[38;5;28mself\u001B[39m\u001B[38;5;241m.\u001B[39mdata \u001B[38;5;241m=\u001B[39m \u001B[38;5;28;43mself\u001B[39;49m\u001B[38;5;241;43m.\u001B[39;49m\u001B[43m_handle_data\u001B[49m\u001B[43m(\u001B[49m\u001B[43mendog\u001B[49m\u001B[43m,\u001B[49m\u001B[43m \u001B[49m\u001B[43mexog\u001B[49m\u001B[43m,\u001B[49m\u001B[43m \u001B[49m\u001B[43mmissing\u001B[49m\u001B[43m,\u001B[49m\u001B[43m \u001B[49m\u001B[43mhasconst\u001B[49m\u001B[43m,\u001B[49m\n\u001B[0;32m     96\u001B[0m \u001B[43m                              \u001B[49m\u001B[38;5;241;43m*\u001B[39;49m\u001B[38;5;241;43m*\u001B[39;49m\u001B[43mkwargs\u001B[49m\u001B[43m)\u001B[49m\n\u001B[0;32m     97\u001B[0m \u001B[38;5;28mself\u001B[39m\u001B[38;5;241m.\u001B[39mk_constant \u001B[38;5;241m=\u001B[39m \u001B[38;5;28mself\u001B[39m\u001B[38;5;241m.\u001B[39mdata\u001B[38;5;241m.\u001B[39mk_constant\n\u001B[0;32m     98\u001B[0m \u001B[38;5;28mself\u001B[39m\u001B[38;5;241m.\u001B[39mexog \u001B[38;5;241m=\u001B[39m \u001B[38;5;28mself\u001B[39m\u001B[38;5;241m.\u001B[39mdata\u001B[38;5;241m.\u001B[39mexog\n",
      "File \u001B[1;32m~\\AppData\\Local\\Programs\\Python\\Python311\\Lib\\site-packages\\statsmodels\\base\\model.py:135\u001B[0m, in \u001B[0;36mModel._handle_data\u001B[1;34m(self, endog, exog, missing, hasconst, **kwargs)\u001B[0m\n\u001B[0;32m    134\u001B[0m \u001B[38;5;28;01mdef\u001B[39;00m \u001B[38;5;21m_handle_data\u001B[39m(\u001B[38;5;28mself\u001B[39m, endog, exog, missing, hasconst, \u001B[38;5;241m*\u001B[39m\u001B[38;5;241m*\u001B[39mkwargs):\n\u001B[1;32m--> 135\u001B[0m     data \u001B[38;5;241m=\u001B[39m \u001B[43mhandle_data\u001B[49m\u001B[43m(\u001B[49m\u001B[43mendog\u001B[49m\u001B[43m,\u001B[49m\u001B[43m \u001B[49m\u001B[43mexog\u001B[49m\u001B[43m,\u001B[49m\u001B[43m \u001B[49m\u001B[43mmissing\u001B[49m\u001B[43m,\u001B[49m\u001B[43m \u001B[49m\u001B[43mhasconst\u001B[49m\u001B[43m,\u001B[49m\u001B[43m \u001B[49m\u001B[38;5;241;43m*\u001B[39;49m\u001B[38;5;241;43m*\u001B[39;49m\u001B[43mkwargs\u001B[49m\u001B[43m)\u001B[49m\n\u001B[0;32m    136\u001B[0m     \u001B[38;5;66;03m# kwargs arrays could have changed, easier to just attach here\u001B[39;00m\n\u001B[0;32m    137\u001B[0m     \u001B[38;5;28;01mfor\u001B[39;00m key \u001B[38;5;129;01min\u001B[39;00m kwargs:\n",
      "File \u001B[1;32m~\\AppData\\Local\\Programs\\Python\\Python311\\Lib\\site-packages\\statsmodels\\base\\data.py:675\u001B[0m, in \u001B[0;36mhandle_data\u001B[1;34m(endog, exog, missing, hasconst, **kwargs)\u001B[0m\n\u001B[0;32m    672\u001B[0m     exog \u001B[38;5;241m=\u001B[39m np\u001B[38;5;241m.\u001B[39masarray(exog)\n\u001B[0;32m    674\u001B[0m klass \u001B[38;5;241m=\u001B[39m handle_data_class_factory(endog, exog)\n\u001B[1;32m--> 675\u001B[0m \u001B[38;5;28;01mreturn\u001B[39;00m \u001B[43mklass\u001B[49m\u001B[43m(\u001B[49m\u001B[43mendog\u001B[49m\u001B[43m,\u001B[49m\u001B[43m \u001B[49m\u001B[43mexog\u001B[49m\u001B[38;5;241;43m=\u001B[39;49m\u001B[43mexog\u001B[49m\u001B[43m,\u001B[49m\u001B[43m \u001B[49m\u001B[43mmissing\u001B[49m\u001B[38;5;241;43m=\u001B[39;49m\u001B[43mmissing\u001B[49m\u001B[43m,\u001B[49m\u001B[43m \u001B[49m\u001B[43mhasconst\u001B[49m\u001B[38;5;241;43m=\u001B[39;49m\u001B[43mhasconst\u001B[49m\u001B[43m,\u001B[49m\n\u001B[0;32m    676\u001B[0m \u001B[43m             \u001B[49m\u001B[38;5;241;43m*\u001B[39;49m\u001B[38;5;241;43m*\u001B[39;49m\u001B[43mkwargs\u001B[49m\u001B[43m)\u001B[49m\n",
      "File \u001B[1;32m~\\AppData\\Local\\Programs\\Python\\Python311\\Lib\\site-packages\\statsmodels\\base\\data.py:84\u001B[0m, in \u001B[0;36mModelData.__init__\u001B[1;34m(self, endog, exog, missing, hasconst, **kwargs)\u001B[0m\n\u001B[0;32m     82\u001B[0m     \u001B[38;5;28mself\u001B[39m\u001B[38;5;241m.\u001B[39morig_endog \u001B[38;5;241m=\u001B[39m endog\n\u001B[0;32m     83\u001B[0m     \u001B[38;5;28mself\u001B[39m\u001B[38;5;241m.\u001B[39morig_exog \u001B[38;5;241m=\u001B[39m exog\n\u001B[1;32m---> 84\u001B[0m     \u001B[38;5;28mself\u001B[39m\u001B[38;5;241m.\u001B[39mendog, \u001B[38;5;28mself\u001B[39m\u001B[38;5;241m.\u001B[39mexog \u001B[38;5;241m=\u001B[39m \u001B[38;5;28;43mself\u001B[39;49m\u001B[38;5;241;43m.\u001B[39;49m\u001B[43m_convert_endog_exog\u001B[49m\u001B[43m(\u001B[49m\u001B[43mendog\u001B[49m\u001B[43m,\u001B[49m\u001B[43m \u001B[49m\u001B[43mexog\u001B[49m\u001B[43m)\u001B[49m\n\u001B[0;32m     86\u001B[0m \u001B[38;5;28mself\u001B[39m\u001B[38;5;241m.\u001B[39mconst_idx \u001B[38;5;241m=\u001B[39m \u001B[38;5;28;01mNone\u001B[39;00m\n\u001B[0;32m     87\u001B[0m \u001B[38;5;28mself\u001B[39m\u001B[38;5;241m.\u001B[39mk_constant \u001B[38;5;241m=\u001B[39m \u001B[38;5;241m0\u001B[39m\n",
      "File \u001B[1;32m~\\AppData\\Local\\Programs\\Python\\Python311\\Lib\\site-packages\\statsmodels\\base\\data.py:509\u001B[0m, in \u001B[0;36mPandasData._convert_endog_exog\u001B[1;34m(self, endog, exog)\u001B[0m\n\u001B[0;32m    507\u001B[0m exog \u001B[38;5;241m=\u001B[39m exog \u001B[38;5;28;01mif\u001B[39;00m exog \u001B[38;5;129;01mis\u001B[39;00m \u001B[38;5;28;01mNone\u001B[39;00m \u001B[38;5;28;01melse\u001B[39;00m np\u001B[38;5;241m.\u001B[39masarray(exog)\n\u001B[0;32m    508\u001B[0m \u001B[38;5;28;01mif\u001B[39;00m endog\u001B[38;5;241m.\u001B[39mdtype \u001B[38;5;241m==\u001B[39m \u001B[38;5;28mobject\u001B[39m \u001B[38;5;129;01mor\u001B[39;00m exog \u001B[38;5;129;01mis\u001B[39;00m \u001B[38;5;129;01mnot\u001B[39;00m \u001B[38;5;28;01mNone\u001B[39;00m \u001B[38;5;129;01mand\u001B[39;00m exog\u001B[38;5;241m.\u001B[39mdtype \u001B[38;5;241m==\u001B[39m \u001B[38;5;28mobject\u001B[39m:\n\u001B[1;32m--> 509\u001B[0m     \u001B[38;5;28;01mraise\u001B[39;00m \u001B[38;5;167;01mValueError\u001B[39;00m(\u001B[38;5;124m\"\u001B[39m\u001B[38;5;124mPandas data cast to numpy dtype of object. \u001B[39m\u001B[38;5;124m\"\u001B[39m\n\u001B[0;32m    510\u001B[0m                      \u001B[38;5;124m\"\u001B[39m\u001B[38;5;124mCheck input data with np.asarray(data).\u001B[39m\u001B[38;5;124m\"\u001B[39m)\n\u001B[0;32m    511\u001B[0m \u001B[38;5;28;01mreturn\u001B[39;00m \u001B[38;5;28msuper\u001B[39m()\u001B[38;5;241m.\u001B[39m_convert_endog_exog(endog, exog)\n",
      "\u001B[1;31mValueError\u001B[0m: Pandas data cast to numpy dtype of object. Check input data with np.asarray(data)."
     ]
    }
   ],
   "source": [
    "# multiple_linear_regression(sales, 'Gender', ['Annual_Income', 'Price']) # WIP"
   ],
   "metadata": {
    "collapsed": false,
    "ExecuteTime": {
     "end_time": "2024-11-28T17:53:40.383375800Z",
     "start_time": "2024-11-28T17:53:39.492917500Z"
    }
   },
   "id": "87dd62aac5799c6d",
   "execution_count": 13
  }
 ],
 "metadata": {
  "kernelspec": {
   "display_name": "Python 3",
   "language": "python",
   "name": "python3"
  },
  "language_info": {
   "codemirror_mode": {
    "name": "ipython",
    "version": 2
   },
   "file_extension": ".py",
   "mimetype": "text/x-python",
   "name": "python",
   "nbconvert_exporter": "python",
   "pygments_lexer": "ipython2",
   "version": "2.7.6"
  }
 },
 "nbformat": 4,
 "nbformat_minor": 5
}
