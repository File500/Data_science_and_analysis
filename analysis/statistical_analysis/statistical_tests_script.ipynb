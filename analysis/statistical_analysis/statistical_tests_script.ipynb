{
 "cells": [
  {
   "cell_type": "code",
   "execution_count": 30,
   "id": "initial_id",
   "metadata": {
    "collapsed": true,
    "ExecuteTime": {
     "end_time": "2024-11-29T12:23:36.367359Z",
     "start_time": "2024-11-29T12:23:36.359198600Z"
    }
   },
   "outputs": [],
   "source": [
    "import numpy as np\n",
    "from scipy import stats\n",
    "import statsmodels.api as sm\n",
    "from statsmodels.tsa.stattools import adfuller\n",
    "from statsmodels.stats.multicomp import pairwise_tukeyhsd\n",
    "from statsmodels.formula.api import logit\n",
    "import pandas as pd"
   ]
  },
  {
   "cell_type": "code",
   "outputs": [],
   "source": [
    "def warn(*args, **kwargs):\n",
    "     pass\n",
    "import warnings\n",
    "warnings.warn = warn\n",
    "warnings.filterwarnings('ignore')"
   ],
   "metadata": {
    "collapsed": false,
    "ExecuteTime": {
     "end_time": "2024-11-29T12:23:36.373833600Z",
     "start_time": "2024-11-29T12:23:36.370352100Z"
    }
   },
   "id": "e01fb0ed74106030",
   "execution_count": 31
  },
  {
   "cell_type": "code",
   "outputs": [],
   "source": [
    "ownership = pd.read_csv(\"../../data/final_data/final_ownership_data.csv\")\n",
    "sales = pd.read_csv(\"../../data/final_data/final_sales_data.csv\")"
   ],
   "metadata": {
    "collapsed": false,
    "ExecuteTime": {
     "end_time": "2024-11-29T12:23:36.452450400Z",
     "start_time": "2024-11-29T12:23:36.373833600Z"
    }
   },
   "id": "a132f42033a883a6",
   "execution_count": 32
  },
  {
   "cell_type": "code",
   "outputs": [
    {
     "data": {
      "text/plain": "Index(['Unnamed: 0', '_c0', 'Occupation', 'Annual_Income', 'Credit_Score',\n       'Years_of_Employment', 'Finance_Status', 'Car', 'Number_of_Children'],\n      dtype='object')"
     },
     "execution_count": 33,
     "metadata": {},
     "output_type": "execute_result"
    }
   ],
   "source": [
    "ownership.columns"
   ],
   "metadata": {
    "collapsed": false,
    "ExecuteTime": {
     "end_time": "2024-11-29T12:23:36.455445300Z",
     "start_time": "2024-11-29T12:23:36.451191300Z"
    }
   },
   "id": "3952cab77e5782ab",
   "execution_count": 33
  },
  {
   "cell_type": "code",
   "outputs": [
    {
     "data": {
      "text/plain": "Index(['Unnamed: 0', '_c0', 'Car_id', 'Date', 'Gender', 'Annual_Income',\n       'Dealer_Name', 'Company', 'Model', 'Engine', 'Transmission', 'Color',\n       'Price', 'Dealer_No ', 'Body_Style', 'Phone', 'Dealer_Region', 'Month',\n       'Year'],\n      dtype='object')"
     },
     "execution_count": 34,
     "metadata": {},
     "output_type": "execute_result"
    }
   ],
   "source": [
    "sales.columns"
   ],
   "metadata": {
    "collapsed": false,
    "ExecuteTime": {
     "end_time": "2024-11-29T12:23:36.509943800Z",
     "start_time": "2024-11-29T12:23:36.455445300Z"
    }
   },
   "id": "3757bfbd53cf1a0a",
   "execution_count": 34
  },
  {
   "cell_type": "code",
   "outputs": [],
   "source": [
    "def t_test(df, column1, column2):\n",
    "     \"\"\"\n",
    "     t-test\n",
    "     \"\"\"\n",
    "     # Separate years of employment for car owners and non-owners\n",
    "     car_owners = df[df[column1] == True][column2]\n",
    "     non_car_owners = df[df[column1] == False][column2]\n",
    "\n",
    "     # Perform independent t-test\n",
    "     t_stat, p_value = stats.ttest_ind(car_owners, non_car_owners)\n",
    "\n",
    "     print(f\"T-statistic: {t_stat:.4f}\")\n",
    "     print(f\"P-value: {p_value:.4f}\")\n",
    "\n",
    "     return t_stat, p_value\n",
    "\n",
    "\n",
    "def chi_square_test(df, column1, column2):\n",
    "     \"\"\"\n",
    "     Performs chi-square test of independence between two categorical variables\n",
    "     \"\"\"\n",
    "     # Create contingency table\n",
    "     contingency = pd.crosstab(df[column1], df[column2])\n",
    "\n",
    "     # Perform chi-square test\n",
    "     chi2_stat, p_value, dof, expected = stats.chi2_contingency(contingency)\n",
    "\n",
    "     print(f\"Contingency Table:\\n{contingency}\\n\")\n",
    "     print(f\"Chi-square statistic: {chi2_stat:.4f}\")\n",
    "     print(f\"p-value: {p_value:.4f}\")\n",
    "     print(f\"Degrees of freedom: {dof}\")\n",
    "     return chi2_stat, p_value, dof, expected\n",
    "\n",
    "def one_way_anova(df, numerical_column, categorical_column):\n",
    "     \"\"\"\n",
    "     Analyzes if there are significant differences in numerical_column across categorical_column using one-way ANOVA\n",
    "     \"\"\"\n",
    "\n",
    "     dealer_groups = [group[numerical_column].values for name, group in df.groupby(categorical_column)]\n",
    "\n",
    "     f_stat, p_value = stats.f_oneway(*dealer_groups)\n",
    "\n",
    "     dealer_stats = df.groupby(categorical_column)[numerical_column].agg([\n",
    "          ('mean', 'mean'),\n",
    "          ('std', 'std'),\n",
    "          ('count', 'count')\n",
    "     ]).round(2)\n",
    "\n",
    "     dealer_stats = dealer_stats.sort_values('mean', ascending=False)\n",
    "\n",
    "     print(\"\\nDealer Performance Analysis (One-way ANOVA)\")\n",
    "     print(\"-\" * 50)\n",
    "     print(f\"\\nDescriptive Statistics by {categorical_column}:\")\n",
    "     print(dealer_stats)\n",
    "     print(\"\\nANOVA Test Results:\")\n",
    "     print(f\"F-statistic: {f_stat:.4f}\")\n",
    "     print(f\"p-value: {p_value:.4f}\")\n",
    "\n",
    "     if p_value < 0.05:\n",
    "          print(\"\\nSince there are significant differences, performing Tukey's HSD test...\")\n",
    "\n",
    "          df_for_tukey = pd.DataFrame({\n",
    "               numerical_column: df[numerical_column],\n",
    "               categorical_column: df[categorical_column]\n",
    "          })\n",
    "\n",
    "          tukey = pairwise_tukeyhsd(df_for_tukey[numerical_column], df_for_tukey[categorical_column])\n",
    "\n",
    "          print(\"\\nTukey's HSD Test Results:\")\n",
    "          print(tukey)\n",
    "\n",
    "     return f_stat, p_value, dealer_stats\n",
    "\n",
    "def mann_whitney_test(df, numeric_column, binary_column):\n",
    "     \"\"\"\n",
    "     Performs Mann-Whitney U test between two groups\n",
    "     \"\"\"\n",
    "     group1 = df[df[binary_column] == True][numeric_column]\n",
    "     group2 = df[df[binary_column] == False][numeric_column]\n",
    "\n",
    "     # Perform test\n",
    "     stat, p_value = stats.mannwhitneyu(group1, group2, alternative='two-sided')\n",
    "\n",
    "     print(f\"Mann-Whitney U statistic: {stat:.4f}\")\n",
    "     print(f\"p-value: {p_value:.4f}\")\n",
    "     return stat, p_value\n",
    "\n",
    "def multiple_linear_regression(df, dependent_var, independent_vars):\n",
    "     \"\"\"\n",
    "     Performs multiple linear regression\n",
    "     \"\"\"\n",
    "     # Prepare the data\n",
    "     X = df[independent_vars]\n",
    "     # Add constant for intercept\n",
    "     X = sm.add_constant(X)\n",
    "     y = df[dependent_var]\n",
    "\n",
    "     # Fit the model\n",
    "     model = sm.OLS(y, X).fit()\n",
    "\n",
    "     print(model.summary())\n",
    "     return model\n",
    "\n",
    "def time_series_analysis(df, date_column, value_column):\n",
    "     \"\"\"\n",
    "     Performs Augmented Dickey-Fuller test for stationarity\n",
    "     \"\"\"\n",
    "     # Ensure data is sorted by date\n",
    "     df = df.sort_values(date_column)\n",
    "\n",
    "     # Perform ADF test\n",
    "     result = adfuller(df[value_column].values)\n",
    "\n",
    "     print('ADF Statistic:', result[0])\n",
    "     print('p-value:', result[1])\n",
    "     print('Critical values:')\n",
    "     for key, value in result[4].items():\n",
    "          print('\\t%s: %.3f' % (key, value))\n",
    "     return result\n"
   ],
   "metadata": {
    "collapsed": false,
    "ExecuteTime": {
     "end_time": "2024-11-29T12:23:36.510941600Z",
     "start_time": "2024-11-29T12:23:36.472268800Z"
    }
   },
   "id": "5b5af5fb91be2f5f",
   "execution_count": 35
  },
  {
   "cell_type": "code",
   "outputs": [
    {
     "name": "stdout",
     "output_type": "stream",
     "text": [
      "Contingency Table:\n",
      "Car                      No  Yes\n",
      "Occupation                      \n",
      "Account Executive         0    3\n",
      "Account Manager           0    2\n",
      "Accountant                1    8\n",
      "Architect                 1   10\n",
      "Art Director              0    1\n",
      "...                      ..  ...\n",
      "Veterinarian Technician   1    0\n",
      "Waiter/Waitress           1    0\n",
      "Web Designer              4    3\n",
      "Web Developer             1    6\n",
      "Writer                    7    0\n",
      "\n",
      "[116 rows x 2 columns]\n",
      "\n",
      "Chi-square statistic: 273.4004\n",
      "p-value: 0.0000\n",
      "Degrees of freedom: 115\n"
     ]
    },
    {
     "data": {
      "text/plain": "(273.4004148727985,\n 6.337285346434918e-15,\n 115,\n array([[ 1.10606061,  1.89393939],\n        [ 0.73737374,  1.26262626],\n        [ 3.31818182,  5.68181818],\n        [ 4.05555556,  6.94444444],\n        [ 0.36868687,  0.63131313],\n        [ 0.73737374,  1.26262626],\n        [ 0.36868687,  0.63131313],\n        [ 1.10606061,  1.89393939],\n        [ 0.36868687,  0.63131313],\n        [ 0.36868687,  0.63131313],\n        [ 1.10606061,  1.89393939],\n        [ 0.36868687,  0.63131313],\n        [ 0.73737374,  1.26262626],\n        [ 1.47474747,  2.52525253],\n        [ 8.84848485, 15.15151515],\n        [ 0.36868687,  0.63131313],\n        [ 0.36868687,  0.63131313],\n        [ 0.36868687,  0.63131313],\n        [ 1.47474747,  2.52525253],\n        [ 0.36868687,  0.63131313],\n        [ 0.73737374,  1.26262626],\n        [ 2.21212121,  3.78787879],\n        [ 0.36868687,  0.63131313],\n        [ 1.10606061,  1.89393939],\n        [ 1.84343434,  3.15656566],\n        [ 1.10606061,  1.89393939],\n        [ 2.58080808,  4.41919192],\n        [ 0.36868687,  0.63131313],\n        [ 0.36868687,  0.63131313],\n        [ 1.10606061,  1.89393939],\n        [ 0.36868687,  0.63131313],\n        [ 5.53030303,  9.46969697],\n        [ 0.36868687,  0.63131313],\n        [ 1.84343434,  3.15656566],\n        [ 0.73737374,  1.26262626],\n        [ 1.10606061,  1.89393939],\n        [ 1.10606061,  1.89393939],\n        [ 0.73737374,  1.26262626],\n        [ 1.84343434,  3.15656566],\n        [ 2.21212121,  3.78787879],\n        [ 0.36868687,  0.63131313],\n        [ 0.36868687,  0.63131313],\n        [ 0.36868687,  0.63131313],\n        [ 0.36868687,  0.63131313],\n        [ 0.73737374,  1.26262626],\n        [ 0.36868687,  0.63131313],\n        [ 5.53030303,  9.46969697],\n        [ 1.10606061,  1.89393939],\n        [ 0.36868687,  0.63131313],\n        [ 0.36868687,  0.63131313],\n        [ 0.73737374,  1.26262626],\n        [ 0.36868687,  0.63131313],\n        [ 1.47474747,  2.52525253],\n        [ 1.47474747,  2.52525253],\n        [ 0.36868687,  0.63131313],\n        [ 2.21212121,  3.78787879],\n        [ 0.36868687,  0.63131313],\n        [ 2.94949495,  5.05050505],\n        [ 0.36868687,  0.63131313],\n        [ 0.73737374,  1.26262626],\n        [ 0.36868687,  0.63131313],\n        [ 1.47474747,  2.52525253],\n        [ 0.36868687,  0.63131313],\n        [ 0.36868687,  0.63131313],\n        [ 0.36868687,  0.63131313],\n        [ 0.36868687,  0.63131313],\n        [ 1.47474747,  2.52525253],\n        [ 0.36868687,  0.63131313],\n        [ 2.58080808,  4.41919192],\n        [ 0.36868687,  0.63131313],\n        [ 0.73737374,  1.26262626],\n        [ 0.36868687,  0.63131313],\n        [ 1.84343434,  3.15656566],\n        [ 1.10606061,  1.89393939],\n        [ 1.47474747,  2.52525253],\n        [ 1.47474747,  2.52525253],\n        [ 4.05555556,  6.94444444],\n        [ 0.36868687,  0.63131313],\n        [ 0.73737374,  1.26262626],\n        [ 0.36868687,  0.63131313],\n        [ 1.47474747,  2.52525253],\n        [ 1.47474747,  2.52525253],\n        [ 0.73737374,  1.26262626],\n        [ 1.47474747,  2.52525253],\n        [ 3.68686869,  6.31313131],\n        [ 0.36868687,  0.63131313],\n        [ 0.73737374,  1.26262626],\n        [ 1.10606061,  1.89393939],\n        [ 1.10606061,  1.89393939],\n        [ 0.36868687,  0.63131313],\n        [ 1.84343434,  3.15656566],\n        [ 0.73737374,  1.26262626],\n        [ 1.47474747,  2.52525253],\n        [ 0.73737374,  1.26262626],\n        [ 0.36868687,  0.63131313],\n        [ 0.36868687,  0.63131313],\n        [ 2.58080808,  4.41919192],\n        [ 0.36868687,  0.63131313],\n        [ 1.10606061,  1.89393939],\n        [ 0.36868687,  0.63131313],\n        [ 2.21212121,  3.78787879],\n        [ 3.31818182,  5.68181818],\n        [ 1.10606061,  1.89393939],\n        [ 0.36868687,  0.63131313],\n        [ 1.47474747,  2.52525253],\n        [ 0.36868687,  0.63131313],\n        [ 0.36868687,  0.63131313],\n        [ 1.47474747,  2.52525253],\n        [ 2.21212121,  3.78787879],\n        [ 2.21212121,  3.78787879],\n        [ 2.58080808,  4.41919192],\n        [ 0.36868687,  0.63131313],\n        [ 0.36868687,  0.63131313],\n        [ 2.58080808,  4.41919192],\n        [ 2.58080808,  4.41919192],\n        [ 2.58080808,  4.41919192]]))"
     },
     "execution_count": 36,
     "metadata": {},
     "output_type": "execute_result"
    }
   ],
   "source": [
    "chi_square_test(ownership, 'Occupation', 'Car')"
   ],
   "metadata": {
    "collapsed": false,
    "ExecuteTime": {
     "end_time": "2024-11-29T12:23:36.512079Z",
     "start_time": "2024-11-29T12:23:36.475769400Z"
    }
   },
   "id": "763518343ecba675",
   "execution_count": 36
  },
  {
   "cell_type": "code",
   "outputs": [
    {
     "name": "stdout",
     "output_type": "stream",
     "text": [
      "Contingency Table:\n",
      "Car             No  Yes\n",
      "Finance_Status         \n",
      "Excellent        3    8\n",
      "Fair            10    4\n",
      "Good             3   10\n",
      "Poor             4    0\n",
      "Stable          49  220\n",
      "Unknown         10    3\n",
      "Unstable        67    5\n",
      "\n",
      "Chi-square statistic: 162.3593\n",
      "p-value: 0.0000\n",
      "Degrees of freedom: 6\n"
     ]
    },
    {
     "data": {
      "text/plain": "(162.35931369073967,\n 1.8736391064028802e-32,\n 6,\n array([[  4.05555556,   6.94444444],\n        [  5.16161616,   8.83838384],\n        [  4.79292929,   8.20707071],\n        [  1.47474747,   2.52525253],\n        [ 99.17676768, 169.82323232],\n        [  4.79292929,   8.20707071],\n        [ 26.54545455,  45.45454545]]))"
     },
     "execution_count": 37,
     "metadata": {},
     "output_type": "execute_result"
    }
   ],
   "source": [
    "chi_square_test(ownership, 'Finance_Status', 'Car')"
   ],
   "metadata": {
    "collapsed": false,
    "ExecuteTime": {
     "end_time": "2024-11-29T12:23:36.561708100Z",
     "start_time": "2024-11-29T12:23:36.491148600Z"
    }
   },
   "id": "90d0186f316ffb69",
   "execution_count": 37
  },
  {
   "cell_type": "code",
   "outputs": [],
   "source": [
    "ownership_tt = ownership.__deepcopy__()\n",
    "ownership_tt['Car']= ownership_tt['Car'].replace({'Yes': 1, 'No': 0}).astype(int)"
   ],
   "metadata": {
    "collapsed": false,
    "ExecuteTime": {
     "end_time": "2024-11-29T12:23:36.561708100Z",
     "start_time": "2024-11-29T12:23:36.500972600Z"
    }
   },
   "id": "b0a8b988c7afc0b5",
   "execution_count": 38
  },
  {
   "cell_type": "code",
   "outputs": [
    {
     "name": "stdout",
     "output_type": "stream",
     "text": [
      "T-statistic: 16.1754\n",
      "P-value: 0.0000\n"
     ]
    },
    {
     "data": {
      "text/plain": "(16.175410175636937, 1.70182323635391e-45)"
     },
     "execution_count": 39,
     "metadata": {},
     "output_type": "execute_result"
    }
   ],
   "source": [
    "t_test(ownership_tt, 'Car', 'Years_of_Employment')"
   ],
   "metadata": {
    "collapsed": false,
    "ExecuteTime": {
     "end_time": "2024-11-29T12:23:36.564700100Z",
     "start_time": "2024-11-29T12:23:36.505954400Z"
    }
   },
   "id": "5ce2eed85fb39b17",
   "execution_count": 39
  },
  {
   "cell_type": "code",
   "outputs": [
    {
     "name": "stdout",
     "output_type": "stream",
     "text": [
      "Contingency Table:\n",
      "Number_of_Children  -1   0   1   2   3   4\n",
      "Car                                       \n",
      "No                  42  38  32  25   8   1\n",
      "Yes                 37  74  68  62   9   0\n",
      "\n",
      "Chi-square statistic: 15.3907\n",
      "p-value: 0.0088\n",
      "Degrees of freedom: 5\n"
     ]
    },
    {
     "data": {
      "text/plain": "(15.390747852416434,\n 0.008816920421520028,\n 5,\n array([[29.12626263, 41.29292929, 36.86868687, 32.07575758,  6.26767677,\n          0.36868687],\n        [49.87373737, 70.70707071, 63.13131313, 54.92424242, 10.73232323,\n          0.63131313]]))"
     },
     "execution_count": 40,
     "metadata": {},
     "output_type": "execute_result"
    }
   ],
   "source": [
    "chi_square_test(ownership, 'Car', 'Number_of_Children')"
   ],
   "metadata": {
    "collapsed": false,
    "ExecuteTime": {
     "end_time": "2024-11-29T12:23:36.577971900Z",
     "start_time": "2024-11-29T12:23:36.514579500Z"
    }
   },
   "id": "d2590444f821b088",
   "execution_count": 40
  },
  {
   "cell_type": "code",
   "outputs": [
    {
     "name": "stdout",
     "output_type": "stream",
     "text": [
      "Mann-Whitney U statistic: 32367.5000\n",
      "p-value: 0.0000\n"
     ]
    },
    {
     "data": {
      "text/plain": "(32367.5, 8.075407838854787e-38)"
     },
     "execution_count": 41,
     "metadata": {},
     "output_type": "execute_result"
    }
   ],
   "source": [
    "mann_whitney_test(ownership_tt, 'Annual_Income', 'Car')"
   ],
   "metadata": {
    "collapsed": false,
    "ExecuteTime": {
     "end_time": "2024-11-29T12:23:36.578969300Z",
     "start_time": "2024-11-29T12:23:36.527191200Z"
    }
   },
   "id": "4e702cc76597e937",
   "execution_count": 41
  },
  {
   "cell_type": "code",
   "outputs": [],
   "source": [
    "sales_mlr = sales.__deepcopy__()\n",
    "sales_mlr['Gender'] = sales_mlr['Gender'].replace({'Male': 1, 'Female': 0}).astype(int)"
   ],
   "metadata": {
    "collapsed": false,
    "ExecuteTime": {
     "end_time": "2024-11-29T12:23:36.691438600Z",
     "start_time": "2024-11-29T12:23:36.535934700Z"
    }
   },
   "id": "d0c89a166c79aeaa",
   "execution_count": 42
  },
  {
   "cell_type": "code",
   "outputs": [
    {
     "name": "stdout",
     "output_type": "stream",
     "text": [
      "                            OLS Regression Results                            \n",
      "==============================================================================\n",
      "Dep. Variable:                 Gender   R-squared:                       0.003\n",
      "Model:                            OLS   Adj. R-squared:                  0.003\n",
      "Method:                 Least Squares   F-statistic:                     35.85\n",
      "Date:                Fri, 29 Nov 2024   Prob (F-statistic):           2.84e-16\n",
      "Time:                        13:23:36   Log-Likelihood:                -12565.\n",
      "No. Observations:               23906   AIC:                         2.514e+04\n",
      "Df Residuals:                   23903   BIC:                         2.516e+04\n",
      "Df Model:                           2                                         \n",
      "Covariance Type:            nonrobust                                         \n",
      "=================================================================================\n",
      "                    coef    std err          t      P>|t|      [0.025      0.975]\n",
      "---------------------------------------------------------------------------------\n",
      "const             0.7663      0.006    119.298      0.000       0.754       0.779\n",
      "Annual_Income   2.81e-06   3.34e-07      8.406      0.000    2.15e-06    3.47e-06\n",
      "Price         -2.009e-07   1.79e-07     -1.122      0.262   -5.52e-07     1.5e-07\n",
      "==============================================================================\n",
      "Omnibus:                     4512.432   Durbin-Watson:                   1.851\n",
      "Prob(Omnibus):                  0.000   Jarque-Bera (JB):             7707.357\n",
      "Skew:                          -1.391   Prob(JB):                         0.00\n",
      "Kurtosis:                       2.951   Cond. No.                     7.97e+04\n",
      "==============================================================================\n",
      "\n",
      "Notes:\n",
      "[1] Standard Errors assume that the covariance matrix of the errors is correctly specified.\n",
      "[2] The condition number is large, 7.97e+04. This might indicate that there are\n",
      "strong multicollinearity or other numerical problems.\n"
     ]
    },
    {
     "data": {
      "text/plain": "<statsmodels.regression.linear_model.RegressionResultsWrapper at 0x2c200c96c90>"
     },
     "execution_count": 43,
     "metadata": {},
     "output_type": "execute_result"
    }
   ],
   "source": [
    "multiple_linear_regression(sales_mlr, 'Gender', ['Annual_Income', 'Price'])"
   ],
   "metadata": {
    "collapsed": false,
    "ExecuteTime": {
     "end_time": "2024-11-29T12:23:36.695427300Z",
     "start_time": "2024-11-29T12:23:36.551735Z"
    }
   },
   "id": "87dd62aac5799c6d",
   "execution_count": 43
  },
  {
   "cell_type": "code",
   "outputs": [
    {
     "name": "stdout",
     "output_type": "stream",
     "text": [
      "Contingency Table:\n",
      "Dealer_Name  Buddy Storbeck's Diesel Service Inc  C & M Motors Inc  \\\n",
      "Gender                                                               \n",
      "Female                                       118               133   \n",
      "Male                                         509               492   \n",
      "\n",
      "Dealer_Name  Capitol KIA  Chrysler Plymouth  Chrysler of Tri-Cities  \\\n",
      "Gender                                                                \n",
      "Female               140                151                     136   \n",
      "Male                 488                474                     490   \n",
      "\n",
      "Dealer_Name  Classic Chevy  Clay Johnson Auto Sales  Diehl Motor CO Inc  \\\n",
      "Gender                                                                    \n",
      "Female                 129                      136                 138   \n",
      "Male                   494                      491                 486   \n",
      "\n",
      "Dealer_Name  Enterprise Rent A Car  Gartner Buick Hyundai Saab  ...  \\\n",
      "Gender                                                          ...   \n",
      "Female                         139                         139  ...   \n",
      "Male                           486                         489  ...   \n",
      "\n",
      "Dealer_Name  Progressive Shippers Cooperative Association No  \\\n",
      "Gender                                                         \n",
      "Female                                                   289   \n",
      "Male                                                    1029   \n",
      "\n",
      "Dealer_Name  Rabun Used Car Sales  Race Car Help  \\\n",
      "Gender                                             \n",
      "Female                        290            267   \n",
      "Male                         1023            986   \n",
      "\n",
      "Dealer_Name  Ryder Truck Rental and Leasing  Saab-Belle Dodge  \\\n",
      "Gender                                                          \n",
      "Female                                  290               264   \n",
      "Male                                    958               987   \n",
      "\n",
      "Dealer_Name  Scrivener Performance Engineering  Star Enterprises Inc  \\\n",
      "Gender                                                                 \n",
      "Female                                     268                   237   \n",
      "Male                                       978                  1012   \n",
      "\n",
      "Dealer_Name  Suburban Ford  Tri-State Mack Inc  U-Haul CO  \n",
      "Gender                                                     \n",
      "Female                 247                 275        251  \n",
      "Male                   996                 974        996  \n",
      "\n",
      "[2 rows x 28 columns]\n",
      "\n",
      "Chi-square statistic: 29.4242\n",
      "p-value: 0.3406\n",
      "Degrees of freedom: 27\n"
     ]
    },
    {
     "data": {
      "text/plain": "(29.424176225554834,\n 0.3406370281512807,\n 27,\n array([[ 133.97122061,  133.5438802 ,  134.18489082,  133.5438802 ,\n          133.75755041,  133.11653978,  133.97122061,  133.33020999,\n          133.5438802 ,  134.18489082,  134.39856103,  133.97122061,\n          134.39856103,  133.75755041,  135.25324186,  134.39856103,\n          134.61223124,  134.18489082,  281.61733456,  280.54898352,\n          267.72877102,  266.66041998,  267.3014306 ,  266.23307956,\n          266.87409019,  265.59206894,  266.87409019,  266.44674977],\n        [ 493.02877939,  491.4561198 ,  493.81510918,  491.4561198 ,\n          492.24244959,  489.88346022,  493.02877939,  490.66979001,\n          491.4561198 ,  493.81510918,  494.60143897,  493.02877939,\n          494.60143897,  492.24244959,  497.74675814,  494.60143897,\n          495.38776876,  493.81510918, 1036.38266544, 1032.45101648,\n          985.27122898,  981.33958002,  983.6985694 ,  979.76692044,\n          982.12590981,  977.40793106,  982.12590981,  980.55325023]]))"
     },
     "execution_count": 44,
     "metadata": {},
     "output_type": "execute_result"
    }
   ],
   "source": [
    "chi_square_test(sales, 'Gender', 'Dealer_Name')"
   ],
   "metadata": {
    "collapsed": false,
    "ExecuteTime": {
     "end_time": "2024-11-29T12:23:36.718366600Z",
     "start_time": "2024-11-29T12:23:36.568995700Z"
    }
   },
   "id": "5beed797e28460d5",
   "execution_count": 44
  },
  {
   "cell_type": "code",
   "outputs": [
    {
     "name": "stdout",
     "output_type": "stream",
     "text": [
      "ADF Statistic: -108.8116803559421\n",
      "p-value: 0.0\n",
      "Critical values:\n",
      "\t1%: -3.431\n",
      "\t5%: -2.862\n",
      "\t10%: -2.567\n"
     ]
    },
    {
     "data": {
      "text/plain": "(-108.8116803559421,\n 0.0,\n 1,\n 23904,\n {'1%': -3.4306235944764296,\n  '5%': -2.8616609202307246,\n  '10%': -2.566834362345704},\n 525842.0397965112)"
     },
     "execution_count": 45,
     "metadata": {},
     "output_type": "execute_result"
    }
   ],
   "source": [
    "time_series_analysis(sales, 'Date', 'Price')"
   ],
   "metadata": {
    "collapsed": false,
    "ExecuteTime": {
     "end_time": "2024-11-29T12:23:38.283899100Z",
     "start_time": "2024-11-29T12:23:36.587715800Z"
    }
   },
   "id": "bc893923f168632a",
   "execution_count": 45
  },
  {
   "cell_type": "code",
   "outputs": [
    {
     "name": "stdout",
     "output_type": "stream",
     "text": [
      "\n",
      "Dealer Performance Analysis (One-way ANOVA)\n",
      "--------------------------------------------------\n",
      "\n",
      "Descriptive Statistics by Dealer_Name:\n",
      "                                                     mean       std  count\n",
      "Dealer_Name                                                               \n",
      "U-Haul CO                                        28769.92  15187.62   1247\n",
      "Classic Chevy                                    28602.01  15310.96    623\n",
      "Rabun Used Car Sales                             28527.54  15344.50   1313\n",
      "Iceberg Rentals                                  28522.96  15016.38    627\n",
      "Enterprise Rent A Car                            28312.58  14983.85    625\n",
      "Scrivener Performance Engineering                28297.37  15342.57   1246\n",
      "Gartner Buick Hyundai Saab                       28247.62  14948.50    628\n",
      "Saab-Belle Dodge                                 28190.14  14720.69   1251\n",
      "Capitol KIA                                      28189.70  15037.23    628\n",
      "Race Car Help                                    28163.37  15102.15   1253\n",
      "Chrysler of Tri-Cities                           28123.09  14916.47    626\n",
      "Star Enterprises Inc                             28113.06  14740.55   1249\n",
      "Suburban Ford                                    28112.21  14535.47   1243\n",
      "C & M Motors Inc                                 28111.76  14305.50    625\n",
      "Tri-State Mack Inc                               28095.56  14903.98   1249\n",
      "Pars Auto Sales                                  28013.06  14513.30    630\n",
      "Diehl Motor CO Inc                               27993.93  14246.90    624\n",
      "Motor Vehicle Branch Office                      27956.74  14956.34    626\n",
      "Ryder Truck Rental and Leasing                   27914.99  14767.77   1248\n",
      "Progressive Shippers Cooperative Association No  27884.26  14599.03   1318\n",
      "New Castle Ford Lincoln Mercury                  27867.13  14213.13    629\n",
      "Hatfield Volkswagen                              27853.71  14581.19    629\n",
      "Nebo Chevrolet                                   27818.89  14819.73    633\n",
      "Clay Johnson Auto Sales                          27816.03  14289.07    627\n",
      "McKinney Dodge Chrysler Jeep                     27684.10  15033.52    629\n",
      "Chrysler Plymouth                                27555.53  14478.30    625\n",
      "Pitre Buick-Pontiac-Gmc of Scottsdale            27404.25  13661.39    628\n",
      "Buddy Storbeck's Diesel Service Inc              27217.26  14136.72    627\n",
      "\n",
      "ANOVA Test Results:\n",
      "F-statistic: 0.4343\n",
      "p-value: 0.9953\n"
     ]
    },
    {
     "data": {
      "text/plain": "(0.4343163037926954,\n 0.995264526609837,\n                                                      mean       std  count\n Dealer_Name                                                               \n U-Haul CO                                        28769.92  15187.62   1247\n Classic Chevy                                    28602.01  15310.96    623\n Rabun Used Car Sales                             28527.54  15344.50   1313\n Iceberg Rentals                                  28522.96  15016.38    627\n Enterprise Rent A Car                            28312.58  14983.85    625\n Scrivener Performance Engineering                28297.37  15342.57   1246\n Gartner Buick Hyundai Saab                       28247.62  14948.50    628\n Saab-Belle Dodge                                 28190.14  14720.69   1251\n Capitol KIA                                      28189.70  15037.23    628\n Race Car Help                                    28163.37  15102.15   1253\n Chrysler of Tri-Cities                           28123.09  14916.47    626\n Star Enterprises Inc                             28113.06  14740.55   1249\n Suburban Ford                                    28112.21  14535.47   1243\n C & M Motors Inc                                 28111.76  14305.50    625\n Tri-State Mack Inc                               28095.56  14903.98   1249\n Pars Auto Sales                                  28013.06  14513.30    630\n Diehl Motor CO Inc                               27993.93  14246.90    624\n Motor Vehicle Branch Office                      27956.74  14956.34    626\n Ryder Truck Rental and Leasing                   27914.99  14767.77   1248\n Progressive Shippers Cooperative Association No  27884.26  14599.03   1318\n New Castle Ford Lincoln Mercury                  27867.13  14213.13    629\n Hatfield Volkswagen                              27853.71  14581.19    629\n Nebo Chevrolet                                   27818.89  14819.73    633\n Clay Johnson Auto Sales                          27816.03  14289.07    627\n McKinney Dodge Chrysler Jeep                     27684.10  15033.52    629\n Chrysler Plymouth                                27555.53  14478.30    625\n Pitre Buick-Pontiac-Gmc of Scottsdale            27404.25  13661.39    628\n Buddy Storbeck's Diesel Service Inc              27217.26  14136.72    627)"
     },
     "execution_count": 47,
     "metadata": {},
     "output_type": "execute_result"
    }
   ],
   "source": [
    "one_way_anova(sales, 'Price', 'Dealer_Name')"
   ],
   "metadata": {
    "collapsed": false,
    "ExecuteTime": {
     "end_time": "2024-11-29T12:24:45.723087Z",
     "start_time": "2024-11-29T12:24:45.695167700Z"
    }
   },
   "id": "6cf1ea20cdcb788c",
   "execution_count": 47
  },
  {
   "cell_type": "code",
   "outputs": [
    {
     "name": "stdout",
     "output_type": "stream",
     "text": [
      "Contingency Table:\n",
      "Body_Style  Hardtop  Hatchback  Passenger   SUV  Sedan\n",
      "Gender                                                \n",
      "Female          647       1298        883  1335    945\n",
      "Male           2324       4830       3062  5039   3543\n",
      "\n",
      "Chi-square statistic: 3.7811\n",
      "p-value: 0.4364\n",
      "Degrees of freedom: 4\n"
     ]
    },
    {
     "data": {
      "text/plain": "(3.7811059955061026,\n 0.43643965301514065,\n 4,\n array([[ 634.81418891, 1309.37103656,  842.92897181, 1361.93390781,\n          958.95189492],\n        [2336.18581109, 4818.62896344, 3102.07102819, 5012.06609219,\n         3529.04810508]]))"
     },
     "execution_count": 48,
     "metadata": {},
     "output_type": "execute_result"
    }
   ],
   "source": [
    "chi_square_test(sales, 'Gender', 'Body_Style')"
   ],
   "metadata": {
    "collapsed": false,
    "ExecuteTime": {
     "end_time": "2024-11-29T12:25:41.767349400Z",
     "start_time": "2024-11-29T12:25:41.750903800Z"
    }
   },
   "id": "98df47758701c189",
   "execution_count": 48
  },
  {
   "cell_type": "code",
   "outputs": [
    {
     "name": "stdout",
     "output_type": "stream",
     "text": [
      "\n",
      "Dealer Performance Analysis (One-way ANOVA)\n",
      "--------------------------------------------------\n",
      "\n",
      "Descriptive Statistics by Dealer_Region:\n",
      "                    mean       std  count\n",
      "Dealer_Region                            \n",
      "Texas           28341.60  14903.88   4135\n",
      "Colorado        28334.63  15026.21   3130\n",
      "South Carolina  28180.82  15101.54   3128\n",
      "Washington      28119.04  14659.32   3131\n",
      "Arizona         27954.96  14902.92   3433\n",
      "Connecticut     27856.34  14619.84   3128\n",
      "Wisconsin       27833.35  14345.00   3821\n",
      "\n",
      "ANOVA Test Results:\n",
      "F-statistic: 0.7335\n",
      "p-value: 0.6226\n"
     ]
    },
    {
     "data": {
      "text/plain": "(0.7334944054339311,\n 0.6225891310153794,\n                     mean       std  count\n Dealer_Region                            \n Texas           28341.60  14903.88   4135\n Colorado        28334.63  15026.21   3130\n South Carolina  28180.82  15101.54   3128\n Washington      28119.04  14659.32   3131\n Arizona         27954.96  14902.92   3433\n Connecticut     27856.34  14619.84   3128\n Wisconsin       27833.35  14345.00   3821)"
     },
     "execution_count": 49,
     "metadata": {},
     "output_type": "execute_result"
    }
   ],
   "source": [
    "one_way_anova(sales, 'Price', 'Dealer_Region')"
   ],
   "metadata": {
    "collapsed": false,
    "ExecuteTime": {
     "end_time": "2024-11-29T12:26:27.098726800Z",
     "start_time": "2024-11-29T12:26:27.081540300Z"
    }
   },
   "id": "71baf4b0ff9afb40",
   "execution_count": 49
  }
 ],
 "metadata": {
  "kernelspec": {
   "display_name": "Python 3",
   "language": "python",
   "name": "python3"
  },
  "language_info": {
   "codemirror_mode": {
    "name": "ipython",
    "version": 2
   },
   "file_extension": ".py",
   "mimetype": "text/x-python",
   "name": "python",
   "nbconvert_exporter": "python",
   "pygments_lexer": "ipython2",
   "version": "2.7.6"
  }
 },
 "nbformat": 4,
 "nbformat_minor": 5
}
