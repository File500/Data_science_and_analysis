{
 "cells": [
  {
   "cell_type": "code",
   "outputs": [],
   "source": [
    "# Surpress warnings:\n",
    "def warn(*args, **kwargs):\n",
    "    pass\n",
    "\n",
    "import warnings\n",
    "\n",
    "warnings.warn = warn"
   ],
   "metadata": {
    "collapsed": false,
    "ExecuteTime": {
     "end_time": "2025-01-28T19:48:01.408728700Z",
     "start_time": "2025-01-28T19:48:01.367330500Z"
    }
   },
   "id": "fbe40d6efe172fb2",
   "execution_count": 16
  },
  {
   "cell_type": "code",
   "execution_count": 17,
   "id": "initial_id",
   "metadata": {
    "collapsed": true,
    "ExecuteTime": {
     "end_time": "2025-01-28T19:48:01.479609500Z",
     "start_time": "2025-01-28T19:48:01.412717600Z"
    }
   },
   "outputs": [],
   "source": [
    "import pandas as pd\n",
    "import seaborn as sns\n",
    "import numpy as np\n",
    "import matplotlib.pyplot as plt\n",
    "import os.path\n",
    "\n",
    "\n",
    "from sklearn.utils import shuffle\n",
    "from sklearn.preprocessing import OneHotEncoder, LabelEncoder\n",
    "from sklearn.model_selection import train_test_split, learning_curve, cross_val_score\n",
    "from sklearn.linear_model import LogisticRegression\n",
    "from sklearn.tree import DecisionTreeClassifier\n",
    "from sklearn.metrics import classification_report, accuracy_score, precision_recall_fscore_support, confusion_matrix,precision_score, recall_score, roc_auc_score, mean_squared_error, mean_absolute_error, r2_score, explained_variance_score, make_scorer\n",
    "from sklearn.ensemble import RandomForestClassifier, GradientBoostingClassifier, StackingClassifier\n",
    "from sklearn.neighbors import KNeighborsClassifier\n",
    "from xgboost import XGBClassifier\n",
    "from sklearn.ensemble import AdaBoostClassifier\n",
    "\n",
    "from imblearn.under_sampling import RandomUnderSampler\n",
    "from imblearn.over_sampling import RandomOverSampler, SMOTE\n",
    "from sklearn import metrics\n",
    "from sklearn.inspection import permutation_importance\n",
    "from sklearn.preprocessing import MinMaxScaler, scale, StandardScaler\n",
    "from sklearn.model_selection import GridSearchCV\n",
    "\n",
    "from sklearn.linear_model import LinearRegression, Ridge, Lasso, ElasticNet\n",
    "from sklearn.metrics import r2_score\n",
    "from sklearn.preprocessing import PolynomialFeatures\n",
    "from sklearn.feature_selection import SelectKBest, f_regression\n",
    "from sklearn.pipeline import Pipeline, make_pipeline"
   ]
  },
  {
   "cell_type": "code",
   "outputs": [],
   "source": [
    "if(os.path.exists(\"../../data/train_test_validate_data/train_test_data.csv\")):\n",
    "    data = pd.read_csv(\"../../data/train_test_validate_data/train_test_data.csv\")\n",
    "else:\n",
    "    ownership_df_class = pd.read_csv(\"../../data/final_data/final_ownership_data.csv\")\n",
    "    sales_df_reg = pd.read_csv(\"../../data/final_data/final_sales_data.csv\")\n",
    "    \n",
    "    ownership_df_class = ownership_df_class.drop(columns=['Unnamed: 0', '_c0'])\n",
    "    sales_df_reg = sales_df_reg.drop(columns=['Unnamed: 0', '_c0'])\n",
    "    sales_df_reg = sales_df_reg[['Annual_Income', 'Price']]\n",
    "\n",
    "    def find_closest_income_match(target_income, reference_df):\n",
    "        closest_income_idx = (reference_df['Annual_Income'] - target_income).abs().idxmin()\n",
    "        return reference_df.loc[closest_income_idx, 'Price']\n",
    "\n",
    "    ownership_df_class['Price'] = ownership_df_class.apply(\n",
    "        lambda row: find_closest_income_match(row['Annual_Income'], sales_df_reg)\n",
    "        if row['Car'] == 'Yes'\n",
    "        else 0,\n",
    "        axis=1\n",
    "        )\n",
    "\n",
    "    ownership_sales = ownership_df_class.__deepcopy__()\n",
    "    ownership_sales.to_csv(path_or_buf=\"../../data/train_test_validate_data/train_test_data.csv\")\n",
    "    data = pd.read_csv(\"../../data/train_test_validate_data/train_test_data.csv\")"
   ],
   "metadata": {
    "collapsed": false,
    "ExecuteTime": {
     "end_time": "2025-01-28T19:48:01.524355500Z",
     "start_time": "2025-01-28T19:48:01.483599400Z"
    }
   },
   "id": "5e3fd732473c47bb",
   "execution_count": 18
  },
  {
   "cell_type": "code",
   "outputs": [
    {
     "data": {
      "text/plain": "     Unnamed: 0            Occupation  Annual_Income  Credit_Score  \\\n0             0               Teacher        52800.0           750   \n1             1              Engineer        79200.0           800   \n2             2                 Nurse        33000.0           650   \n3             3                Doctor       105600.0           900   \n4             4           Businessman       132000.0           700   \n..          ...                   ...            ...           ...   \n391         391      Customer Support         4620.0           640   \n392         392      Dental Hygienist         6336.0           670   \n393         393       Project Manager         9240.0           730   \n394         394     Medical Assistant         4620.0           640   \n395         395  Customer Service Rep         4224.0           641   \n\n     Years_of_Employment Finance_Status  Car  Number_of_Children  Price  \n0                     10           Good  Yes                   2  57000  \n1                      8           Good  Yes                   1  15000  \n2                      5           Fair   No                   0      0  \n3                     12      Excellent  Yes                   3  26001  \n4                     15           Good  Yes                   2  26001  \n..                   ...            ...  ...                 ...    ...  \n391                    3         Stable   No                   1      0  \n392                    4         Stable  Yes                   2  19000  \n393                    5         Stable  Yes                   0  39000  \n394                    3         Stable   No                   1      0  \n395                    4         Stable   No                   2      0  \n\n[396 rows x 9 columns]",
      "text/html": "<div>\n<style scoped>\n    .dataframe tbody tr th:only-of-type {\n        vertical-align: middle;\n    }\n\n    .dataframe tbody tr th {\n        vertical-align: top;\n    }\n\n    .dataframe thead th {\n        text-align: right;\n    }\n</style>\n<table border=\"1\" class=\"dataframe\">\n  <thead>\n    <tr style=\"text-align: right;\">\n      <th></th>\n      <th>Unnamed: 0</th>\n      <th>Occupation</th>\n      <th>Annual_Income</th>\n      <th>Credit_Score</th>\n      <th>Years_of_Employment</th>\n      <th>Finance_Status</th>\n      <th>Car</th>\n      <th>Number_of_Children</th>\n      <th>Price</th>\n    </tr>\n  </thead>\n  <tbody>\n    <tr>\n      <th>0</th>\n      <td>0</td>\n      <td>Teacher</td>\n      <td>52800.0</td>\n      <td>750</td>\n      <td>10</td>\n      <td>Good</td>\n      <td>Yes</td>\n      <td>2</td>\n      <td>57000</td>\n    </tr>\n    <tr>\n      <th>1</th>\n      <td>1</td>\n      <td>Engineer</td>\n      <td>79200.0</td>\n      <td>800</td>\n      <td>8</td>\n      <td>Good</td>\n      <td>Yes</td>\n      <td>1</td>\n      <td>15000</td>\n    </tr>\n    <tr>\n      <th>2</th>\n      <td>2</td>\n      <td>Nurse</td>\n      <td>33000.0</td>\n      <td>650</td>\n      <td>5</td>\n      <td>Fair</td>\n      <td>No</td>\n      <td>0</td>\n      <td>0</td>\n    </tr>\n    <tr>\n      <th>3</th>\n      <td>3</td>\n      <td>Doctor</td>\n      <td>105600.0</td>\n      <td>900</td>\n      <td>12</td>\n      <td>Excellent</td>\n      <td>Yes</td>\n      <td>3</td>\n      <td>26001</td>\n    </tr>\n    <tr>\n      <th>4</th>\n      <td>4</td>\n      <td>Businessman</td>\n      <td>132000.0</td>\n      <td>700</td>\n      <td>15</td>\n      <td>Good</td>\n      <td>Yes</td>\n      <td>2</td>\n      <td>26001</td>\n    </tr>\n    <tr>\n      <th>...</th>\n      <td>...</td>\n      <td>...</td>\n      <td>...</td>\n      <td>...</td>\n      <td>...</td>\n      <td>...</td>\n      <td>...</td>\n      <td>...</td>\n      <td>...</td>\n    </tr>\n    <tr>\n      <th>391</th>\n      <td>391</td>\n      <td>Customer Support</td>\n      <td>4620.0</td>\n      <td>640</td>\n      <td>3</td>\n      <td>Stable</td>\n      <td>No</td>\n      <td>1</td>\n      <td>0</td>\n    </tr>\n    <tr>\n      <th>392</th>\n      <td>392</td>\n      <td>Dental Hygienist</td>\n      <td>6336.0</td>\n      <td>670</td>\n      <td>4</td>\n      <td>Stable</td>\n      <td>Yes</td>\n      <td>2</td>\n      <td>19000</td>\n    </tr>\n    <tr>\n      <th>393</th>\n      <td>393</td>\n      <td>Project Manager</td>\n      <td>9240.0</td>\n      <td>730</td>\n      <td>5</td>\n      <td>Stable</td>\n      <td>Yes</td>\n      <td>0</td>\n      <td>39000</td>\n    </tr>\n    <tr>\n      <th>394</th>\n      <td>394</td>\n      <td>Medical Assistant</td>\n      <td>4620.0</td>\n      <td>640</td>\n      <td>3</td>\n      <td>Stable</td>\n      <td>No</td>\n      <td>1</td>\n      <td>0</td>\n    </tr>\n    <tr>\n      <th>395</th>\n      <td>395</td>\n      <td>Customer Service Rep</td>\n      <td>4224.0</td>\n      <td>641</td>\n      <td>4</td>\n      <td>Stable</td>\n      <td>No</td>\n      <td>2</td>\n      <td>0</td>\n    </tr>\n  </tbody>\n</table>\n<p>396 rows × 9 columns</p>\n</div>"
     },
     "execution_count": 19,
     "metadata": {},
     "output_type": "execute_result"
    }
   ],
   "source": [
    "data"
   ],
   "metadata": {
    "collapsed": false,
    "ExecuteTime": {
     "end_time": "2025-01-28T19:48:01.587422900Z",
     "start_time": "2025-01-28T19:48:01.527346900Z"
    }
   },
   "id": "7567400ff778b054",
   "execution_count": 19
  },
  {
   "cell_type": "code",
   "outputs": [],
   "source": [
    "data_class = data.__deepcopy__()\n",
    "data_reg = data.__deepcopy__()"
   ],
   "metadata": {
    "collapsed": false,
    "ExecuteTime": {
     "end_time": "2025-01-28T19:48:01.627908200Z",
     "start_time": "2025-01-28T19:48:01.589417200Z"
    }
   },
   "id": "620d0ad24e5baf67",
   "execution_count": 20
  },
  {
   "cell_type": "code",
   "outputs": [
    {
     "data": {
      "text/plain": "               Occupation  Annual_Income  Credit_Score  Years_of_Employment  \\\n0                 Teacher        52800.0           750                   10   \n1                Engineer        79200.0           800                    8   \n2                   Nurse        33000.0           650                    5   \n3                  Doctor       105600.0           900                   12   \n4             Businessman       132000.0           700                   15   \n..                    ...            ...           ...                  ...   \n391      Customer Support         4620.0           640                    3   \n392      Dental Hygienist         6336.0           670                    4   \n393       Project Manager         9240.0           730                    5   \n394     Medical Assistant         4620.0           640                    3   \n395  Customer Service Rep         4224.0           641                    4   \n\n    Finance_Status  Car  Number_of_Children  \n0             Good  Yes                   2  \n1             Good  Yes                   1  \n2             Fair   No                   0  \n3        Excellent  Yes                   3  \n4             Good  Yes                   2  \n..             ...  ...                 ...  \n391         Stable   No                   1  \n392         Stable  Yes                   2  \n393         Stable  Yes                   0  \n394         Stable   No                   1  \n395         Stable   No                   2  \n\n[396 rows x 7 columns]",
      "text/html": "<div>\n<style scoped>\n    .dataframe tbody tr th:only-of-type {\n        vertical-align: middle;\n    }\n\n    .dataframe tbody tr th {\n        vertical-align: top;\n    }\n\n    .dataframe thead th {\n        text-align: right;\n    }\n</style>\n<table border=\"1\" class=\"dataframe\">\n  <thead>\n    <tr style=\"text-align: right;\">\n      <th></th>\n      <th>Occupation</th>\n      <th>Annual_Income</th>\n      <th>Credit_Score</th>\n      <th>Years_of_Employment</th>\n      <th>Finance_Status</th>\n      <th>Car</th>\n      <th>Number_of_Children</th>\n    </tr>\n  </thead>\n  <tbody>\n    <tr>\n      <th>0</th>\n      <td>Teacher</td>\n      <td>52800.0</td>\n      <td>750</td>\n      <td>10</td>\n      <td>Good</td>\n      <td>Yes</td>\n      <td>2</td>\n    </tr>\n    <tr>\n      <th>1</th>\n      <td>Engineer</td>\n      <td>79200.0</td>\n      <td>800</td>\n      <td>8</td>\n      <td>Good</td>\n      <td>Yes</td>\n      <td>1</td>\n    </tr>\n    <tr>\n      <th>2</th>\n      <td>Nurse</td>\n      <td>33000.0</td>\n      <td>650</td>\n      <td>5</td>\n      <td>Fair</td>\n      <td>No</td>\n      <td>0</td>\n    </tr>\n    <tr>\n      <th>3</th>\n      <td>Doctor</td>\n      <td>105600.0</td>\n      <td>900</td>\n      <td>12</td>\n      <td>Excellent</td>\n      <td>Yes</td>\n      <td>3</td>\n    </tr>\n    <tr>\n      <th>4</th>\n      <td>Businessman</td>\n      <td>132000.0</td>\n      <td>700</td>\n      <td>15</td>\n      <td>Good</td>\n      <td>Yes</td>\n      <td>2</td>\n    </tr>\n    <tr>\n      <th>...</th>\n      <td>...</td>\n      <td>...</td>\n      <td>...</td>\n      <td>...</td>\n      <td>...</td>\n      <td>...</td>\n      <td>...</td>\n    </tr>\n    <tr>\n      <th>391</th>\n      <td>Customer Support</td>\n      <td>4620.0</td>\n      <td>640</td>\n      <td>3</td>\n      <td>Stable</td>\n      <td>No</td>\n      <td>1</td>\n    </tr>\n    <tr>\n      <th>392</th>\n      <td>Dental Hygienist</td>\n      <td>6336.0</td>\n      <td>670</td>\n      <td>4</td>\n      <td>Stable</td>\n      <td>Yes</td>\n      <td>2</td>\n    </tr>\n    <tr>\n      <th>393</th>\n      <td>Project Manager</td>\n      <td>9240.0</td>\n      <td>730</td>\n      <td>5</td>\n      <td>Stable</td>\n      <td>Yes</td>\n      <td>0</td>\n    </tr>\n    <tr>\n      <th>394</th>\n      <td>Medical Assistant</td>\n      <td>4620.0</td>\n      <td>640</td>\n      <td>3</td>\n      <td>Stable</td>\n      <td>No</td>\n      <td>1</td>\n    </tr>\n    <tr>\n      <th>395</th>\n      <td>Customer Service Rep</td>\n      <td>4224.0</td>\n      <td>641</td>\n      <td>4</td>\n      <td>Stable</td>\n      <td>No</td>\n      <td>2</td>\n    </tr>\n  </tbody>\n</table>\n<p>396 rows × 7 columns</p>\n</div>"
     },
     "execution_count": 21,
     "metadata": {},
     "output_type": "execute_result"
    }
   ],
   "source": [
    "data_class = data_class.drop(columns=['Price', 'Unnamed: 0'])\n",
    "data_class"
   ],
   "metadata": {
    "collapsed": false,
    "ExecuteTime": {
     "end_time": "2025-01-28T19:48:01.757269800Z",
     "start_time": "2025-01-28T19:48:01.628877600Z"
    }
   },
   "id": "5cdbd26977760635",
   "execution_count": 21
  },
  {
   "cell_type": "code",
   "outputs": [
    {
     "data": {
      "text/plain": "     Annual_Income  Credit_Score  Years_of_Employment Finance_Status  \\\n0          52800.0         750.0                 10.0           Good   \n1          79200.0         800.0                  8.0           Good   \n3         105600.0         900.0                 12.0      Excellent   \n4         132000.0         700.0                 15.0           Good   \n6          46200.0         700.0                  8.0           Fair   \n..             ...           ...                  ...            ...   \n388         5940.0         670.0                  4.0         Stable   \n389         6336.0         660.0                  3.0         Stable   \n390        11220.0         750.0                  7.0         Stable   \n392         6336.0         670.0                  4.0         Stable   \n393         9240.0         730.0                  5.0         Stable   \n\n     Number_of_Children    Price  \n0                   2.0  57000.0  \n1                   1.0  15000.0  \n3                   3.0  26001.0  \n4                   2.0  26001.0  \n6                  -1.0  15001.0  \n..                  ...      ...  \n388                 2.0  17000.0  \n389                 1.0  19000.0  \n390                 0.0  13000.0  \n392                 2.0  19000.0  \n393                 0.0  39000.0  \n\n[250 rows x 6 columns]",
      "text/html": "<div>\n<style scoped>\n    .dataframe tbody tr th:only-of-type {\n        vertical-align: middle;\n    }\n\n    .dataframe tbody tr th {\n        vertical-align: top;\n    }\n\n    .dataframe thead th {\n        text-align: right;\n    }\n</style>\n<table border=\"1\" class=\"dataframe\">\n  <thead>\n    <tr style=\"text-align: right;\">\n      <th></th>\n      <th>Annual_Income</th>\n      <th>Credit_Score</th>\n      <th>Years_of_Employment</th>\n      <th>Finance_Status</th>\n      <th>Number_of_Children</th>\n      <th>Price</th>\n    </tr>\n  </thead>\n  <tbody>\n    <tr>\n      <th>0</th>\n      <td>52800.0</td>\n      <td>750.0</td>\n      <td>10.0</td>\n      <td>Good</td>\n      <td>2.0</td>\n      <td>57000.0</td>\n    </tr>\n    <tr>\n      <th>1</th>\n      <td>79200.0</td>\n      <td>800.0</td>\n      <td>8.0</td>\n      <td>Good</td>\n      <td>1.0</td>\n      <td>15000.0</td>\n    </tr>\n    <tr>\n      <th>3</th>\n      <td>105600.0</td>\n      <td>900.0</td>\n      <td>12.0</td>\n      <td>Excellent</td>\n      <td>3.0</td>\n      <td>26001.0</td>\n    </tr>\n    <tr>\n      <th>4</th>\n      <td>132000.0</td>\n      <td>700.0</td>\n      <td>15.0</td>\n      <td>Good</td>\n      <td>2.0</td>\n      <td>26001.0</td>\n    </tr>\n    <tr>\n      <th>6</th>\n      <td>46200.0</td>\n      <td>700.0</td>\n      <td>8.0</td>\n      <td>Fair</td>\n      <td>-1.0</td>\n      <td>15001.0</td>\n    </tr>\n    <tr>\n      <th>...</th>\n      <td>...</td>\n      <td>...</td>\n      <td>...</td>\n      <td>...</td>\n      <td>...</td>\n      <td>...</td>\n    </tr>\n    <tr>\n      <th>388</th>\n      <td>5940.0</td>\n      <td>670.0</td>\n      <td>4.0</td>\n      <td>Stable</td>\n      <td>2.0</td>\n      <td>17000.0</td>\n    </tr>\n    <tr>\n      <th>389</th>\n      <td>6336.0</td>\n      <td>660.0</td>\n      <td>3.0</td>\n      <td>Stable</td>\n      <td>1.0</td>\n      <td>19000.0</td>\n    </tr>\n    <tr>\n      <th>390</th>\n      <td>11220.0</td>\n      <td>750.0</td>\n      <td>7.0</td>\n      <td>Stable</td>\n      <td>0.0</td>\n      <td>13000.0</td>\n    </tr>\n    <tr>\n      <th>392</th>\n      <td>6336.0</td>\n      <td>670.0</td>\n      <td>4.0</td>\n      <td>Stable</td>\n      <td>2.0</td>\n      <td>19000.0</td>\n    </tr>\n    <tr>\n      <th>393</th>\n      <td>9240.0</td>\n      <td>730.0</td>\n      <td>5.0</td>\n      <td>Stable</td>\n      <td>0.0</td>\n      <td>39000.0</td>\n    </tr>\n  </tbody>\n</table>\n<p>250 rows × 6 columns</p>\n</div>"
     },
     "execution_count": 22,
     "metadata": {},
     "output_type": "execute_result"
    }
   ],
   "source": [
    "data_reg = data_reg.where(cond=(data_reg['Car'] == 'Yes')).dropna(axis=0).drop(columns=['Unnamed: 0', 'Car', 'Occupation'])\n",
    "data_reg"
   ],
   "metadata": {
    "collapsed": false,
    "ExecuteTime": {
     "end_time": "2025-01-28T19:48:01.858168800Z",
     "start_time": "2025-01-28T19:48:01.731878900Z"
    }
   },
   "id": "7a89ffdbec1b958f",
   "execution_count": 22
  },
  {
   "cell_type": "code",
   "outputs": [
    {
     "data": {
      "text/plain": "array(['Good', 'Excellent', 'Fair', 'Stable', 'Unstable', 'Unknown'],\n      dtype=object)"
     },
     "execution_count": 23,
     "metadata": {},
     "output_type": "execute_result"
    }
   ],
   "source": [
    "data_reg['Finance_Status'].unique()"
   ],
   "metadata": {
    "collapsed": false,
    "ExecuteTime": {
     "end_time": "2025-01-28T19:48:01.912079Z",
     "start_time": "2025-01-28T19:48:01.827082600Z"
    }
   },
   "id": "c31edc02f97400ef",
   "execution_count": 23
  },
  {
   "cell_type": "code",
   "outputs": [],
   "source": [
    "label_mapping = {\n",
    "    'Unknown': 0,      \n",
    "    'Unstable': 1,     \n",
    "    'Fair': 2,         \n",
    "    'Stable': 3,       \n",
    "    'Good': 4,         \n",
    "    'Excellent': 5     \n",
    "}\n"
   ],
   "metadata": {
    "collapsed": false,
    "ExecuteTime": {
     "end_time": "2025-01-28T19:48:01.974939300Z",
     "start_time": "2025-01-28T19:48:01.891625400Z"
    }
   },
   "id": "4404af8259420e88",
   "execution_count": 24
  },
  {
   "cell_type": "code",
   "outputs": [
    {
     "data": {
      "text/plain": "     Annual_Income  Credit_Score  Years_of_Employment  Finance_Status  \\\n0          52800.0         750.0                 10.0               4   \n1          79200.0         800.0                  8.0               4   \n3         105600.0         900.0                 12.0               5   \n4         132000.0         700.0                 15.0               4   \n6          46200.0         700.0                  8.0               2   \n..             ...           ...                  ...             ...   \n388         5940.0         670.0                  4.0               3   \n389         6336.0         660.0                  3.0               3   \n390        11220.0         750.0                  7.0               3   \n392         6336.0         670.0                  4.0               3   \n393         9240.0         730.0                  5.0               3   \n\n     Number_of_Children    Price  \n0                   2.0  57000.0  \n1                   1.0  15000.0  \n3                   3.0  26001.0  \n4                   2.0  26001.0  \n6                  -1.0  15001.0  \n..                  ...      ...  \n388                 2.0  17000.0  \n389                 1.0  19000.0  \n390                 0.0  13000.0  \n392                 2.0  19000.0  \n393                 0.0  39000.0  \n\n[250 rows x 6 columns]",
      "text/html": "<div>\n<style scoped>\n    .dataframe tbody tr th:only-of-type {\n        vertical-align: middle;\n    }\n\n    .dataframe tbody tr th {\n        vertical-align: top;\n    }\n\n    .dataframe thead th {\n        text-align: right;\n    }\n</style>\n<table border=\"1\" class=\"dataframe\">\n  <thead>\n    <tr style=\"text-align: right;\">\n      <th></th>\n      <th>Annual_Income</th>\n      <th>Credit_Score</th>\n      <th>Years_of_Employment</th>\n      <th>Finance_Status</th>\n      <th>Number_of_Children</th>\n      <th>Price</th>\n    </tr>\n  </thead>\n  <tbody>\n    <tr>\n      <th>0</th>\n      <td>52800.0</td>\n      <td>750.0</td>\n      <td>10.0</td>\n      <td>4</td>\n      <td>2.0</td>\n      <td>57000.0</td>\n    </tr>\n    <tr>\n      <th>1</th>\n      <td>79200.0</td>\n      <td>800.0</td>\n      <td>8.0</td>\n      <td>4</td>\n      <td>1.0</td>\n      <td>15000.0</td>\n    </tr>\n    <tr>\n      <th>3</th>\n      <td>105600.0</td>\n      <td>900.0</td>\n      <td>12.0</td>\n      <td>5</td>\n      <td>3.0</td>\n      <td>26001.0</td>\n    </tr>\n    <tr>\n      <th>4</th>\n      <td>132000.0</td>\n      <td>700.0</td>\n      <td>15.0</td>\n      <td>4</td>\n      <td>2.0</td>\n      <td>26001.0</td>\n    </tr>\n    <tr>\n      <th>6</th>\n      <td>46200.0</td>\n      <td>700.0</td>\n      <td>8.0</td>\n      <td>2</td>\n      <td>-1.0</td>\n      <td>15001.0</td>\n    </tr>\n    <tr>\n      <th>...</th>\n      <td>...</td>\n      <td>...</td>\n      <td>...</td>\n      <td>...</td>\n      <td>...</td>\n      <td>...</td>\n    </tr>\n    <tr>\n      <th>388</th>\n      <td>5940.0</td>\n      <td>670.0</td>\n      <td>4.0</td>\n      <td>3</td>\n      <td>2.0</td>\n      <td>17000.0</td>\n    </tr>\n    <tr>\n      <th>389</th>\n      <td>6336.0</td>\n      <td>660.0</td>\n      <td>3.0</td>\n      <td>3</td>\n      <td>1.0</td>\n      <td>19000.0</td>\n    </tr>\n    <tr>\n      <th>390</th>\n      <td>11220.0</td>\n      <td>750.0</td>\n      <td>7.0</td>\n      <td>3</td>\n      <td>0.0</td>\n      <td>13000.0</td>\n    </tr>\n    <tr>\n      <th>392</th>\n      <td>6336.0</td>\n      <td>670.0</td>\n      <td>4.0</td>\n      <td>3</td>\n      <td>2.0</td>\n      <td>19000.0</td>\n    </tr>\n    <tr>\n      <th>393</th>\n      <td>9240.0</td>\n      <td>730.0</td>\n      <td>5.0</td>\n      <td>3</td>\n      <td>0.0</td>\n      <td>39000.0</td>\n    </tr>\n  </tbody>\n</table>\n<p>250 rows × 6 columns</p>\n</div>"
     },
     "execution_count": 25,
     "metadata": {},
     "output_type": "execute_result"
    }
   ],
   "source": [
    "data_reg['Finance_Status'] = data_reg['Finance_Status'].replace(label_mapping)\n",
    "data_reg"
   ],
   "metadata": {
    "collapsed": false,
    "ExecuteTime": {
     "end_time": "2025-01-28T19:48:02.069278300Z",
     "start_time": "2025-01-28T19:48:01.975908800Z"
    }
   },
   "id": "5542f05055db6e1",
   "execution_count": 25
  },
  {
   "cell_type": "code",
   "outputs": [
    {
     "data": {
      "text/plain": "     Annual_Income  Credit_Score  Years_of_Employment  Finance_Status  \\\n0          52800.0         750.0                 10.0               4   \n1          79200.0         800.0                  8.0               4   \n3         105600.0         900.0                 12.0               5   \n4         132000.0         700.0                 15.0               4   \n6          46200.0         700.0                  8.0               2   \n..             ...           ...                  ...             ...   \n388         5940.0         670.0                  4.0               3   \n389         6336.0         660.0                  3.0               3   \n390        11220.0         750.0                  7.0               3   \n392         6336.0         670.0                  4.0               3   \n393         9240.0         730.0                  5.0               3   \n\n     Number_of_Children  \n0                   2.0  \n1                   1.0  \n3                   3.0  \n4                   2.0  \n6                  -1.0  \n..                  ...  \n388                 2.0  \n389                 1.0  \n390                 0.0  \n392                 2.0  \n393                 0.0  \n\n[250 rows x 5 columns]",
      "text/html": "<div>\n<style scoped>\n    .dataframe tbody tr th:only-of-type {\n        vertical-align: middle;\n    }\n\n    .dataframe tbody tr th {\n        vertical-align: top;\n    }\n\n    .dataframe thead th {\n        text-align: right;\n    }\n</style>\n<table border=\"1\" class=\"dataframe\">\n  <thead>\n    <tr style=\"text-align: right;\">\n      <th></th>\n      <th>Annual_Income</th>\n      <th>Credit_Score</th>\n      <th>Years_of_Employment</th>\n      <th>Finance_Status</th>\n      <th>Number_of_Children</th>\n    </tr>\n  </thead>\n  <tbody>\n    <tr>\n      <th>0</th>\n      <td>52800.0</td>\n      <td>750.0</td>\n      <td>10.0</td>\n      <td>4</td>\n      <td>2.0</td>\n    </tr>\n    <tr>\n      <th>1</th>\n      <td>79200.0</td>\n      <td>800.0</td>\n      <td>8.0</td>\n      <td>4</td>\n      <td>1.0</td>\n    </tr>\n    <tr>\n      <th>3</th>\n      <td>105600.0</td>\n      <td>900.0</td>\n      <td>12.0</td>\n      <td>5</td>\n      <td>3.0</td>\n    </tr>\n    <tr>\n      <th>4</th>\n      <td>132000.0</td>\n      <td>700.0</td>\n      <td>15.0</td>\n      <td>4</td>\n      <td>2.0</td>\n    </tr>\n    <tr>\n      <th>6</th>\n      <td>46200.0</td>\n      <td>700.0</td>\n      <td>8.0</td>\n      <td>2</td>\n      <td>-1.0</td>\n    </tr>\n    <tr>\n      <th>...</th>\n      <td>...</td>\n      <td>...</td>\n      <td>...</td>\n      <td>...</td>\n      <td>...</td>\n    </tr>\n    <tr>\n      <th>388</th>\n      <td>5940.0</td>\n      <td>670.0</td>\n      <td>4.0</td>\n      <td>3</td>\n      <td>2.0</td>\n    </tr>\n    <tr>\n      <th>389</th>\n      <td>6336.0</td>\n      <td>660.0</td>\n      <td>3.0</td>\n      <td>3</td>\n      <td>1.0</td>\n    </tr>\n    <tr>\n      <th>390</th>\n      <td>11220.0</td>\n      <td>750.0</td>\n      <td>7.0</td>\n      <td>3</td>\n      <td>0.0</td>\n    </tr>\n    <tr>\n      <th>392</th>\n      <td>6336.0</td>\n      <td>670.0</td>\n      <td>4.0</td>\n      <td>3</td>\n      <td>2.0</td>\n    </tr>\n    <tr>\n      <th>393</th>\n      <td>9240.0</td>\n      <td>730.0</td>\n      <td>5.0</td>\n      <td>3</td>\n      <td>0.0</td>\n    </tr>\n  </tbody>\n</table>\n<p>250 rows × 5 columns</p>\n</div>"
     },
     "execution_count": 26,
     "metadata": {},
     "output_type": "execute_result"
    }
   ],
   "source": [
    "Y = data_reg['Price']\n",
    "X = data_reg.drop(columns=['Price'])\n",
    "X"
   ],
   "metadata": {
    "collapsed": false,
    "ExecuteTime": {
     "end_time": "2025-01-28T19:48:02.212266700Z",
     "start_time": "2025-01-28T19:48:02.070276900Z"
    }
   },
   "id": "6dc2b6068963d88",
   "execution_count": 26
  },
  {
   "cell_type": "code",
   "outputs": [
    {
     "data": {
      "text/plain": "0      57000.0\n1      15000.0\n3      26001.0\n4      26001.0\n6      15001.0\n        ...   \n388    17000.0\n389    19000.0\n390    13000.0\n392    19000.0\n393    39000.0\nName: Price, Length: 250, dtype: float64"
     },
     "execution_count": 27,
     "metadata": {},
     "output_type": "execute_result"
    }
   ],
   "source": [
    "Y"
   ],
   "metadata": {
    "collapsed": false,
    "ExecuteTime": {
     "end_time": "2025-01-28T19:48:02.236203400Z",
     "start_time": "2025-01-28T19:48:02.184723900Z"
    }
   },
   "id": "ec34fe61b1f864cc",
   "execution_count": 27
  },
  {
   "cell_type": "code",
   "outputs": [],
   "source": [
    "x_train, x_test, y_train, y_test = train_test_split(X,Y,test_size=0.3, random_state=42)"
   ],
   "metadata": {
    "collapsed": false,
    "ExecuteTime": {
     "end_time": "2025-01-28T19:48:02.375530600Z",
     "start_time": "2025-01-28T19:48:02.240192200Z"
    }
   },
   "id": "894c6ab6fd52198e",
   "execution_count": 28
  },
  {
   "cell_type": "code",
   "outputs": [
    {
     "data": {
      "text/plain": "Pipeline(steps=[('polynomialfeatures', PolynomialFeatures(degree=4)),\n                ('linearregression', LinearRegression())])",
      "text/html": "<style>#sk-container-id-2 {\n  /* Definition of color scheme common for light and dark mode */\n  --sklearn-color-text: black;\n  --sklearn-color-line: gray;\n  /* Definition of color scheme for unfitted estimators */\n  --sklearn-color-unfitted-level-0: #fff5e6;\n  --sklearn-color-unfitted-level-1: #f6e4d2;\n  --sklearn-color-unfitted-level-2: #ffe0b3;\n  --sklearn-color-unfitted-level-3: chocolate;\n  /* Definition of color scheme for fitted estimators */\n  --sklearn-color-fitted-level-0: #f0f8ff;\n  --sklearn-color-fitted-level-1: #d4ebff;\n  --sklearn-color-fitted-level-2: #b3dbfd;\n  --sklearn-color-fitted-level-3: cornflowerblue;\n\n  /* Specific color for light theme */\n  --sklearn-color-text-on-default-background: var(--sg-text-color, var(--theme-code-foreground, var(--jp-content-font-color1, black)));\n  --sklearn-color-background: var(--sg-background-color, var(--theme-background, var(--jp-layout-color0, white)));\n  --sklearn-color-border-box: var(--sg-text-color, var(--theme-code-foreground, var(--jp-content-font-color1, black)));\n  --sklearn-color-icon: #696969;\n\n  @media (prefers-color-scheme: dark) {\n    /* Redefinition of color scheme for dark theme */\n    --sklearn-color-text-on-default-background: var(--sg-text-color, var(--theme-code-foreground, var(--jp-content-font-color1, white)));\n    --sklearn-color-background: var(--sg-background-color, var(--theme-background, var(--jp-layout-color0, #111)));\n    --sklearn-color-border-box: var(--sg-text-color, var(--theme-code-foreground, var(--jp-content-font-color1, white)));\n    --sklearn-color-icon: #878787;\n  }\n}\n\n#sk-container-id-2 {\n  color: var(--sklearn-color-text);\n}\n\n#sk-container-id-2 pre {\n  padding: 0;\n}\n\n#sk-container-id-2 input.sk-hidden--visually {\n  border: 0;\n  clip: rect(1px 1px 1px 1px);\n  clip: rect(1px, 1px, 1px, 1px);\n  height: 1px;\n  margin: -1px;\n  overflow: hidden;\n  padding: 0;\n  position: absolute;\n  width: 1px;\n}\n\n#sk-container-id-2 div.sk-dashed-wrapped {\n  border: 1px dashed var(--sklearn-color-line);\n  margin: 0 0.4em 0.5em 0.4em;\n  box-sizing: border-box;\n  padding-bottom: 0.4em;\n  background-color: var(--sklearn-color-background);\n}\n\n#sk-container-id-2 div.sk-container {\n  /* jupyter's `normalize.less` sets `[hidden] { display: none; }`\n     but bootstrap.min.css set `[hidden] { display: none !important; }`\n     so we also need the `!important` here to be able to override the\n     default hidden behavior on the sphinx rendered scikit-learn.org.\n     See: https://github.com/scikit-learn/scikit-learn/issues/21755 */\n  display: inline-block !important;\n  position: relative;\n}\n\n#sk-container-id-2 div.sk-text-repr-fallback {\n  display: none;\n}\n\ndiv.sk-parallel-item,\ndiv.sk-serial,\ndiv.sk-item {\n  /* draw centered vertical line to link estimators */\n  background-image: linear-gradient(var(--sklearn-color-text-on-default-background), var(--sklearn-color-text-on-default-background));\n  background-size: 2px 100%;\n  background-repeat: no-repeat;\n  background-position: center center;\n}\n\n/* Parallel-specific style estimator block */\n\n#sk-container-id-2 div.sk-parallel-item::after {\n  content: \"\";\n  width: 100%;\n  border-bottom: 2px solid var(--sklearn-color-text-on-default-background);\n  flex-grow: 1;\n}\n\n#sk-container-id-2 div.sk-parallel {\n  display: flex;\n  align-items: stretch;\n  justify-content: center;\n  background-color: var(--sklearn-color-background);\n  position: relative;\n}\n\n#sk-container-id-2 div.sk-parallel-item {\n  display: flex;\n  flex-direction: column;\n}\n\n#sk-container-id-2 div.sk-parallel-item:first-child::after {\n  align-self: flex-end;\n  width: 50%;\n}\n\n#sk-container-id-2 div.sk-parallel-item:last-child::after {\n  align-self: flex-start;\n  width: 50%;\n}\n\n#sk-container-id-2 div.sk-parallel-item:only-child::after {\n  width: 0;\n}\n\n/* Serial-specific style estimator block */\n\n#sk-container-id-2 div.sk-serial {\n  display: flex;\n  flex-direction: column;\n  align-items: center;\n  background-color: var(--sklearn-color-background);\n  padding-right: 1em;\n  padding-left: 1em;\n}\n\n\n/* Toggleable style: style used for estimator/Pipeline/ColumnTransformer box that is\nclickable and can be expanded/collapsed.\n- Pipeline and ColumnTransformer use this feature and define the default style\n- Estimators will overwrite some part of the style using the `sk-estimator` class\n*/\n\n/* Pipeline and ColumnTransformer style (default) */\n\n#sk-container-id-2 div.sk-toggleable {\n  /* Default theme specific background. It is overwritten whether we have a\n  specific estimator or a Pipeline/ColumnTransformer */\n  background-color: var(--sklearn-color-background);\n}\n\n/* Toggleable label */\n#sk-container-id-2 label.sk-toggleable__label {\n  cursor: pointer;\n  display: block;\n  width: 100%;\n  margin-bottom: 0;\n  padding: 0.5em;\n  box-sizing: border-box;\n  text-align: center;\n}\n\n#sk-container-id-2 label.sk-toggleable__label-arrow:before {\n  /* Arrow on the left of the label */\n  content: \"▸\";\n  float: left;\n  margin-right: 0.25em;\n  color: var(--sklearn-color-icon);\n}\n\n#sk-container-id-2 label.sk-toggleable__label-arrow:hover:before {\n  color: var(--sklearn-color-text);\n}\n\n/* Toggleable content - dropdown */\n\n#sk-container-id-2 div.sk-toggleable__content {\n  max-height: 0;\n  max-width: 0;\n  overflow: hidden;\n  text-align: left;\n  /* unfitted */\n  background-color: var(--sklearn-color-unfitted-level-0);\n}\n\n#sk-container-id-2 div.sk-toggleable__content.fitted {\n  /* fitted */\n  background-color: var(--sklearn-color-fitted-level-0);\n}\n\n#sk-container-id-2 div.sk-toggleable__content pre {\n  margin: 0.2em;\n  border-radius: 0.25em;\n  color: var(--sklearn-color-text);\n  /* unfitted */\n  background-color: var(--sklearn-color-unfitted-level-0);\n}\n\n#sk-container-id-2 div.sk-toggleable__content.fitted pre {\n  /* unfitted */\n  background-color: var(--sklearn-color-fitted-level-0);\n}\n\n#sk-container-id-2 input.sk-toggleable__control:checked~div.sk-toggleable__content {\n  /* Expand drop-down */\n  max-height: 200px;\n  max-width: 100%;\n  overflow: auto;\n}\n\n#sk-container-id-2 input.sk-toggleable__control:checked~label.sk-toggleable__label-arrow:before {\n  content: \"▾\";\n}\n\n/* Pipeline/ColumnTransformer-specific style */\n\n#sk-container-id-2 div.sk-label input.sk-toggleable__control:checked~label.sk-toggleable__label {\n  color: var(--sklearn-color-text);\n  background-color: var(--sklearn-color-unfitted-level-2);\n}\n\n#sk-container-id-2 div.sk-label.fitted input.sk-toggleable__control:checked~label.sk-toggleable__label {\n  background-color: var(--sklearn-color-fitted-level-2);\n}\n\n/* Estimator-specific style */\n\n/* Colorize estimator box */\n#sk-container-id-2 div.sk-estimator input.sk-toggleable__control:checked~label.sk-toggleable__label {\n  /* unfitted */\n  background-color: var(--sklearn-color-unfitted-level-2);\n}\n\n#sk-container-id-2 div.sk-estimator.fitted input.sk-toggleable__control:checked~label.sk-toggleable__label {\n  /* fitted */\n  background-color: var(--sklearn-color-fitted-level-2);\n}\n\n#sk-container-id-2 div.sk-label label.sk-toggleable__label,\n#sk-container-id-2 div.sk-label label {\n  /* The background is the default theme color */\n  color: var(--sklearn-color-text-on-default-background);\n}\n\n/* On hover, darken the color of the background */\n#sk-container-id-2 div.sk-label:hover label.sk-toggleable__label {\n  color: var(--sklearn-color-text);\n  background-color: var(--sklearn-color-unfitted-level-2);\n}\n\n/* Label box, darken color on hover, fitted */\n#sk-container-id-2 div.sk-label.fitted:hover label.sk-toggleable__label.fitted {\n  color: var(--sklearn-color-text);\n  background-color: var(--sklearn-color-fitted-level-2);\n}\n\n/* Estimator label */\n\n#sk-container-id-2 div.sk-label label {\n  font-family: monospace;\n  font-weight: bold;\n  display: inline-block;\n  line-height: 1.2em;\n}\n\n#sk-container-id-2 div.sk-label-container {\n  text-align: center;\n}\n\n/* Estimator-specific */\n#sk-container-id-2 div.sk-estimator {\n  font-family: monospace;\n  border: 1px dotted var(--sklearn-color-border-box);\n  border-radius: 0.25em;\n  box-sizing: border-box;\n  margin-bottom: 0.5em;\n  /* unfitted */\n  background-color: var(--sklearn-color-unfitted-level-0);\n}\n\n#sk-container-id-2 div.sk-estimator.fitted {\n  /* fitted */\n  background-color: var(--sklearn-color-fitted-level-0);\n}\n\n/* on hover */\n#sk-container-id-2 div.sk-estimator:hover {\n  /* unfitted */\n  background-color: var(--sklearn-color-unfitted-level-2);\n}\n\n#sk-container-id-2 div.sk-estimator.fitted:hover {\n  /* fitted */\n  background-color: var(--sklearn-color-fitted-level-2);\n}\n\n/* Specification for estimator info (e.g. \"i\" and \"?\") */\n\n/* Common style for \"i\" and \"?\" */\n\n.sk-estimator-doc-link,\na:link.sk-estimator-doc-link,\na:visited.sk-estimator-doc-link {\n  float: right;\n  font-size: smaller;\n  line-height: 1em;\n  font-family: monospace;\n  background-color: var(--sklearn-color-background);\n  border-radius: 1em;\n  height: 1em;\n  width: 1em;\n  text-decoration: none !important;\n  margin-left: 1ex;\n  /* unfitted */\n  border: var(--sklearn-color-unfitted-level-1) 1pt solid;\n  color: var(--sklearn-color-unfitted-level-1);\n}\n\n.sk-estimator-doc-link.fitted,\na:link.sk-estimator-doc-link.fitted,\na:visited.sk-estimator-doc-link.fitted {\n  /* fitted */\n  border: var(--sklearn-color-fitted-level-1) 1pt solid;\n  color: var(--sklearn-color-fitted-level-1);\n}\n\n/* On hover */\ndiv.sk-estimator:hover .sk-estimator-doc-link:hover,\n.sk-estimator-doc-link:hover,\ndiv.sk-label-container:hover .sk-estimator-doc-link:hover,\n.sk-estimator-doc-link:hover {\n  /* unfitted */\n  background-color: var(--sklearn-color-unfitted-level-3);\n  color: var(--sklearn-color-background);\n  text-decoration: none;\n}\n\ndiv.sk-estimator.fitted:hover .sk-estimator-doc-link.fitted:hover,\n.sk-estimator-doc-link.fitted:hover,\ndiv.sk-label-container:hover .sk-estimator-doc-link.fitted:hover,\n.sk-estimator-doc-link.fitted:hover {\n  /* fitted */\n  background-color: var(--sklearn-color-fitted-level-3);\n  color: var(--sklearn-color-background);\n  text-decoration: none;\n}\n\n/* Span, style for the box shown on hovering the info icon */\n.sk-estimator-doc-link span {\n  display: none;\n  z-index: 9999;\n  position: relative;\n  font-weight: normal;\n  right: .2ex;\n  padding: .5ex;\n  margin: .5ex;\n  width: min-content;\n  min-width: 20ex;\n  max-width: 50ex;\n  color: var(--sklearn-color-text);\n  box-shadow: 2pt 2pt 4pt #999;\n  /* unfitted */\n  background: var(--sklearn-color-unfitted-level-0);\n  border: .5pt solid var(--sklearn-color-unfitted-level-3);\n}\n\n.sk-estimator-doc-link.fitted span {\n  /* fitted */\n  background: var(--sklearn-color-fitted-level-0);\n  border: var(--sklearn-color-fitted-level-3);\n}\n\n.sk-estimator-doc-link:hover span {\n  display: block;\n}\n\n/* \"?\"-specific style due to the `<a>` HTML tag */\n\n#sk-container-id-2 a.estimator_doc_link {\n  float: right;\n  font-size: 1rem;\n  line-height: 1em;\n  font-family: monospace;\n  background-color: var(--sklearn-color-background);\n  border-radius: 1rem;\n  height: 1rem;\n  width: 1rem;\n  text-decoration: none;\n  /* unfitted */\n  color: var(--sklearn-color-unfitted-level-1);\n  border: var(--sklearn-color-unfitted-level-1) 1pt solid;\n}\n\n#sk-container-id-2 a.estimator_doc_link.fitted {\n  /* fitted */\n  border: var(--sklearn-color-fitted-level-1) 1pt solid;\n  color: var(--sklearn-color-fitted-level-1);\n}\n\n/* On hover */\n#sk-container-id-2 a.estimator_doc_link:hover {\n  /* unfitted */\n  background-color: var(--sklearn-color-unfitted-level-3);\n  color: var(--sklearn-color-background);\n  text-decoration: none;\n}\n\n#sk-container-id-2 a.estimator_doc_link.fitted:hover {\n  /* fitted */\n  background-color: var(--sklearn-color-fitted-level-3);\n}\n</style><div id=\"sk-container-id-2\" class=\"sk-top-container\"><div class=\"sk-text-repr-fallback\"><pre>Pipeline(steps=[(&#x27;polynomialfeatures&#x27;, PolynomialFeatures(degree=4)),\n                (&#x27;linearregression&#x27;, LinearRegression())])</pre><b>In a Jupyter environment, please rerun this cell to show the HTML representation or trust the notebook. <br />On GitHub, the HTML representation is unable to render, please try loading this page with nbviewer.org.</b></div><div class=\"sk-container\" hidden><div class=\"sk-item sk-dashed-wrapped\"><div class=\"sk-label-container\"><div class=\"sk-label  sk-toggleable\"><input class=\"sk-toggleable__control sk-hidden--visually\" id=\"sk-estimator-id-4\" type=\"checkbox\" ><label for=\"sk-estimator-id-4\" class=\"sk-toggleable__label  sk-toggleable__label-arrow \">&nbsp;&nbsp;Pipeline<a class=\"sk-estimator-doc-link \" rel=\"noreferrer\" target=\"_blank\" href=\"https://scikit-learn.org/1.4/modules/generated/sklearn.pipeline.Pipeline.html\">?<span>Documentation for Pipeline</span></a><span class=\"sk-estimator-doc-link \">i<span>Not fitted</span></span></label><div class=\"sk-toggleable__content \"><pre>Pipeline(steps=[(&#x27;polynomialfeatures&#x27;, PolynomialFeatures(degree=4)),\n                (&#x27;linearregression&#x27;, LinearRegression())])</pre></div> </div></div><div class=\"sk-serial\"><div class=\"sk-item\"><div class=\"sk-estimator  sk-toggleable\"><input class=\"sk-toggleable__control sk-hidden--visually\" id=\"sk-estimator-id-5\" type=\"checkbox\" ><label for=\"sk-estimator-id-5\" class=\"sk-toggleable__label  sk-toggleable__label-arrow \">&nbsp;PolynomialFeatures<a class=\"sk-estimator-doc-link \" rel=\"noreferrer\" target=\"_blank\" href=\"https://scikit-learn.org/1.4/modules/generated/sklearn.preprocessing.PolynomialFeatures.html\">?<span>Documentation for PolynomialFeatures</span></a></label><div class=\"sk-toggleable__content \"><pre>PolynomialFeatures(degree=4)</pre></div> </div></div><div class=\"sk-item\"><div class=\"sk-estimator  sk-toggleable\"><input class=\"sk-toggleable__control sk-hidden--visually\" id=\"sk-estimator-id-6\" type=\"checkbox\" ><label for=\"sk-estimator-id-6\" class=\"sk-toggleable__label  sk-toggleable__label-arrow \">&nbsp;LinearRegression<a class=\"sk-estimator-doc-link \" rel=\"noreferrer\" target=\"_blank\" href=\"https://scikit-learn.org/1.4/modules/generated/sklearn.linear_model.LinearRegression.html\">?<span>Documentation for LinearRegression</span></a></label><div class=\"sk-toggleable__content \"><pre>LinearRegression()</pre></div> </div></div></div></div></div></div>"
     },
     "execution_count": 29,
     "metadata": {},
     "output_type": "execute_result"
    }
   ],
   "source": [
    "reg_model = make_pipeline(PolynomialFeatures(degree=4), LinearRegression())\n",
    "reg_model"
   ],
   "metadata": {
    "collapsed": false,
    "ExecuteTime": {
     "end_time": "2025-01-28T19:48:02.428388400Z",
     "start_time": "2025-01-28T19:48:02.347906Z"
    }
   },
   "id": "e14be2afb012ea36",
   "execution_count": 29
  },
  {
   "cell_type": "code",
   "outputs": [],
   "source": [
    "reg_model.fit(x_train, y_train)\n",
    "y_pred = reg_model.predict(x_test)"
   ],
   "metadata": {
    "collapsed": false,
    "ExecuteTime": {
     "end_time": "2025-01-28T19:48:04.653149100Z",
     "start_time": "2025-01-28T19:48:02.419412200Z"
    }
   },
   "id": "f15f8e1fbbd2a927",
   "execution_count": 30
  },
  {
   "cell_type": "code",
   "outputs": [
    {
     "name": "stdout",
     "output_type": "stream",
     "text": [
      "MSE: 24424539408373.77\n",
      "RMSE: 4942118.92\n",
      "MAE: 747758.11\n",
      "R²: -172558.16\n",
      "Explained Variance: -171596.75\n",
      "Cross-validation scores: [-4.39906795e+12 -2.42020945e+05 -1.40726695e+04 -8.41183285e-01\n",
      " -8.62803990e+00]\n",
      "Average CV score: -879813641915.10 ± 3519254311557.32\n"
     ]
    }
   ],
   "source": [
    "# 1. Basic Metrics\n",
    "mse = mean_squared_error(y_test, y_pred)\n",
    "rmse = np.sqrt(mse)\n",
    "mae = mean_absolute_error(y_test, y_pred)\n",
    "r2 = r2_score(y_test, y_pred)\n",
    "ev = explained_variance_score(y_test, y_pred)\n",
    "\n",
    "print(f'MSE: {mse:.2f}')\n",
    "print(f'RMSE: {rmse:.2f}')\n",
    "print(f'MAE: {mae:.2f}')\n",
    "print(f'R²: {r2:.2f}')\n",
    "print(f'Explained Variance: {ev:.2f}')\n",
    "\n",
    "cv_scores = cross_val_score(reg_model, X, Y, cv=5, scoring='r2')\n",
    "print(f'Cross-validation scores: {cv_scores}')\n",
    "print(f'Average CV score: {cv_scores.mean():.2f} ± {cv_scores.std()*2:.2f}')"
   ],
   "metadata": {
    "collapsed": false,
    "ExecuteTime": {
     "end_time": "2025-01-28T19:48:06.808980700Z",
     "start_time": "2025-01-28T19:48:04.651155400Z"
    }
   },
   "id": "63b8a181a6ceba6b",
   "execution_count": 31
  },
  {
   "cell_type": "code",
   "outputs": [
    {
     "name": "stdout",
     "output_type": "stream",
     "text": [
      "Fitting 5 folds for each of 70 candidates, totalling 350 fits\n",
      "Fitting 5 folds for each of 56 candidates, totalling 280 fits\n",
      "Fitting 5 folds for each of 448 candidates, totalling 2240 fits\n",
      "\n",
      "Model Comparison:\n",
      "   model_name                                        best_params   best_r2  \\\n",
      "0       Ridge   {'model__alpha': 200.0, 'model__solver': 'lsqr'}  0.006947   \n",
      "1       Lasso  {'model__alpha': 400.0, 'model__max_iter': 100... -0.009334   \n",
      "2  ElasticNet  {'model__alpha': 1.0, 'model__l1_ratio': 0.0, ...  0.006687   \n",
      "\n",
      "       best_mse     best_rmse      best_mae  \n",
      "0  1.503501e+08  12261.733346  10398.235839  \n",
      "1  1.509671e+08  12286.867466  10566.966177  \n",
      "2  1.502015e+08  12255.670155  10433.602079  \n"
     ]
    }
   ],
   "source": [
    "scoring = {\n",
    "    'r2': 'r2',\n",
    "    'neg_mse': 'neg_mean_squared_error',\n",
    "    'neg_mae': 'neg_mean_absolute_error'\n",
    "}\n",
    "\n",
    "# Create pipelines for each model\n",
    "ridge_pipeline = Pipeline([\n",
    "    ('scaler', StandardScaler()),\n",
    "    ('model', Ridge())\n",
    "])\n",
    "\n",
    "lasso_pipeline = Pipeline([\n",
    "    ('scaler', StandardScaler()),\n",
    "    ('model', Lasso())\n",
    "])\n",
    "\n",
    "elastic_pipeline = Pipeline([\n",
    "    ('scaler', StandardScaler()),\n",
    "    ('model', ElasticNet())\n",
    "])\n",
    "\n",
    "ridge_params = {\n",
    "    'model__alpha': [0.0001, 0.001, 0.01, 0.1, 0.5, 1.0, 5.0, 10.0, 50.0, 100.0, 150.0, 200.0, 300.0, 400.0],\n",
    "    'model__solver': ['auto', 'svd', 'cholesky', 'lsqr', 'sag']\n",
    "}\n",
    "\n",
    "lasso_params = {\n",
    "    'model__alpha': [0.0001, 0.001, 0.01, 0.1, 0.5, 1.0, 5.0, 10.0, 50.0, 100.0, 150.0, 200.0, 300.0, 400.0],\n",
    "    'model__selection': ['cyclic', 'random'],\n",
    "    'model__max_iter': [1000, 2000]  \n",
    "}\n",
    "\n",
    "elastic_params = {\n",
    "    'model__alpha': [0.0001, 0.001, 0.01, 0.1, 0.5, 1.0, 5.0, 10.0, 50.0, 100.0, 150.0, 200.0, 300.0, 400.0],\n",
    "    'model__l1_ratio': [0.0, 0.1, 0.2, 0.4, 0.6, 0.8, 0.9, 1.0],\n",
    "    'model__selection': ['cyclic', 'random'],\n",
    "    'model__max_iter': [1000, 2000]  \n",
    "}\n",
    "\n",
    "\n",
    "def perform_grid_search(pipeline, params, model_name, X, y):\n",
    "    grid_search = GridSearchCV(\n",
    "        pipeline,\n",
    "        params,\n",
    "        cv=5,\n",
    "        scoring=scoring,\n",
    "        refit='r2',\n",
    "        n_jobs=-1,\n",
    "        verbose=1,\n",
    "        return_train_score=True\n",
    "    )\n",
    "\n",
    "    grid_search.fit(X, y)\n",
    "\n",
    "    best_params = grid_search.best_params_\n",
    "    best_r2 = grid_search.best_score_\n",
    "\n",
    "    cv_results = pd.DataFrame(grid_search.cv_results_)\n",
    "    best_index = grid_search.best_index_\n",
    "\n",
    "    results = {\n",
    "        'model_name': model_name,\n",
    "        'best_params': best_params,\n",
    "        'best_r2': best_r2,\n",
    "        'best_mse': -cv_results.loc[best_index, 'mean_test_neg_mse'],\n",
    "        'best_rmse': np.sqrt(-cv_results.loc[best_index, 'mean_test_neg_mse']),\n",
    "        'best_mae': -cv_results.loc[best_index, 'mean_test_neg_mae']\n",
    "    }\n",
    "\n",
    "    return grid_search, results\n",
    "\n",
    "models = [\n",
    "    (ridge_pipeline, ridge_params, 'Ridge'),\n",
    "    (lasso_pipeline, lasso_params, 'Lasso'),\n",
    "    (elastic_pipeline, elastic_params, 'ElasticNet')\n",
    "]\n",
    "\n",
    "results_list = []\n",
    "best_models = {}\n",
    "\n",
    "for pipeline, params, name in models:\n",
    "    grid_search, results = perform_grid_search(pipeline, params, name, x_train, y_train)\n",
    "    results_list.append(results)\n",
    "    best_models[name] = grid_search\n",
    "\n",
    "results_df = pd.DataFrame(results_list)\n",
    "print(\"\\nModel Comparison:\")\n",
    "print(results_df)"
   ],
   "metadata": {
    "collapsed": false,
    "ExecuteTime": {
     "end_time": "2025-01-28T19:48:13.717635600Z",
     "start_time": "2025-01-28T19:48:06.801999800Z"
    }
   },
   "id": "70dd7ca0ca9e472e",
   "execution_count": 32
  },
  {
   "cell_type": "code",
   "outputs": [
    {
     "name": "stdout",
     "output_type": "stream",
     "text": [
      "\n",
      "Best Model: Ridge\n",
      "Best Parameters: {'model__alpha': 200.0, 'model__solver': 'lsqr'}\n",
      "R² Score: 0.0069\n",
      "RMSE: 12261.7333\n",
      "MAE: 10398.2358\n"
     ]
    }
   ],
   "source": [
    "best_model_idx = results_df['best_r2'].idxmax()\n",
    "best_model_name = results_df.loc[best_model_idx, 'model_name']\n",
    "best_model = best_models[best_model_name]\n",
    "\n",
    "print(f\"\\nBest Model: {best_model_name}\")\n",
    "print(\"Best Parameters:\", results_df.loc[best_model_idx, 'best_params'])\n",
    "print(f\"R² Score: {results_df.loc[best_model_idx, 'best_r2']:.4f}\")\n",
    "print(f\"RMSE: {results_df.loc[best_model_idx, 'best_rmse']:.4f}\")\n",
    "print(f\"MAE: {results_df.loc[best_model_idx, 'best_mae']:.4f}\")"
   ],
   "metadata": {
    "collapsed": false,
    "ExecuteTime": {
     "end_time": "2025-01-28T19:48:13.728991100Z",
     "start_time": "2025-01-28T19:48:13.713646600Z"
    }
   },
   "id": "b282810e4d5aaf29",
   "execution_count": 33
  },
  {
   "cell_type": "code",
   "outputs": [
    {
     "name": "stdout",
     "output_type": "stream",
     "text": [
      "\n",
      "Test Set Results for Best Model:\n",
      "Model: Ridge\n",
      "Parameters: {'model__alpha': 200.0, 'model__solver': 'lsqr'}\n",
      "R² Score: -0.0279\n",
      "RMSE: 12061.8569\n",
      "MAE: 8912.6644\n"
     ]
    }
   ],
   "source": [
    "y_pred = best_model.predict(x_test)\n",
    "\n",
    "test_r2 = r2_score(y_test, y_pred)\n",
    "test_rmse = np.sqrt(mean_squared_error(y_test, y_pred))\n",
    "test_mae = mean_absolute_error(y_test, y_pred)\n",
    "\n",
    "print(\"\\nTest Set Results for Best Model:\")\n",
    "print(f\"Model: {best_model_name}\")\n",
    "print(f\"Parameters: {best_model.best_params_}\")\n",
    "print(f\"R² Score: {test_r2:.4f}\")\n",
    "print(f\"RMSE: {test_rmse:.4f}\")\n",
    "print(f\"MAE: {test_mae:.4f}\")"
   ],
   "metadata": {
    "collapsed": false,
    "ExecuteTime": {
     "end_time": "2025-01-28T19:48:13.731493400Z",
     "start_time": "2025-01-28T19:48:13.724240300Z"
    }
   },
   "id": "271d58020e97a27b",
   "execution_count": 34
  },
  {
   "cell_type": "code",
   "outputs": [
    {
     "data": {
      "text/plain": "<Figure size 1000x600 with 3 Axes>",
      "image/png": "[encoded data removed]"
     },
     "metadata": {},
     "output_type": "display_data"
    }
   ],
   "source": [
    "plt.figure(figsize=(10, 6))\n",
    "metrics = ['best_r2', 'best_rmse', 'best_mae']\n",
    "for metric in metrics:\n",
    "    plt.subplot(1, 3, metrics.index(metric) + 1)\n",
    "    plt.bar(results_df['model_name'], results_df[metric])\n",
    "    plt.title(metric.replace('best_', '').upper())\n",
    "    plt.xticks(rotation=45)\n",
    "plt.tight_layout()\n",
    "plt.show()"
   ],
   "metadata": {
    "collapsed": false,
    "ExecuteTime": {
     "end_time": "2025-01-28T19:48:14.153774300Z",
     "start_time": "2025-01-28T19:48:13.733487300Z"
    }
   },
   "id": "d5373696af1b0df1",
   "execution_count": 35
  }
 ],
 "metadata": {
  "kernelspec": {
   "display_name": "Python 3",
   "language": "python",
   "name": "python3"
  },
  "language_info": {
   "codemirror_mode": {
    "name": "ipython",
    "version": 2
   },
   "file_extension": ".py",
   "mimetype": "text/x-python",
   "name": "python",
   "nbconvert_exporter": "python",
   "pygments_lexer": "ipython2",
   "version": "2.7.6"
  }
 },
 "nbformat": 4,
 "nbformat_minor": 5
}
