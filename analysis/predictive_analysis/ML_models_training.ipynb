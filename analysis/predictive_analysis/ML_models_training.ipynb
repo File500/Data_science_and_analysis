{
 "cells": [
  {
   "cell_type": "code",
   "outputs": [],
   "source": [
    "# Surpress warnings:\n",
    "def warn(*args, **kwargs):\n",
    "    pass\n",
    "\n",
    "import warnings\n",
    "\n",
    "warnings.warn = warn"
   ],
   "metadata": {
    "collapsed": false,
    "ExecuteTime": {
     "end_time": "2025-01-26T13:46:23.293747Z",
     "start_time": "2025-01-26T13:46:23.290751400Z"
    }
   },
   "id": "fbe40d6efe172fb2",
   "execution_count": 6
  },
  {
   "cell_type": "code",
   "execution_count": 7,
   "id": "initial_id",
   "metadata": {
    "collapsed": true,
    "ExecuteTime": {
     "end_time": "2025-01-26T13:46:23.454538900Z",
     "start_time": "2025-01-26T13:46:23.299730600Z"
    }
   },
   "outputs": [],
   "source": [
    "import pandas as pd\n",
    "import seaborn as sns\n",
    "import numpy as np\n",
    "\n",
    "from imblearn.over_sampling import RandomOverSampler, SMOTE\n",
    "from sklearn.utils import shuffle\n",
    "from sklearn.preprocessing import OneHotEncoder, LabelEncoder\n",
    "from sklearn.impute import SimpleImputer, KNNImputer\n",
    "from sklearn.model_selection import train_test_split, learning_curve\n",
    "from sklearn.linear_model import LogisticRegression\n",
    "from sklearn.tree import DecisionTreeClassifier\n",
    "from sklearn.metrics import classification_report, accuracy_score, precision_recall_fscore_support, confusion_matrix,precision_score, recall_score, roc_auc_score\n",
    "from sklearn.ensemble import RandomForestClassifier, GradientBoostingClassifier, StackingClassifier\n",
    "from sklearn.neighbors import KNeighborsClassifier\n",
    "from xgboost import XGBClassifier\n",
    "from sklearn.ensemble import AdaBoostClassifier\n",
    "from sklearn.svm import SVC\n",
    "\n",
    "from imblearn.under_sampling import RandomUnderSampler\n",
    "from sklearn import metrics\n",
    "from sklearn.inspection import permutation_importance\n",
    "import matplotlib.pyplot as plt\n",
    "from sklearn.preprocessing import MinMaxScaler\n",
    "from sklearn.model_selection import GridSearchCV\n",
    "from collections import Counter\n",
    "\n",
    "from sklearn.linear_model import LinearRegression, Ridge, Lasso, ElasticNet\n",
    "from sklearn.metrics import r2_score\n",
    "from sklearn.preprocessing import PolynomialFeatures\n",
    "from sklearn.metrics import mean_squared_error\n",
    "from sklearn.preprocessing import scale\n",
    "from sklearn.preprocessing import StandardScaler\n",
    "from sklearn.feature_selection import SelectKBest, f_regression\n",
    "from sklearn.pipeline import Pipeline"
   ]
  },
  {
   "cell_type": "code",
   "outputs": [],
   "source": [
    "ownership_df_class = pd.read_csv(\"../../data/final_data/final_ownership_data.csv\")\n",
    "sales_df_reg = pd.read_csv(\"../../data/final_data/final_sales_data.csv\") "
   ],
   "metadata": {
    "collapsed": false,
    "ExecuteTime": {
     "end_time": "2025-01-26T13:46:23.458541800Z",
     "start_time": "2025-01-26T13:46:23.305653500Z"
    }
   },
   "id": "1bb3851136d7af98",
   "execution_count": 8
  },
  {
   "cell_type": "code",
   "outputs": [
    {
     "data": {
      "text/plain": "               Occupation  Annual_Income  Credit_Score  Years_of_Employment  \\\n0                 Teacher        52800.0           750                   10   \n1                Engineer        79200.0           800                    8   \n2                   Nurse        33000.0           650                    5   \n3                  Doctor       105600.0           900                   12   \n4             Businessman       132000.0           700                   15   \n..                    ...            ...           ...                  ...   \n391      Customer Support         4620.0           640                    3   \n392      Dental Hygienist         6336.0           670                    4   \n393       Project Manager         9240.0           730                    5   \n394     Medical Assistant         4620.0           640                    3   \n395  Customer Service Rep         4224.0           641                    4   \n\n    Finance_Status  Car  Number_of_Children  \n0             Good  Yes                   2  \n1             Good  Yes                   1  \n2             Fair   No                   0  \n3        Excellent  Yes                   3  \n4             Good  Yes                   2  \n..             ...  ...                 ...  \n391         Stable   No                   1  \n392         Stable  Yes                   2  \n393         Stable  Yes                   0  \n394         Stable   No                   1  \n395         Stable   No                   2  \n\n[396 rows x 7 columns]",
      "text/html": "<div>\n<style scoped>\n    .dataframe tbody tr th:only-of-type {\n        vertical-align: middle;\n    }\n\n    .dataframe tbody tr th {\n        vertical-align: top;\n    }\n\n    .dataframe thead th {\n        text-align: right;\n    }\n</style>\n<table border=\"1\" class=\"dataframe\">\n  <thead>\n    <tr style=\"text-align: right;\">\n      <th></th>\n      <th>Occupation</th>\n      <th>Annual_Income</th>\n      <th>Credit_Score</th>\n      <th>Years_of_Employment</th>\n      <th>Finance_Status</th>\n      <th>Car</th>\n      <th>Number_of_Children</th>\n    </tr>\n  </thead>\n  <tbody>\n    <tr>\n      <th>0</th>\n      <td>Teacher</td>\n      <td>52800.0</td>\n      <td>750</td>\n      <td>10</td>\n      <td>Good</td>\n      <td>Yes</td>\n      <td>2</td>\n    </tr>\n    <tr>\n      <th>1</th>\n      <td>Engineer</td>\n      <td>79200.0</td>\n      <td>800</td>\n      <td>8</td>\n      <td>Good</td>\n      <td>Yes</td>\n      <td>1</td>\n    </tr>\n    <tr>\n      <th>2</th>\n      <td>Nurse</td>\n      <td>33000.0</td>\n      <td>650</td>\n      <td>5</td>\n      <td>Fair</td>\n      <td>No</td>\n      <td>0</td>\n    </tr>\n    <tr>\n      <th>3</th>\n      <td>Doctor</td>\n      <td>105600.0</td>\n      <td>900</td>\n      <td>12</td>\n      <td>Excellent</td>\n      <td>Yes</td>\n      <td>3</td>\n    </tr>\n    <tr>\n      <th>4</th>\n      <td>Businessman</td>\n      <td>132000.0</td>\n      <td>700</td>\n      <td>15</td>\n      <td>Good</td>\n      <td>Yes</td>\n      <td>2</td>\n    </tr>\n    <tr>\n      <th>...</th>\n      <td>...</td>\n      <td>...</td>\n      <td>...</td>\n      <td>...</td>\n      <td>...</td>\n      <td>...</td>\n      <td>...</td>\n    </tr>\n    <tr>\n      <th>391</th>\n      <td>Customer Support</td>\n      <td>4620.0</td>\n      <td>640</td>\n      <td>3</td>\n      <td>Stable</td>\n      <td>No</td>\n      <td>1</td>\n    </tr>\n    <tr>\n      <th>392</th>\n      <td>Dental Hygienist</td>\n      <td>6336.0</td>\n      <td>670</td>\n      <td>4</td>\n      <td>Stable</td>\n      <td>Yes</td>\n      <td>2</td>\n    </tr>\n    <tr>\n      <th>393</th>\n      <td>Project Manager</td>\n      <td>9240.0</td>\n      <td>730</td>\n      <td>5</td>\n      <td>Stable</td>\n      <td>Yes</td>\n      <td>0</td>\n    </tr>\n    <tr>\n      <th>394</th>\n      <td>Medical Assistant</td>\n      <td>4620.0</td>\n      <td>640</td>\n      <td>3</td>\n      <td>Stable</td>\n      <td>No</td>\n      <td>1</td>\n    </tr>\n    <tr>\n      <th>395</th>\n      <td>Customer Service Rep</td>\n      <td>4224.0</td>\n      <td>641</td>\n      <td>4</td>\n      <td>Stable</td>\n      <td>No</td>\n      <td>2</td>\n    </tr>\n  </tbody>\n</table>\n<p>396 rows × 7 columns</p>\n</div>"
     },
     "execution_count": 9,
     "metadata": {},
     "output_type": "execute_result"
    }
   ],
   "source": [
    "ownership_df_class = ownership_df_class.drop(columns=['Unnamed: 0', '_c0'])\n",
    "ownership_df_class"
   ],
   "metadata": {
    "collapsed": false,
    "ExecuteTime": {
     "end_time": "2025-01-26T13:46:23.469498700Z",
     "start_time": "2025-01-26T13:46:23.439858500Z"
    }
   },
   "id": "df0a6a9c65bb0817",
   "execution_count": 9
  },
  {
   "cell_type": "code",
   "outputs": [
    {
     "data": {
      "text/plain": "             Car_id        Date  Gender  Annual_Income  \\\n0      C_CND_000001  2022-01-02    Male          148.5   \n1      C_CND_000002  2022-01-02    Male        16280.0   \n2      C_CND_000003  2022-01-02    Male        11385.0   \n3      C_CND_000004  2022-01-02    Male          148.5   \n4      C_CND_000005  2022-01-02    Male        16115.0   \n...             ...         ...     ...            ...   \n23901  C_CND_023902  2023-12-31    Male          148.5   \n23902  C_CND_023903  2023-12-31  Female         9900.0   \n23903  C_CND_023904  2023-12-31    Male         7755.0   \n23904  C_CND_023905  2023-12-31    Male          148.5   \n23905  C_CND_023906  2023-12-31    Male        13475.0   \n\n                               Dealer_Name    Company       Model  \\\n0      Buddy Storbeck's Diesel Service Inc       Ford  Expedition   \n1                         C & M Motors Inc      Dodge     Durango   \n2                              Capitol KIA   Cadillac    Eldorado   \n3                   Chrysler of Tri-Cities     Toyota      Celica   \n4                        Chrysler Plymouth      Acura          TL   \n...                                    ...        ...         ...   \n23901                     C & M Motors Inc   Plymouth     Voyager   \n23902       Ryder Truck Rental and Leasing  Chevrolet       Prizm   \n23903               Chrysler of Tri-Cities        BMW        328i   \n23904                    Chrysler Plymouth  Chevrolet       Metro   \n23905                      Pars Auto Sales      Lexus       ES300   \n\n                          Engine Transmission       Color  Price  Dealer_No   \\\n0      DoubleÂ Overhead Camshaft         Auto       Black  26000  06457-3834   \n1      DoubleÂ Overhead Camshaft         Auto       Black  19000  60504-7114   \n2              Overhead Camshaft       Manual         Red  31500  38701-8047   \n3              Overhead Camshaft       Manual  Pale White  14000  99301-3882   \n4      DoubleÂ Overhead Camshaft         Auto         Red  24500  53546-9427   \n...                          ...          ...         ...    ...         ...   \n23901          Overhead Camshaft       Manual         Red  12000  60504-7114   \n23902  DoubleÂ Overhead Camshaft         Auto       Black  16000  06457-3834   \n23903          Overhead Camshaft       Manual         Red  21000  99301-3882   \n23904  DoubleÂ Overhead Camshaft         Auto       Black  31000  53546-9427   \n23905  DoubleÂ Overhead Camshaft         Auto  Pale White  27500  38701-8047   \n\n      Body_Style    Phone   Dealer_Region  Month  Year  \n0            SUV  8264678     Connecticut      1  2022  \n1            SUV  6848189        Colorado      1  2022  \n2      Passenger  7298798  South Carolina      1  2022  \n3            SUV  6257557      Washington      1  2022  \n4      Hatchback  7081483       Wisconsin      1  2022  \n...          ...      ...             ...    ...   ...  \n23901  Passenger  8583598      Washington     12  2023  \n23902    Hardtop  7914229     Connecticut     12  2023  \n23903      Sedan  7659127         Arizona     12  2023  \n23904  Passenger  6030764           Texas     12  2023  \n23905    Hardtop  7020564     Connecticut     12  2023  \n\n[23906 rows x 17 columns]",
      "text/html": "<div>\n<style scoped>\n    .dataframe tbody tr th:only-of-type {\n        vertical-align: middle;\n    }\n\n    .dataframe tbody tr th {\n        vertical-align: top;\n    }\n\n    .dataframe thead th {\n        text-align: right;\n    }\n</style>\n<table border=\"1\" class=\"dataframe\">\n  <thead>\n    <tr style=\"text-align: right;\">\n      <th></th>\n      <th>Car_id</th>\n      <th>Date</th>\n      <th>Gender</th>\n      <th>Annual_Income</th>\n      <th>Dealer_Name</th>\n      <th>Company</th>\n      <th>Model</th>\n      <th>Engine</th>\n      <th>Transmission</th>\n      <th>Color</th>\n      <th>Price</th>\n      <th>Dealer_No</th>\n      <th>Body_Style</th>\n      <th>Phone</th>\n      <th>Dealer_Region</th>\n      <th>Month</th>\n      <th>Year</th>\n    </tr>\n  </thead>\n  <tbody>\n    <tr>\n      <th>0</th>\n      <td>C_CND_000001</td>\n      <td>2022-01-02</td>\n      <td>Male</td>\n      <td>148.5</td>\n      <td>Buddy Storbeck's Diesel Service Inc</td>\n      <td>Ford</td>\n      <td>Expedition</td>\n      <td>DoubleÂ Overhead Camshaft</td>\n      <td>Auto</td>\n      <td>Black</td>\n      <td>26000</td>\n      <td>06457-3834</td>\n      <td>SUV</td>\n      <td>8264678</td>\n      <td>Connecticut</td>\n      <td>1</td>\n      <td>2022</td>\n    </tr>\n    <tr>\n      <th>1</th>\n      <td>C_CND_000002</td>\n      <td>2022-01-02</td>\n      <td>Male</td>\n      <td>16280.0</td>\n      <td>C &amp; M Motors Inc</td>\n      <td>Dodge</td>\n      <td>Durango</td>\n      <td>DoubleÂ Overhead Camshaft</td>\n      <td>Auto</td>\n      <td>Black</td>\n      <td>19000</td>\n      <td>60504-7114</td>\n      <td>SUV</td>\n      <td>6848189</td>\n      <td>Colorado</td>\n      <td>1</td>\n      <td>2022</td>\n    </tr>\n    <tr>\n      <th>2</th>\n      <td>C_CND_000003</td>\n      <td>2022-01-02</td>\n      <td>Male</td>\n      <td>11385.0</td>\n      <td>Capitol KIA</td>\n      <td>Cadillac</td>\n      <td>Eldorado</td>\n      <td>Overhead Camshaft</td>\n      <td>Manual</td>\n      <td>Red</td>\n      <td>31500</td>\n      <td>38701-8047</td>\n      <td>Passenger</td>\n      <td>7298798</td>\n      <td>South Carolina</td>\n      <td>1</td>\n      <td>2022</td>\n    </tr>\n    <tr>\n      <th>3</th>\n      <td>C_CND_000004</td>\n      <td>2022-01-02</td>\n      <td>Male</td>\n      <td>148.5</td>\n      <td>Chrysler of Tri-Cities</td>\n      <td>Toyota</td>\n      <td>Celica</td>\n      <td>Overhead Camshaft</td>\n      <td>Manual</td>\n      <td>Pale White</td>\n      <td>14000</td>\n      <td>99301-3882</td>\n      <td>SUV</td>\n      <td>6257557</td>\n      <td>Washington</td>\n      <td>1</td>\n      <td>2022</td>\n    </tr>\n    <tr>\n      <th>4</th>\n      <td>C_CND_000005</td>\n      <td>2022-01-02</td>\n      <td>Male</td>\n      <td>16115.0</td>\n      <td>Chrysler Plymouth</td>\n      <td>Acura</td>\n      <td>TL</td>\n      <td>DoubleÂ Overhead Camshaft</td>\n      <td>Auto</td>\n      <td>Red</td>\n      <td>24500</td>\n      <td>53546-9427</td>\n      <td>Hatchback</td>\n      <td>7081483</td>\n      <td>Wisconsin</td>\n      <td>1</td>\n      <td>2022</td>\n    </tr>\n    <tr>\n      <th>...</th>\n      <td>...</td>\n      <td>...</td>\n      <td>...</td>\n      <td>...</td>\n      <td>...</td>\n      <td>...</td>\n      <td>...</td>\n      <td>...</td>\n      <td>...</td>\n      <td>...</td>\n      <td>...</td>\n      <td>...</td>\n      <td>...</td>\n      <td>...</td>\n      <td>...</td>\n      <td>...</td>\n      <td>...</td>\n    </tr>\n    <tr>\n      <th>23901</th>\n      <td>C_CND_023902</td>\n      <td>2023-12-31</td>\n      <td>Male</td>\n      <td>148.5</td>\n      <td>C &amp; M Motors Inc</td>\n      <td>Plymouth</td>\n      <td>Voyager</td>\n      <td>Overhead Camshaft</td>\n      <td>Manual</td>\n      <td>Red</td>\n      <td>12000</td>\n      <td>60504-7114</td>\n      <td>Passenger</td>\n      <td>8583598</td>\n      <td>Washington</td>\n      <td>12</td>\n      <td>2023</td>\n    </tr>\n    <tr>\n      <th>23902</th>\n      <td>C_CND_023903</td>\n      <td>2023-12-31</td>\n      <td>Female</td>\n      <td>9900.0</td>\n      <td>Ryder Truck Rental and Leasing</td>\n      <td>Chevrolet</td>\n      <td>Prizm</td>\n      <td>DoubleÂ Overhead Camshaft</td>\n      <td>Auto</td>\n      <td>Black</td>\n      <td>16000</td>\n      <td>06457-3834</td>\n      <td>Hardtop</td>\n      <td>7914229</td>\n      <td>Connecticut</td>\n      <td>12</td>\n      <td>2023</td>\n    </tr>\n    <tr>\n      <th>23903</th>\n      <td>C_CND_023904</td>\n      <td>2023-12-31</td>\n      <td>Male</td>\n      <td>7755.0</td>\n      <td>Chrysler of Tri-Cities</td>\n      <td>BMW</td>\n      <td>328i</td>\n      <td>Overhead Camshaft</td>\n      <td>Manual</td>\n      <td>Red</td>\n      <td>21000</td>\n      <td>99301-3882</td>\n      <td>Sedan</td>\n      <td>7659127</td>\n      <td>Arizona</td>\n      <td>12</td>\n      <td>2023</td>\n    </tr>\n    <tr>\n      <th>23904</th>\n      <td>C_CND_023905</td>\n      <td>2023-12-31</td>\n      <td>Male</td>\n      <td>148.5</td>\n      <td>Chrysler Plymouth</td>\n      <td>Chevrolet</td>\n      <td>Metro</td>\n      <td>DoubleÂ Overhead Camshaft</td>\n      <td>Auto</td>\n      <td>Black</td>\n      <td>31000</td>\n      <td>53546-9427</td>\n      <td>Passenger</td>\n      <td>6030764</td>\n      <td>Texas</td>\n      <td>12</td>\n      <td>2023</td>\n    </tr>\n    <tr>\n      <th>23905</th>\n      <td>C_CND_023906</td>\n      <td>2023-12-31</td>\n      <td>Male</td>\n      <td>13475.0</td>\n      <td>Pars Auto Sales</td>\n      <td>Lexus</td>\n      <td>ES300</td>\n      <td>DoubleÂ Overhead Camshaft</td>\n      <td>Auto</td>\n      <td>Pale White</td>\n      <td>27500</td>\n      <td>38701-8047</td>\n      <td>Hardtop</td>\n      <td>7020564</td>\n      <td>Connecticut</td>\n      <td>12</td>\n      <td>2023</td>\n    </tr>\n  </tbody>\n</table>\n<p>23906 rows × 17 columns</p>\n</div>"
     },
     "execution_count": 10,
     "metadata": {},
     "output_type": "execute_result"
    }
   ],
   "source": [
    "sales_df_reg = sales_df_reg.drop(columns=['Unnamed: 0', '_c0'])\n",
    "sales_df_reg"
   ],
   "metadata": {
    "collapsed": false,
    "ExecuteTime": {
     "end_time": "2025-01-26T13:46:23.483653100Z",
     "start_time": "2025-01-26T13:46:23.456533700Z"
    }
   },
   "id": "c855eb7b67b7698b",
   "execution_count": 10
  }
 ],
 "metadata": {
  "kernelspec": {
   "display_name": "Python 3",
   "language": "python",
   "name": "python3"
  },
  "language_info": {
   "codemirror_mode": {
    "name": "ipython",
    "version": 2
   },
   "file_extension": ".py",
   "mimetype": "text/x-python",
   "name": "python",
   "nbconvert_exporter": "python",
   "pygments_lexer": "ipython2",
   "version": "2.7.6"
  }
 },
 "nbformat": 4,
 "nbformat_minor": 5
}
