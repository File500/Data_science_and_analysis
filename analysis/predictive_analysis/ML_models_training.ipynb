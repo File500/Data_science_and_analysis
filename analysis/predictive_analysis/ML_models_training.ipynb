{
 "cells": [
  {
   "cell_type": "code",
   "outputs": [],
   "source": [
    "# Surpress warnings:\n",
    "def warn(*args, **kwargs):\n",
    "    pass\n",
    "\n",
    "import warnings\n",
    "\n",
    "warnings.warn = warn"
   ],
   "metadata": {
    "collapsed": false,
    "ExecuteTime": {
     "end_time": "2025-01-27T20:10:16.563120600Z",
     "start_time": "2025-01-27T20:10:16.556545900Z"
    }
   },
   "id": "fbe40d6efe172fb2",
   "execution_count": 1
  },
  {
   "cell_type": "code",
   "execution_count": 2,
   "id": "initial_id",
   "metadata": {
    "collapsed": true,
    "ExecuteTime": {
     "end_time": "2025-01-27T20:10:17.045693800Z",
     "start_time": "2025-01-27T20:10:16.563120600Z"
    }
   },
   "outputs": [],
   "source": [
    "import pandas as pd\n",
    "import seaborn as sns\n",
    "import numpy as np\n",
    "import matplotlib.pyplot as plt\n",
    "\n",
    "\n",
    "from sklearn.utils import shuffle\n",
    "from sklearn.preprocessing import OneHotEncoder, LabelEncoder\n",
    "from sklearn.model_selection import train_test_split, learning_curve, cross_val_score\n",
    "from sklearn.linear_model import LogisticRegression\n",
    "from sklearn.tree import DecisionTreeClassifier\n",
    "from sklearn.metrics import classification_report, accuracy_score, precision_recall_fscore_support, confusion_matrix,precision_score, recall_score, roc_auc_score, mean_squared_error, mean_absolute_error, r2_score, explained_variance_score, make_scorer\n",
    "from sklearn.ensemble import RandomForestClassifier, GradientBoostingClassifier, StackingClassifier\n",
    "from sklearn.neighbors import KNeighborsClassifier\n",
    "from xgboost import XGBClassifier\n",
    "from sklearn.ensemble import AdaBoostClassifier\n",
    "\n",
    "from imblearn.under_sampling import RandomUnderSampler\n",
    "from imblearn.over_sampling import RandomOverSampler, SMOTE\n",
    "from sklearn import metrics\n",
    "from sklearn.inspection import permutation_importance\n",
    "from sklearn.preprocessing import MinMaxScaler, scale, StandardScaler\n",
    "from sklearn.model_selection import GridSearchCV\n",
    "\n",
    "from sklearn.linear_model import LinearRegression, Ridge, Lasso, ElasticNet\n",
    "from sklearn.metrics import r2_score\n",
    "from sklearn.preprocessing import PolynomialFeatures\n",
    "from sklearn.feature_selection import SelectKBest, f_regression\n",
    "from sklearn.pipeline import Pipeline, make_pipeline"
   ]
  },
  {
   "cell_type": "code",
   "outputs": [],
   "source": [
    "ownership_df_class = pd.read_csv(\"../../data/final_data/final_ownership_data.csv\")\n",
    "sales_df_reg = pd.read_csv(\"../../data/final_data/final_sales_data.csv\") "
   ],
   "metadata": {
    "collapsed": false,
    "ExecuteTime": {
     "end_time": "2025-01-27T20:10:19.593986800Z",
     "start_time": "2025-01-27T20:10:19.520168300Z"
    }
   },
   "id": "1bb3851136d7af98",
   "execution_count": 3
  },
  {
   "cell_type": "code",
   "outputs": [
    {
     "data": {
      "text/plain": "               Occupation  Annual_Income  Credit_Score  Years_of_Employment  \\\n0                 Teacher        52800.0           750                   10   \n1                Engineer        79200.0           800                    8   \n2                   Nurse        33000.0           650                    5   \n3                  Doctor       105600.0           900                   12   \n4             Businessman       132000.0           700                   15   \n..                    ...            ...           ...                  ...   \n391      Customer Support         4620.0           640                    3   \n392      Dental Hygienist         6336.0           670                    4   \n393       Project Manager         9240.0           730                    5   \n394     Medical Assistant         4620.0           640                    3   \n395  Customer Service Rep         4224.0           641                    4   \n\n    Finance_Status  Car  Number_of_Children  \n0             Good  Yes                   2  \n1             Good  Yes                   1  \n2             Fair   No                   0  \n3        Excellent  Yes                   3  \n4             Good  Yes                   2  \n..             ...  ...                 ...  \n391         Stable   No                   1  \n392         Stable  Yes                   2  \n393         Stable  Yes                   0  \n394         Stable   No                   1  \n395         Stable   No                   2  \n\n[396 rows x 7 columns]",
      "text/html": "<div>\n<style scoped>\n    .dataframe tbody tr th:only-of-type {\n        vertical-align: middle;\n    }\n\n    .dataframe tbody tr th {\n        vertical-align: top;\n    }\n\n    .dataframe thead th {\n        text-align: right;\n    }\n</style>\n<table border=\"1\" class=\"dataframe\">\n  <thead>\n    <tr style=\"text-align: right;\">\n      <th></th>\n      <th>Occupation</th>\n      <th>Annual_Income</th>\n      <th>Credit_Score</th>\n      <th>Years_of_Employment</th>\n      <th>Finance_Status</th>\n      <th>Car</th>\n      <th>Number_of_Children</th>\n    </tr>\n  </thead>\n  <tbody>\n    <tr>\n      <th>0</th>\n      <td>Teacher</td>\n      <td>52800.0</td>\n      <td>750</td>\n      <td>10</td>\n      <td>Good</td>\n      <td>Yes</td>\n      <td>2</td>\n    </tr>\n    <tr>\n      <th>1</th>\n      <td>Engineer</td>\n      <td>79200.0</td>\n      <td>800</td>\n      <td>8</td>\n      <td>Good</td>\n      <td>Yes</td>\n      <td>1</td>\n    </tr>\n    <tr>\n      <th>2</th>\n      <td>Nurse</td>\n      <td>33000.0</td>\n      <td>650</td>\n      <td>5</td>\n      <td>Fair</td>\n      <td>No</td>\n      <td>0</td>\n    </tr>\n    <tr>\n      <th>3</th>\n      <td>Doctor</td>\n      <td>105600.0</td>\n      <td>900</td>\n      <td>12</td>\n      <td>Excellent</td>\n      <td>Yes</td>\n      <td>3</td>\n    </tr>\n    <tr>\n      <th>4</th>\n      <td>Businessman</td>\n      <td>132000.0</td>\n      <td>700</td>\n      <td>15</td>\n      <td>Good</td>\n      <td>Yes</td>\n      <td>2</td>\n    </tr>\n    <tr>\n      <th>...</th>\n      <td>...</td>\n      <td>...</td>\n      <td>...</td>\n      <td>...</td>\n      <td>...</td>\n      <td>...</td>\n      <td>...</td>\n    </tr>\n    <tr>\n      <th>391</th>\n      <td>Customer Support</td>\n      <td>4620.0</td>\n      <td>640</td>\n      <td>3</td>\n      <td>Stable</td>\n      <td>No</td>\n      <td>1</td>\n    </tr>\n    <tr>\n      <th>392</th>\n      <td>Dental Hygienist</td>\n      <td>6336.0</td>\n      <td>670</td>\n      <td>4</td>\n      <td>Stable</td>\n      <td>Yes</td>\n      <td>2</td>\n    </tr>\n    <tr>\n      <th>393</th>\n      <td>Project Manager</td>\n      <td>9240.0</td>\n      <td>730</td>\n      <td>5</td>\n      <td>Stable</td>\n      <td>Yes</td>\n      <td>0</td>\n    </tr>\n    <tr>\n      <th>394</th>\n      <td>Medical Assistant</td>\n      <td>4620.0</td>\n      <td>640</td>\n      <td>3</td>\n      <td>Stable</td>\n      <td>No</td>\n      <td>1</td>\n    </tr>\n    <tr>\n      <th>395</th>\n      <td>Customer Service Rep</td>\n      <td>4224.0</td>\n      <td>641</td>\n      <td>4</td>\n      <td>Stable</td>\n      <td>No</td>\n      <td>2</td>\n    </tr>\n  </tbody>\n</table>\n<p>396 rows × 7 columns</p>\n</div>"
     },
     "execution_count": 4,
     "metadata": {},
     "output_type": "execute_result"
    }
   ],
   "source": [
    "ownership_df_class = ownership_df_class.drop(columns=['Unnamed: 0', '_c0'])\n",
    "ownership_df_class"
   ],
   "metadata": {
    "collapsed": false,
    "ExecuteTime": {
     "end_time": "2025-01-27T20:10:21.727604800Z",
     "start_time": "2025-01-27T20:10:21.708648200Z"
    }
   },
   "id": "df0a6a9c65bb0817",
   "execution_count": 4
  },
  {
   "cell_type": "code",
   "outputs": [
    {
     "data": {
      "text/plain": "       Annual_Income  Price\n0              148.5  26000\n1            16280.0  19000\n2            11385.0  31500\n3              148.5  14000\n4            16115.0  24500\n...              ...    ...\n23901          148.5  12000\n23902         9900.0  16000\n23903         7755.0  21000\n23904          148.5  31000\n23905        13475.0  27500\n\n[23906 rows x 2 columns]",
      "text/html": "<div>\n<style scoped>\n    .dataframe tbody tr th:only-of-type {\n        vertical-align: middle;\n    }\n\n    .dataframe tbody tr th {\n        vertical-align: top;\n    }\n\n    .dataframe thead th {\n        text-align: right;\n    }\n</style>\n<table border=\"1\" class=\"dataframe\">\n  <thead>\n    <tr style=\"text-align: right;\">\n      <th></th>\n      <th>Annual_Income</th>\n      <th>Price</th>\n    </tr>\n  </thead>\n  <tbody>\n    <tr>\n      <th>0</th>\n      <td>148.5</td>\n      <td>26000</td>\n    </tr>\n    <tr>\n      <th>1</th>\n      <td>16280.0</td>\n      <td>19000</td>\n    </tr>\n    <tr>\n      <th>2</th>\n      <td>11385.0</td>\n      <td>31500</td>\n    </tr>\n    <tr>\n      <th>3</th>\n      <td>148.5</td>\n      <td>14000</td>\n    </tr>\n    <tr>\n      <th>4</th>\n      <td>16115.0</td>\n      <td>24500</td>\n    </tr>\n    <tr>\n      <th>...</th>\n      <td>...</td>\n      <td>...</td>\n    </tr>\n    <tr>\n      <th>23901</th>\n      <td>148.5</td>\n      <td>12000</td>\n    </tr>\n    <tr>\n      <th>23902</th>\n      <td>9900.0</td>\n      <td>16000</td>\n    </tr>\n    <tr>\n      <th>23903</th>\n      <td>7755.0</td>\n      <td>21000</td>\n    </tr>\n    <tr>\n      <th>23904</th>\n      <td>148.5</td>\n      <td>31000</td>\n    </tr>\n    <tr>\n      <th>23905</th>\n      <td>13475.0</td>\n      <td>27500</td>\n    </tr>\n  </tbody>\n</table>\n<p>23906 rows × 2 columns</p>\n</div>"
     },
     "execution_count": 5,
     "metadata": {},
     "output_type": "execute_result"
    }
   ],
   "source": [
    "sales_df_reg = sales_df_reg.drop(columns=['Unnamed: 0', '_c0'])\n",
    "sales_df_reg = sales_df_reg[['Annual_Income', 'Price']]\n",
    "sales_df_reg"
   ],
   "metadata": {
    "collapsed": false,
    "ExecuteTime": {
     "end_time": "2025-01-27T20:10:24.021990300Z",
     "start_time": "2025-01-27T20:10:24.011118900Z"
    }
   },
   "id": "c855eb7b67b7698b",
   "execution_count": 5
  },
  {
   "cell_type": "code",
   "outputs": [],
   "source": [
    "def find_closest_income_match(target_income, reference_df):\n",
    "    closest_income_idx = (reference_df['Annual_Income'] - target_income).abs().idxmin()\n",
    "    return reference_df.loc[closest_income_idx, 'Price']\n",
    "\n",
    "ownership_df_class['Price'] = ownership_df_class.apply(\n",
    "    lambda row: find_closest_income_match(row['Annual_Income'], sales_df_reg)\n",
    "    if row['Car'] == 'Yes'\n",
    "    else 0,\n",
    "    axis=1\n",
    ")"
   ],
   "metadata": {
    "collapsed": false,
    "ExecuteTime": {
     "end_time": "2025-01-27T20:18:11.223793900Z",
     "start_time": "2025-01-27T20:18:11.172016Z"
    }
   },
   "id": "79ea2c698f024b08",
   "execution_count": 6
  },
  {
   "cell_type": "code",
   "outputs": [
    {
     "data": {
      "text/plain": "               Occupation  Annual_Income  Credit_Score  Years_of_Employment  \\\n0                 Teacher        52800.0           750                   10   \n1                Engineer        79200.0           800                    8   \n2                   Nurse        33000.0           650                    5   \n3                  Doctor       105600.0           900                   12   \n4             Businessman       132000.0           700                   15   \n..                    ...            ...           ...                  ...   \n391      Customer Support         4620.0           640                    3   \n392      Dental Hygienist         6336.0           670                    4   \n393       Project Manager         9240.0           730                    5   \n394     Medical Assistant         4620.0           640                    3   \n395  Customer Service Rep         4224.0           641                    4   \n\n    Finance_Status  Car  Number_of_Children  Price  \n0             Good  Yes                   2  57000  \n1             Good  Yes                   1  15000  \n2             Fair   No                   0      0  \n3        Excellent  Yes                   3  26001  \n4             Good  Yes                   2  26001  \n..             ...  ...                 ...    ...  \n391         Stable   No                   1      0  \n392         Stable  Yes                   2  19000  \n393         Stable  Yes                   0  39000  \n394         Stable   No                   1      0  \n395         Stable   No                   2      0  \n\n[396 rows x 8 columns]",
      "text/html": "<div>\n<style scoped>\n    .dataframe tbody tr th:only-of-type {\n        vertical-align: middle;\n    }\n\n    .dataframe tbody tr th {\n        vertical-align: top;\n    }\n\n    .dataframe thead th {\n        text-align: right;\n    }\n</style>\n<table border=\"1\" class=\"dataframe\">\n  <thead>\n    <tr style=\"text-align: right;\">\n      <th></th>\n      <th>Occupation</th>\n      <th>Annual_Income</th>\n      <th>Credit_Score</th>\n      <th>Years_of_Employment</th>\n      <th>Finance_Status</th>\n      <th>Car</th>\n      <th>Number_of_Children</th>\n      <th>Price</th>\n    </tr>\n  </thead>\n  <tbody>\n    <tr>\n      <th>0</th>\n      <td>Teacher</td>\n      <td>52800.0</td>\n      <td>750</td>\n      <td>10</td>\n      <td>Good</td>\n      <td>Yes</td>\n      <td>2</td>\n      <td>57000</td>\n    </tr>\n    <tr>\n      <th>1</th>\n      <td>Engineer</td>\n      <td>79200.0</td>\n      <td>800</td>\n      <td>8</td>\n      <td>Good</td>\n      <td>Yes</td>\n      <td>1</td>\n      <td>15000</td>\n    </tr>\n    <tr>\n      <th>2</th>\n      <td>Nurse</td>\n      <td>33000.0</td>\n      <td>650</td>\n      <td>5</td>\n      <td>Fair</td>\n      <td>No</td>\n      <td>0</td>\n      <td>0</td>\n    </tr>\n    <tr>\n      <th>3</th>\n      <td>Doctor</td>\n      <td>105600.0</td>\n      <td>900</td>\n      <td>12</td>\n      <td>Excellent</td>\n      <td>Yes</td>\n      <td>3</td>\n      <td>26001</td>\n    </tr>\n    <tr>\n      <th>4</th>\n      <td>Businessman</td>\n      <td>132000.0</td>\n      <td>700</td>\n      <td>15</td>\n      <td>Good</td>\n      <td>Yes</td>\n      <td>2</td>\n      <td>26001</td>\n    </tr>\n    <tr>\n      <th>...</th>\n      <td>...</td>\n      <td>...</td>\n      <td>...</td>\n      <td>...</td>\n      <td>...</td>\n      <td>...</td>\n      <td>...</td>\n      <td>...</td>\n    </tr>\n    <tr>\n      <th>391</th>\n      <td>Customer Support</td>\n      <td>4620.0</td>\n      <td>640</td>\n      <td>3</td>\n      <td>Stable</td>\n      <td>No</td>\n      <td>1</td>\n      <td>0</td>\n    </tr>\n    <tr>\n      <th>392</th>\n      <td>Dental Hygienist</td>\n      <td>6336.0</td>\n      <td>670</td>\n      <td>4</td>\n      <td>Stable</td>\n      <td>Yes</td>\n      <td>2</td>\n      <td>19000</td>\n    </tr>\n    <tr>\n      <th>393</th>\n      <td>Project Manager</td>\n      <td>9240.0</td>\n      <td>730</td>\n      <td>5</td>\n      <td>Stable</td>\n      <td>Yes</td>\n      <td>0</td>\n      <td>39000</td>\n    </tr>\n    <tr>\n      <th>394</th>\n      <td>Medical Assistant</td>\n      <td>4620.0</td>\n      <td>640</td>\n      <td>3</td>\n      <td>Stable</td>\n      <td>No</td>\n      <td>1</td>\n      <td>0</td>\n    </tr>\n    <tr>\n      <th>395</th>\n      <td>Customer Service Rep</td>\n      <td>4224.0</td>\n      <td>641</td>\n      <td>4</td>\n      <td>Stable</td>\n      <td>No</td>\n      <td>2</td>\n      <td>0</td>\n    </tr>\n  </tbody>\n</table>\n<p>396 rows × 8 columns</p>\n</div>"
     },
     "execution_count": 8,
     "metadata": {},
     "output_type": "execute_result"
    }
   ],
   "source": [
    "ownership_sales = ownership_df_class.__deepcopy__()\n",
    "ownership_sales"
   ],
   "metadata": {
    "collapsed": false,
    "ExecuteTime": {
     "end_time": "2025-01-27T20:20:32.370794500Z",
     "start_time": "2025-01-27T20:20:32.346239400Z"
    }
   },
   "id": "a171b1276ec42fbb",
   "execution_count": 8
  },
  {
   "cell_type": "code",
   "outputs": [],
   "source": [
    "ownership_sales.to_csv(path_or_buf=\"../../data/train_test_validate_data/train_test_data.csv\")"
   ],
   "metadata": {
    "collapsed": false,
    "ExecuteTime": {
     "end_time": "2025-01-27T20:25:53.750500300Z",
     "start_time": "2025-01-27T20:25:53.732779Z"
    }
   },
   "id": "7567400ff778b054",
   "execution_count": 9
  },
  {
   "cell_type": "code",
   "outputs": [],
   "source": [
    "X = sales_df_reg_train['Annual_Income'].to_frame()\n",
    "Y = sales_df_reg_train['Price'].to_frame()"
   ],
   "metadata": {
    "collapsed": false
   },
   "id": "5cdbd26977760635",
   "execution_count": null
  },
  {
   "cell_type": "code",
   "outputs": [],
   "source": [
    "x_train, x_test, y_train, y_test = train_test_split(X,Y,test_size=0.3, random_state=42)"
   ],
   "metadata": {
    "collapsed": false
   },
   "id": "894c6ab6fd52198e",
   "execution_count": null
  },
  {
   "cell_type": "code",
   "outputs": [],
   "source": [
    "reg_model = make_pipeline(StandardScaler(), PolynomialFeatures(degree=4), LinearRegression())\n",
    "reg_model"
   ],
   "metadata": {
    "collapsed": false
   },
   "id": "e14be2afb012ea36",
   "execution_count": null
  },
  {
   "cell_type": "code",
   "outputs": [],
   "source": [
    "reg_model.fit(x_train, y_train)\n",
    "y_pred = reg_model.predict(x_test)"
   ],
   "metadata": {
    "collapsed": false
   },
   "id": "f15f8e1fbbd2a927",
   "execution_count": null
  },
  {
   "cell_type": "code",
   "outputs": [],
   "source": [
    "# 1. Basic Metrics\n",
    "mse = mean_squared_error(y_test, y_pred)\n",
    "rmse = np.sqrt(mse)\n",
    "mae = mean_absolute_error(y_test, y_pred)\n",
    "r2 = r2_score(y_test, y_pred)\n",
    "ev = explained_variance_score(y_test, y_pred)\n",
    "\n",
    "print(f'MSE: {mse:.2f}')\n",
    "print(f'RMSE: {rmse:.2f}')\n",
    "print(f'MAE: {mae:.2f}')\n",
    "print(f'R²: {r2:.2f}')\n",
    "print(f'Explained Variance: {ev:.2f}')\n",
    "\n",
    "cv_scores = cross_val_score(reg_model, X, Y, cv=5, scoring='r2')\n",
    "print(f'Cross-validation scores: {cv_scores}')\n",
    "print(f'Average CV score: {cv_scores.mean():.2f} ± {cv_scores.std()*2:.2f}')"
   ],
   "metadata": {
    "collapsed": false
   },
   "id": "63b8a181a6ceba6b",
   "execution_count": null
  },
  {
   "cell_type": "code",
   "outputs": [],
   "source": [
    "scoring = {\n",
    "    'r2': 'r2',\n",
    "    'neg_mse': 'neg_mean_squared_error',\n",
    "    'neg_mae': 'neg_mean_absolute_error'\n",
    "}\n",
    "\n",
    "# Create pipelines for each model\n",
    "ridge_pipeline = Pipeline([\n",
    "    ('scaler', StandardScaler()),\n",
    "    ('model', Ridge())\n",
    "])\n",
    "\n",
    "lasso_pipeline = Pipeline([\n",
    "    ('scaler', StandardScaler()),\n",
    "    ('model', Lasso())\n",
    "])\n",
    "\n",
    "elastic_pipeline = Pipeline([\n",
    "    ('scaler', StandardScaler()),\n",
    "    ('model', ElasticNet())\n",
    "])\n",
    "\n",
    "ridge_params = {\n",
    "    'model__alpha': [0.0001, 0.001, 0.01, 0.1, 0.5, 1.0, 5.0, 10.0, 50.0, 100.0, 150.0, 200.0, 300.0, 400.0, 1000.0, 2000.0, 3000.0],\n",
    "    'model__solver': ['auto', 'svd', 'cholesky', 'lsqr', 'sag']\n",
    "}\n",
    "\n",
    "lasso_params = {\n",
    "    'model__alpha': [0.0001, 0.001, 0.01, 0.1, 0.5, 1.0, 5.0, 10.0, 50.0, 100.0, 150.0, 200.0, 300.0, 400.0, 1000.0, 2000.0, 3000.0],\n",
    "    'model__selection': ['cyclic', 'random'],\n",
    "    'model__max_iter': [1000, 2000]  \n",
    "}\n",
    "\n",
    "elastic_params = {\n",
    "    'model__alpha': [0.0001, 0.001, 0.01, 0.1, 0.5, 1.0, 5.0, 10.0, 50.0, 100.0, 150.0, 200.0, 300.0, 400.0, 1000.0, 2000.0, 3000.0],\n",
    "    'model__l1_ratio': [0.0, 0.1, 0.2, 0.4, 0.6, 0.8, 0.9, 1.0, 1.1, 1.2, 1.3, 1.4, 1.5, 1.6, 1.7, 1.8, 1.9, 2.0],\n",
    "    'model__selection': ['cyclic', 'random'],\n",
    "    'model__max_iter': [1000, 2000]  \n",
    "}\n",
    "\n",
    "\n",
    "def perform_grid_search(pipeline, params, model_name, X, y):\n",
    "    grid_search = GridSearchCV(\n",
    "        pipeline,\n",
    "        params,\n",
    "        cv=20,\n",
    "        scoring=scoring,\n",
    "        refit='r2',\n",
    "        n_jobs=-1,\n",
    "        verbose=1,\n",
    "        return_train_score=True\n",
    "    )\n",
    "\n",
    "    grid_search.fit(X, y)\n",
    "\n",
    "    best_params = grid_search.best_params_\n",
    "    best_r2 = grid_search.best_score_\n",
    "\n",
    "    cv_results = pd.DataFrame(grid_search.cv_results_)\n",
    "    best_index = grid_search.best_index_\n",
    "\n",
    "    results = {\n",
    "        'model_name': model_name,\n",
    "        'best_params': best_params,\n",
    "        'best_r2': best_r2,\n",
    "        'best_mse': -cv_results.loc[best_index, 'mean_test_neg_mse'],\n",
    "        'best_rmse': np.sqrt(-cv_results.loc[best_index, 'mean_test_neg_mse']),\n",
    "        'best_mae': -cv_results.loc[best_index, 'mean_test_neg_mae']\n",
    "    }\n",
    "\n",
    "    return grid_search, results\n",
    "\n",
    "models = [\n",
    "    (ridge_pipeline, ridge_params, 'Ridge'),\n",
    "    (lasso_pipeline, lasso_params, 'Lasso'),\n",
    "    (elastic_pipeline, elastic_params, 'ElasticNet')\n",
    "]\n",
    "\n",
    "results_list = []\n",
    "best_models = {}\n",
    "\n",
    "for pipeline, params, name in models:\n",
    "    grid_search, results = perform_grid_search(pipeline, params, name, x_train, y_train)\n",
    "    results_list.append(results)\n",
    "    best_models[name] = grid_search\n",
    "\n",
    "results_df = pd.DataFrame(results_list)\n",
    "print(\"\\nModel Comparison:\")\n",
    "print(results_df)"
   ],
   "metadata": {
    "collapsed": false
   },
   "id": "70dd7ca0ca9e472e",
   "execution_count": null
  },
  {
   "cell_type": "code",
   "outputs": [],
   "source": [
    "best_model_idx = results_df['best_r2'].idxmax()\n",
    "best_model_name = results_df.loc[best_model_idx, 'model_name']\n",
    "best_model = best_models[best_model_name]\n",
    "\n",
    "print(f\"\\nBest Model: {best_model_name}\")\n",
    "print(\"Best Parameters:\", results_df.loc[best_model_idx, 'best_params'])\n",
    "print(f\"R² Score: {results_df.loc[best_model_idx, 'best_r2']:.4f}\")\n",
    "print(f\"RMSE: {results_df.loc[best_model_idx, 'best_rmse']:.4f}\")\n",
    "print(f\"MAE: {results_df.loc[best_model_idx, 'best_mae']:.4f}\")"
   ],
   "metadata": {
    "collapsed": false
   },
   "id": "b282810e4d5aaf29",
   "execution_count": null
  },
  {
   "cell_type": "code",
   "outputs": [],
   "source": [
    "y_pred = best_model.predict(x_test)\n",
    "\n",
    "test_r2 = r2_score(y_test, y_pred)\n",
    "test_rmse = np.sqrt(mean_squared_error(y_test, y_pred))\n",
    "test_mae = mean_absolute_error(y_test, y_pred)\n",
    "\n",
    "print(\"\\nTest Set Results for Best Model:\")\n",
    "print(f\"Model: {best_model_name}\")\n",
    "print(f\"Parameters: {best_model.best_params_}\")\n",
    "print(f\"R² Score: {test_r2:.4f}\")\n",
    "print(f\"RMSE: {test_rmse:.4f}\")\n",
    "print(f\"MAE: {test_mae:.4f}\")"
   ],
   "metadata": {
    "collapsed": false
   },
   "id": "271d58020e97a27b",
   "execution_count": null
  },
  {
   "cell_type": "code",
   "outputs": [],
   "source": [
    "plt.figure(figsize=(10, 6))\n",
    "metrics = ['best_r2', 'best_rmse', 'best_mae']\n",
    "for metric in metrics:\n",
    "    plt.subplot(1, 3, metrics.index(metric) + 1)\n",
    "    plt.bar(results_df['model_name'], results_df[metric])\n",
    "    plt.title(metric.replace('best_', '').upper())\n",
    "    plt.xticks(rotation=45)\n",
    "plt.tight_layout()\n",
    "plt.show()"
   ],
   "metadata": {
    "collapsed": false
   },
   "id": "d5373696af1b0df1",
   "execution_count": null
  }
 ],
 "metadata": {
  "kernelspec": {
   "display_name": "Python 3",
   "language": "python",
   "name": "python3"
  },
  "language_info": {
   "codemirror_mode": {
    "name": "ipython",
    "version": 2
   },
   "file_extension": ".py",
   "mimetype": "text/x-python",
   "name": "python",
   "nbconvert_exporter": "python",
   "pygments_lexer": "ipython2",
   "version": "2.7.6"
  }
 },
 "nbformat": 4,
 "nbformat_minor": 5
}
