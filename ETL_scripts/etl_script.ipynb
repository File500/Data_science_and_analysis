{
 "cells": [
  {
   "cell_type": "code",
   "execution_count": 1,
   "id": "initial_id",
   "metadata": {
    "collapsed": true,
    "ExecuteTime": {
     "end_time": "2024-11-09T20:59:36.300927200Z",
     "start_time": "2024-11-09T20:59:36.292116700Z"
    }
   },
   "outputs": [],
   "source": [
    "import numpy as np\n",
    "import scipy as sc\n",
    "from matplotlib import pyplot as plt\n",
    "import pandas as pd\n",
    "import seaborn as sb"
   ]
  },
  {
   "cell_type": "code",
   "outputs": [],
   "source": [
    "#helpper functions\n",
    "\n",
    "def load_data(path: str) -> pd.DataFrame:\n",
    "    return pd.read_csv(path)\n",
    "\n",
    "def describe_data(df: pd.DataFrame) -> pd.DataFrame:\n",
    "    print(df.describe(),\"\\n\")\n",
    "    print(df.info(),\"\\n\")\n",
    "    print('Duplicated values count:\\n',df.duplicated().sum(),\"\\n\")\n",
    "    print('Not a number values count:\\n',df.isna().sum(),\"\\n\")\n",
    "    print('Missing values rows:')\n",
    "    df_with_nan = df[df.isna().any(axis=1)]\n",
    "    display(df_with_nan)\n",
    "    print('Duplicated values rows:')\n",
    "    duplicated_indexes = df.duplicated().where(df.duplicated()==True).dropna().index.tolist()\n",
    "    display(df.loc[duplicated_indexes])"
   ],
   "metadata": {
    "collapsed": false,
    "ExecuteTime": {
     "end_time": "2024-11-09T20:59:36.302024700Z",
     "start_time": "2024-11-09T20:59:36.298007800Z"
    }
   },
   "id": "cbcef7a98a277da0",
   "execution_count": 2
  },
  {
   "cell_type": "code",
   "outputs": [],
   "source": [
    "car_ownership = load_data('data/car_ownership.csv')\n",
    "car_price = load_data('data/car_price_and_metrics.csv')\n",
    "car_sales = load_data('data/car_sales.csv')"
   ],
   "metadata": {
    "collapsed": false,
    "ExecuteTime": {
     "end_time": "2024-11-09T20:59:36.369061600Z",
     "start_time": "2024-11-09T20:59:36.304140100Z"
    }
   },
   "id": "3dcfb3bb93dafcb5",
   "execution_count": 3
  },
  {
   "cell_type": "code",
   "outputs": [
    {
     "name": "stdout",
     "output_type": "stream",
     "text": [
      "       Credit Score\n",
      "count    460.000000\n",
      "mean     702.969565\n",
      "std       69.232323\n",
      "min      500.000000\n",
      "25%      650.000000\n",
      "50%      700.000000\n",
      "75%      750.000000\n",
      "max      900.000000 \n",
      "\n",
      "<class 'pandas.core.frame.DataFrame'>\n",
      "RangeIndex: 500 entries, 0 to 499\n",
      "Data columns (total 8 columns):\n",
      " #   Column               Non-Null Count  Dtype  \n",
      "---  ------               --------------  -----  \n",
      " 0   Occupation           490 non-null    object \n",
      " 1   Monthly Income       487 non-null    object \n",
      " 2   Credit Score         460 non-null    float64\n",
      " 3   Years of Employment  457 non-null    object \n",
      " 4   Finance Status       477 non-null    object \n",
      " 5   Finance History      472 non-null    object \n",
      " 6   Car                  480 non-null    object \n",
      " 7   Number of Children   375 non-null    object \n",
      "dtypes: float64(1), object(7)\n",
      "memory usage: 31.4+ KB\n",
      "None \n",
      "\n",
      "Duplicated values count:\n",
      " 73 \n",
      "\n",
      "Not a number values count:\n",
      " Occupation              10\n",
      "Monthly Income          13\n",
      "Credit Score            40\n",
      "Years of Employment     43\n",
      "Finance Status          23\n",
      "Finance History         28\n",
      "Car                     20\n",
      "Number of Children     125\n",
      "dtype: int64 \n",
      "\n",
      "Missing values rows:\n"
     ]
    },
    {
     "data": {
      "text/plain": "            Occupation Monthly Income  Credit Score Years of Employment  \\\n6              Teacher          35000         700.0                   8   \n7                Nurse          20000         600.0                   3   \n8          Businessman         120000         850.0                  20   \n9               Doctor          90000         800.0                  10   \n10                 NaN            NaN           NaN                 NaN   \n..                 ...            ...           ...                 ...   \n476         Pharmacist        $9,000          780.0                 NaN   \n477             Writer        $3,500          650.0                 NaN   \n478                NaN            NaN           NaN                 NaN   \n483  Real Estate Agent        $5,500          690.0             4 years   \n489      Web Developer        $5,800          690.0             4 years   \n\n    Finance Status            Finance History  Car Number of Children  \n6             Fair  Late payment 3 months ago  Yes                NaN  \n7             Poor   Late payment 1 month ago   No                NaN  \n8        Excellent                  No issues  Yes                NaN  \n9             Good                  No issues  Yes                NaN  \n10             NaN                        NaN  NaN                NaN  \n..             ...                        ...  ...                ...  \n476         Stable      No significant issues  Yes                  1  \n477            NaN                        NaN  NaN                NaN  \n478            NaN                        NaN  NaN                NaN  \n483         Stable                        NaN  Yes                  0  \n489         Stable                        NaN   No                  1  \n\n[185 rows x 8 columns]",
      "text/html": "<div>\n<style scoped>\n    .dataframe tbody tr th:only-of-type {\n        vertical-align: middle;\n    }\n\n    .dataframe tbody tr th {\n        vertical-align: top;\n    }\n\n    .dataframe thead th {\n        text-align: right;\n    }\n</style>\n<table border=\"1\" class=\"dataframe\">\n  <thead>\n    <tr style=\"text-align: right;\">\n      <th></th>\n      <th>Occupation</th>\n      <th>Monthly Income</th>\n      <th>Credit Score</th>\n      <th>Years of Employment</th>\n      <th>Finance Status</th>\n      <th>Finance History</th>\n      <th>Car</th>\n      <th>Number of Children</th>\n    </tr>\n  </thead>\n  <tbody>\n    <tr>\n      <th>6</th>\n      <td>Teacher</td>\n      <td>35000</td>\n      <td>700.0</td>\n      <td>8</td>\n      <td>Fair</td>\n      <td>Late payment 3 months ago</td>\n      <td>Yes</td>\n      <td>NaN</td>\n    </tr>\n    <tr>\n      <th>7</th>\n      <td>Nurse</td>\n      <td>20000</td>\n      <td>600.0</td>\n      <td>3</td>\n      <td>Poor</td>\n      <td>Late payment 1 month ago</td>\n      <td>No</td>\n      <td>NaN</td>\n    </tr>\n    <tr>\n      <th>8</th>\n      <td>Businessman</td>\n      <td>120000</td>\n      <td>850.0</td>\n      <td>20</td>\n      <td>Excellent</td>\n      <td>No issues</td>\n      <td>Yes</td>\n      <td>NaN</td>\n    </tr>\n    <tr>\n      <th>9</th>\n      <td>Doctor</td>\n      <td>90000</td>\n      <td>800.0</td>\n      <td>10</td>\n      <td>Good</td>\n      <td>No issues</td>\n      <td>Yes</td>\n      <td>NaN</td>\n    </tr>\n    <tr>\n      <th>10</th>\n      <td>NaN</td>\n      <td>NaN</td>\n      <td>NaN</td>\n      <td>NaN</td>\n      <td>NaN</td>\n      <td>NaN</td>\n      <td>NaN</td>\n      <td>NaN</td>\n    </tr>\n    <tr>\n      <th>...</th>\n      <td>...</td>\n      <td>...</td>\n      <td>...</td>\n      <td>...</td>\n      <td>...</td>\n      <td>...</td>\n      <td>...</td>\n      <td>...</td>\n    </tr>\n    <tr>\n      <th>476</th>\n      <td>Pharmacist</td>\n      <td>$9,000</td>\n      <td>780.0</td>\n      <td>NaN</td>\n      <td>Stable</td>\n      <td>No significant issues</td>\n      <td>Yes</td>\n      <td>1</td>\n    </tr>\n    <tr>\n      <th>477</th>\n      <td>Writer</td>\n      <td>$3,500</td>\n      <td>650.0</td>\n      <td>NaN</td>\n      <td>NaN</td>\n      <td>NaN</td>\n      <td>NaN</td>\n      <td>NaN</td>\n    </tr>\n    <tr>\n      <th>478</th>\n      <td>NaN</td>\n      <td>NaN</td>\n      <td>NaN</td>\n      <td>NaN</td>\n      <td>NaN</td>\n      <td>NaN</td>\n      <td>NaN</td>\n      <td>NaN</td>\n    </tr>\n    <tr>\n      <th>483</th>\n      <td>Real Estate Agent</td>\n      <td>$5,500</td>\n      <td>690.0</td>\n      <td>4 years</td>\n      <td>Stable</td>\n      <td>NaN</td>\n      <td>Yes</td>\n      <td>0</td>\n    </tr>\n    <tr>\n      <th>489</th>\n      <td>Web Developer</td>\n      <td>$5,800</td>\n      <td>690.0</td>\n      <td>4 years</td>\n      <td>Stable</td>\n      <td>NaN</td>\n      <td>No</td>\n      <td>1</td>\n    </tr>\n  </tbody>\n</table>\n<p>185 rows × 8 columns</p>\n</div>"
     },
     "metadata": {},
     "output_type": "display_data"
    },
    {
     "name": "stdout",
     "output_type": "stream",
     "text": [
      "Duplicated values rows:\n"
     ]
    },
    {
     "data": {
      "text/plain": "            Occupation Monthly Income  Credit Score Years of Employment  \\\n72                 NaN            NaN           NaN                 NaN   \n93                 NaN            NaN           NaN                 NaN   \n134                NaN            NaN           NaN                 NaN   \n196                NaN            NaN           NaN                 NaN   \n210    Insurance Agent        $4,500          690.0             4 years   \n..                 ...            ...           ...                 ...   \n456                NaN            NaN           NaN                 NaN   \n478                NaN            NaN           NaN                 NaN   \n481      Sales Manager        $7,500          720.0             6 years   \n496               Chef        $4,500          680.0             4 years   \n497  Interior Designer        $5,500          690.0             4 years   \n\n    Finance Status        Finance History  Car Number of Children  \n72             NaN                    NaN  NaN                NaN  \n93             NaN                    NaN  NaN                NaN  \n134            NaN                    NaN  NaN                NaN  \n196            NaN                    NaN  NaN                NaN  \n210         Stable  No significant issues  Yes                  1  \n..             ...                    ...  ...                ...  \n456            NaN                    NaN  NaN                NaN  \n478            NaN                    NaN  NaN                NaN  \n481         Stable  No significant issues  Yes                  2  \n496         Stable  No significant issues  Yes                  0  \n497         Stable  No significant issues  Yes                  1  \n\n[73 rows x 8 columns]",
      "text/html": "<div>\n<style scoped>\n    .dataframe tbody tr th:only-of-type {\n        vertical-align: middle;\n    }\n\n    .dataframe tbody tr th {\n        vertical-align: top;\n    }\n\n    .dataframe thead th {\n        text-align: right;\n    }\n</style>\n<table border=\"1\" class=\"dataframe\">\n  <thead>\n    <tr style=\"text-align: right;\">\n      <th></th>\n      <th>Occupation</th>\n      <th>Monthly Income</th>\n      <th>Credit Score</th>\n      <th>Years of Employment</th>\n      <th>Finance Status</th>\n      <th>Finance History</th>\n      <th>Car</th>\n      <th>Number of Children</th>\n    </tr>\n  </thead>\n  <tbody>\n    <tr>\n      <th>72</th>\n      <td>NaN</td>\n      <td>NaN</td>\n      <td>NaN</td>\n      <td>NaN</td>\n      <td>NaN</td>\n      <td>NaN</td>\n      <td>NaN</td>\n      <td>NaN</td>\n    </tr>\n    <tr>\n      <th>93</th>\n      <td>NaN</td>\n      <td>NaN</td>\n      <td>NaN</td>\n      <td>NaN</td>\n      <td>NaN</td>\n      <td>NaN</td>\n      <td>NaN</td>\n      <td>NaN</td>\n    </tr>\n    <tr>\n      <th>134</th>\n      <td>NaN</td>\n      <td>NaN</td>\n      <td>NaN</td>\n      <td>NaN</td>\n      <td>NaN</td>\n      <td>NaN</td>\n      <td>NaN</td>\n      <td>NaN</td>\n    </tr>\n    <tr>\n      <th>196</th>\n      <td>NaN</td>\n      <td>NaN</td>\n      <td>NaN</td>\n      <td>NaN</td>\n      <td>NaN</td>\n      <td>NaN</td>\n      <td>NaN</td>\n      <td>NaN</td>\n    </tr>\n    <tr>\n      <th>210</th>\n      <td>Insurance Agent</td>\n      <td>$4,500</td>\n      <td>690.0</td>\n      <td>4 years</td>\n      <td>Stable</td>\n      <td>No significant issues</td>\n      <td>Yes</td>\n      <td>1</td>\n    </tr>\n    <tr>\n      <th>...</th>\n      <td>...</td>\n      <td>...</td>\n      <td>...</td>\n      <td>...</td>\n      <td>...</td>\n      <td>...</td>\n      <td>...</td>\n      <td>...</td>\n    </tr>\n    <tr>\n      <th>456</th>\n      <td>NaN</td>\n      <td>NaN</td>\n      <td>NaN</td>\n      <td>NaN</td>\n      <td>NaN</td>\n      <td>NaN</td>\n      <td>NaN</td>\n      <td>NaN</td>\n    </tr>\n    <tr>\n      <th>478</th>\n      <td>NaN</td>\n      <td>NaN</td>\n      <td>NaN</td>\n      <td>NaN</td>\n      <td>NaN</td>\n      <td>NaN</td>\n      <td>NaN</td>\n      <td>NaN</td>\n    </tr>\n    <tr>\n      <th>481</th>\n      <td>Sales Manager</td>\n      <td>$7,500</td>\n      <td>720.0</td>\n      <td>6 years</td>\n      <td>Stable</td>\n      <td>No significant issues</td>\n      <td>Yes</td>\n      <td>2</td>\n    </tr>\n    <tr>\n      <th>496</th>\n      <td>Chef</td>\n      <td>$4,500</td>\n      <td>680.0</td>\n      <td>4 years</td>\n      <td>Stable</td>\n      <td>No significant issues</td>\n      <td>Yes</td>\n      <td>0</td>\n    </tr>\n    <tr>\n      <th>497</th>\n      <td>Interior Designer</td>\n      <td>$5,500</td>\n      <td>690.0</td>\n      <td>4 years</td>\n      <td>Stable</td>\n      <td>No significant issues</td>\n      <td>Yes</td>\n      <td>1</td>\n    </tr>\n  </tbody>\n</table>\n<p>73 rows × 8 columns</p>\n</div>"
     },
     "metadata": {},
     "output_type": "display_data"
    }
   ],
   "source": [
    "describe_data(car_ownership)"
   ],
   "metadata": {
    "collapsed": false,
    "ExecuteTime": {
     "end_time": "2024-11-09T20:59:36.421719900Z",
     "start_time": "2024-11-09T20:59:36.370171500Z"
    }
   },
   "id": "c3232278bb573c06",
   "execution_count": 4
  },
  {
   "cell_type": "code",
   "outputs": [
    {
     "name": "stdout",
     "output_type": "stream",
     "text": [
      "              year  selling_price     km_driven  mileage(km/ltr/kg)  \\\n",
      "count  8128.000000   8.128000e+03  8.128000e+03         7907.000000   \n",
      "mean   2013.804011   6.382718e+05  6.981951e+04           19.418783   \n",
      "std       4.044249   8.062534e+05  5.655055e+04            4.037145   \n",
      "min    1983.000000   2.999900e+04  1.000000e+00            0.000000   \n",
      "25%    2011.000000   2.549990e+05  3.500000e+04           16.780000   \n",
      "50%    2015.000000   4.500000e+05  6.000000e+04           19.300000   \n",
      "75%    2017.000000   6.750000e+05  9.800000e+04           22.320000   \n",
      "max    2020.000000   1.000000e+07  2.360457e+06           42.000000   \n",
      "\n",
      "            engine        seats  \n",
      "count  7907.000000  7907.000000  \n",
      "mean   1458.625016     5.416719  \n",
      "std     503.916303     0.959588  \n",
      "min     624.000000     2.000000  \n",
      "25%    1197.000000     5.000000  \n",
      "50%    1248.000000     5.000000  \n",
      "75%    1582.000000     5.000000  \n",
      "max    3604.000000    14.000000   \n",
      "\n",
      "<class 'pandas.core.frame.DataFrame'>\n",
      "RangeIndex: 8128 entries, 0 to 8127\n",
      "Data columns (total 12 columns):\n",
      " #   Column              Non-Null Count  Dtype  \n",
      "---  ------              --------------  -----  \n",
      " 0   name                8128 non-null   object \n",
      " 1   year                8128 non-null   int64  \n",
      " 2   selling_price       8128 non-null   int64  \n",
      " 3   km_driven           8128 non-null   int64  \n",
      " 4   fuel                8128 non-null   object \n",
      " 5   seller_type         8128 non-null   object \n",
      " 6   transmission        8128 non-null   object \n",
      " 7   owner               8128 non-null   object \n",
      " 8   mileage(km/ltr/kg)  7907 non-null   float64\n",
      " 9   engine              7907 non-null   float64\n",
      " 10  max_power           7913 non-null   object \n",
      " 11  seats               7907 non-null   float64\n",
      "dtypes: float64(3), int64(3), object(6)\n",
      "memory usage: 762.1+ KB\n",
      "None \n",
      "\n",
      "Duplicated values count:\n",
      " 1202 \n",
      "\n",
      "Not a number values count:\n",
      " name                    0\n",
      "year                    0\n",
      "selling_price           0\n",
      "km_driven               0\n",
      "fuel                    0\n",
      "seller_type             0\n",
      "transmission            0\n",
      "owner                   0\n",
      "mileage(km/ltr/kg)    221\n",
      "engine                221\n",
      "max_power             215\n",
      "seats                 221\n",
      "dtype: int64 \n",
      "\n",
      "Missing values rows:\n"
     ]
    },
    {
     "data": {
      "text/plain": "                                      name  year  selling_price  km_driven  \\\n13                    Maruti Swift 1.3 VXi  2007         200000      80000   \n31                      Fiat Palio 1.2 ELX  2003          70000      50000   \n78                         Tata Indica DLS  2003          50000      70000   \n87             Maruti Swift VDI BSIV W ABS  2015         475000      78000   \n119                  Maruti Swift VDI BSIV  2010         300000     120000   \n...                                    ...   ...            ...        ...   \n7846                Toyota Qualis Fleet A3  2000         200000     100000   \n7996             Hyundai Santro LS zipPlus  2000         140000      50000   \n8009  Hyundai Santro Xing XS eRLX Euro III  2006         145000      80000   \n8068             Ford Figo Aspire Facelift  2017         580000     165000   \n8103                  Maruti Swift 1.3 VXi  2006         130000     100000   \n\n        fuel seller_type transmission         owner  mileage(km/ltr/kg)  \\\n13    Petrol  Individual       Manual  Second Owner                 NaN   \n31    Petrol  Individual       Manual  Second Owner                 NaN   \n78    Diesel  Individual       Manual   First Owner                 NaN   \n87    Diesel      Dealer       Manual   First Owner                 NaN   \n119   Diesel  Individual       Manual  Second Owner                 NaN   \n...      ...         ...          ...           ...                 ...   \n7846  Diesel  Individual       Manual   First Owner                 NaN   \n7996  Petrol  Individual       Manual  Second Owner                 NaN   \n8009  Petrol  Individual       Manual  Second Owner                 NaN   \n8068  Diesel  Individual       Manual   First Owner                 NaN   \n8103  Petrol  Individual       Manual  Second Owner                 NaN   \n\n      engine max_power  seats  \n13       NaN       NaN    NaN  \n31       NaN       NaN    NaN  \n78       NaN       NaN    NaN  \n87       NaN       NaN    NaN  \n119      NaN       NaN    NaN  \n...      ...       ...    ...  \n7846     NaN       NaN    NaN  \n7996     NaN       NaN    NaN  \n8009     NaN       NaN    NaN  \n8068     NaN       NaN    NaN  \n8103     NaN       NaN    NaN  \n\n[221 rows x 12 columns]",
      "text/html": "<div>\n<style scoped>\n    .dataframe tbody tr th:only-of-type {\n        vertical-align: middle;\n    }\n\n    .dataframe tbody tr th {\n        vertical-align: top;\n    }\n\n    .dataframe thead th {\n        text-align: right;\n    }\n</style>\n<table border=\"1\" class=\"dataframe\">\n  <thead>\n    <tr style=\"text-align: right;\">\n      <th></th>\n      <th>name</th>\n      <th>year</th>\n      <th>selling_price</th>\n      <th>km_driven</th>\n      <th>fuel</th>\n      <th>seller_type</th>\n      <th>transmission</th>\n      <th>owner</th>\n      <th>mileage(km/ltr/kg)</th>\n      <th>engine</th>\n      <th>max_power</th>\n      <th>seats</th>\n    </tr>\n  </thead>\n  <tbody>\n    <tr>\n      <th>13</th>\n      <td>Maruti Swift 1.3 VXi</td>\n      <td>2007</td>\n      <td>200000</td>\n      <td>80000</td>\n      <td>Petrol</td>\n      <td>Individual</td>\n      <td>Manual</td>\n      <td>Second Owner</td>\n      <td>NaN</td>\n      <td>NaN</td>\n      <td>NaN</td>\n      <td>NaN</td>\n    </tr>\n    <tr>\n      <th>31</th>\n      <td>Fiat Palio 1.2 ELX</td>\n      <td>2003</td>\n      <td>70000</td>\n      <td>50000</td>\n      <td>Petrol</td>\n      <td>Individual</td>\n      <td>Manual</td>\n      <td>Second Owner</td>\n      <td>NaN</td>\n      <td>NaN</td>\n      <td>NaN</td>\n      <td>NaN</td>\n    </tr>\n    <tr>\n      <th>78</th>\n      <td>Tata Indica DLS</td>\n      <td>2003</td>\n      <td>50000</td>\n      <td>70000</td>\n      <td>Diesel</td>\n      <td>Individual</td>\n      <td>Manual</td>\n      <td>First Owner</td>\n      <td>NaN</td>\n      <td>NaN</td>\n      <td>NaN</td>\n      <td>NaN</td>\n    </tr>\n    <tr>\n      <th>87</th>\n      <td>Maruti Swift VDI BSIV W ABS</td>\n      <td>2015</td>\n      <td>475000</td>\n      <td>78000</td>\n      <td>Diesel</td>\n      <td>Dealer</td>\n      <td>Manual</td>\n      <td>First Owner</td>\n      <td>NaN</td>\n      <td>NaN</td>\n      <td>NaN</td>\n      <td>NaN</td>\n    </tr>\n    <tr>\n      <th>119</th>\n      <td>Maruti Swift VDI BSIV</td>\n      <td>2010</td>\n      <td>300000</td>\n      <td>120000</td>\n      <td>Diesel</td>\n      <td>Individual</td>\n      <td>Manual</td>\n      <td>Second Owner</td>\n      <td>NaN</td>\n      <td>NaN</td>\n      <td>NaN</td>\n      <td>NaN</td>\n    </tr>\n    <tr>\n      <th>...</th>\n      <td>...</td>\n      <td>...</td>\n      <td>...</td>\n      <td>...</td>\n      <td>...</td>\n      <td>...</td>\n      <td>...</td>\n      <td>...</td>\n      <td>...</td>\n      <td>...</td>\n      <td>...</td>\n      <td>...</td>\n    </tr>\n    <tr>\n      <th>7846</th>\n      <td>Toyota Qualis Fleet A3</td>\n      <td>2000</td>\n      <td>200000</td>\n      <td>100000</td>\n      <td>Diesel</td>\n      <td>Individual</td>\n      <td>Manual</td>\n      <td>First Owner</td>\n      <td>NaN</td>\n      <td>NaN</td>\n      <td>NaN</td>\n      <td>NaN</td>\n    </tr>\n    <tr>\n      <th>7996</th>\n      <td>Hyundai Santro LS zipPlus</td>\n      <td>2000</td>\n      <td>140000</td>\n      <td>50000</td>\n      <td>Petrol</td>\n      <td>Individual</td>\n      <td>Manual</td>\n      <td>Second Owner</td>\n      <td>NaN</td>\n      <td>NaN</td>\n      <td>NaN</td>\n      <td>NaN</td>\n    </tr>\n    <tr>\n      <th>8009</th>\n      <td>Hyundai Santro Xing XS eRLX Euro III</td>\n      <td>2006</td>\n      <td>145000</td>\n      <td>80000</td>\n      <td>Petrol</td>\n      <td>Individual</td>\n      <td>Manual</td>\n      <td>Second Owner</td>\n      <td>NaN</td>\n      <td>NaN</td>\n      <td>NaN</td>\n      <td>NaN</td>\n    </tr>\n    <tr>\n      <th>8068</th>\n      <td>Ford Figo Aspire Facelift</td>\n      <td>2017</td>\n      <td>580000</td>\n      <td>165000</td>\n      <td>Diesel</td>\n      <td>Individual</td>\n      <td>Manual</td>\n      <td>First Owner</td>\n      <td>NaN</td>\n      <td>NaN</td>\n      <td>NaN</td>\n      <td>NaN</td>\n    </tr>\n    <tr>\n      <th>8103</th>\n      <td>Maruti Swift 1.3 VXi</td>\n      <td>2006</td>\n      <td>130000</td>\n      <td>100000</td>\n      <td>Petrol</td>\n      <td>Individual</td>\n      <td>Manual</td>\n      <td>Second Owner</td>\n      <td>NaN</td>\n      <td>NaN</td>\n      <td>NaN</td>\n      <td>NaN</td>\n    </tr>\n  </tbody>\n</table>\n<p>221 rows × 12 columns</p>\n</div>"
     },
     "metadata": {},
     "output_type": "display_data"
    },
    {
     "name": "stdout",
     "output_type": "stream",
     "text": [
      "Duplicated values rows:\n"
     ]
    },
    {
     "data": {
      "text/plain": "                                          name  year  selling_price  \\\n291                   Hyundai Grand i10 Sportz  2017         450000   \n296                           Maruti Swift VXI  2012         330000   \n370   Jaguar XE 2016-2019 2.0L Diesel Prestige  2017        2625000   \n371                              Lexus ES 300h  2019        5150000   \n372             Jaguar XF 2.0 Diesel Portfolio  2017        3200000   \n...                                        ...   ...            ...   \n7987             Renault Captur 1.5 Diesel RXT  2018        1265000   \n7988                  Maruti Ciaz Alpha Diesel  2019        1025000   \n8117                    Maruti Swift Dzire VDI  2015         625000   \n8126                           Tata Indigo CR4  2013         290000   \n8127                           Tata Indigo CR4  2013         290000   \n\n      km_driven    fuel seller_type transmission         owner  \\\n291       35000  Petrol  Individual       Manual   First Owner   \n296       50000  Petrol  Individual       Manual  Second Owner   \n370        9000  Diesel      Dealer    Automatic   First Owner   \n371       20000  Petrol      Dealer    Automatic   First Owner   \n372       45000  Diesel      Dealer    Automatic   First Owner   \n...         ...     ...         ...          ...           ...   \n7987      12000  Diesel  Individual       Manual   First Owner   \n7988      32000  Diesel  Individual       Manual   First Owner   \n8117      50000  Diesel  Individual       Manual   First Owner   \n8126      25000  Diesel  Individual       Manual   First Owner   \n8127      25000  Diesel  Individual       Manual   First Owner   \n\n      mileage(km/ltr/kg)  engine max_power  seats  \n291                18.90  1197.0        82    5.0  \n296                18.60  1197.0      85.8    5.0  \n370                13.60  1999.0       177    5.0  \n371                22.37  2487.0    214.56    5.0  \n372                19.33  1999.0       177    5.0  \n...                  ...     ...       ...    ...  \n7987               20.37  1461.0    108.45    5.0  \n7988               28.09  1248.0      88.5    5.0  \n8117               26.59  1248.0        74    5.0  \n8126               23.57  1396.0        70    5.0  \n8127               23.57  1396.0        70    5.0  \n\n[1202 rows x 12 columns]",
      "text/html": "<div>\n<style scoped>\n    .dataframe tbody tr th:only-of-type {\n        vertical-align: middle;\n    }\n\n    .dataframe tbody tr th {\n        vertical-align: top;\n    }\n\n    .dataframe thead th {\n        text-align: right;\n    }\n</style>\n<table border=\"1\" class=\"dataframe\">\n  <thead>\n    <tr style=\"text-align: right;\">\n      <th></th>\n      <th>name</th>\n      <th>year</th>\n      <th>selling_price</th>\n      <th>km_driven</th>\n      <th>fuel</th>\n      <th>seller_type</th>\n      <th>transmission</th>\n      <th>owner</th>\n      <th>mileage(km/ltr/kg)</th>\n      <th>engine</th>\n      <th>max_power</th>\n      <th>seats</th>\n    </tr>\n  </thead>\n  <tbody>\n    <tr>\n      <th>291</th>\n      <td>Hyundai Grand i10 Sportz</td>\n      <td>2017</td>\n      <td>450000</td>\n      <td>35000</td>\n      <td>Petrol</td>\n      <td>Individual</td>\n      <td>Manual</td>\n      <td>First Owner</td>\n      <td>18.90</td>\n      <td>1197.0</td>\n      <td>82</td>\n      <td>5.0</td>\n    </tr>\n    <tr>\n      <th>296</th>\n      <td>Maruti Swift VXI</td>\n      <td>2012</td>\n      <td>330000</td>\n      <td>50000</td>\n      <td>Petrol</td>\n      <td>Individual</td>\n      <td>Manual</td>\n      <td>Second Owner</td>\n      <td>18.60</td>\n      <td>1197.0</td>\n      <td>85.8</td>\n      <td>5.0</td>\n    </tr>\n    <tr>\n      <th>370</th>\n      <td>Jaguar XE 2016-2019 2.0L Diesel Prestige</td>\n      <td>2017</td>\n      <td>2625000</td>\n      <td>9000</td>\n      <td>Diesel</td>\n      <td>Dealer</td>\n      <td>Automatic</td>\n      <td>First Owner</td>\n      <td>13.60</td>\n      <td>1999.0</td>\n      <td>177</td>\n      <td>5.0</td>\n    </tr>\n    <tr>\n      <th>371</th>\n      <td>Lexus ES 300h</td>\n      <td>2019</td>\n      <td>5150000</td>\n      <td>20000</td>\n      <td>Petrol</td>\n      <td>Dealer</td>\n      <td>Automatic</td>\n      <td>First Owner</td>\n      <td>22.37</td>\n      <td>2487.0</td>\n      <td>214.56</td>\n      <td>5.0</td>\n    </tr>\n    <tr>\n      <th>372</th>\n      <td>Jaguar XF 2.0 Diesel Portfolio</td>\n      <td>2017</td>\n      <td>3200000</td>\n      <td>45000</td>\n      <td>Diesel</td>\n      <td>Dealer</td>\n      <td>Automatic</td>\n      <td>First Owner</td>\n      <td>19.33</td>\n      <td>1999.0</td>\n      <td>177</td>\n      <td>5.0</td>\n    </tr>\n    <tr>\n      <th>...</th>\n      <td>...</td>\n      <td>...</td>\n      <td>...</td>\n      <td>...</td>\n      <td>...</td>\n      <td>...</td>\n      <td>...</td>\n      <td>...</td>\n      <td>...</td>\n      <td>...</td>\n      <td>...</td>\n      <td>...</td>\n    </tr>\n    <tr>\n      <th>7987</th>\n      <td>Renault Captur 1.5 Diesel RXT</td>\n      <td>2018</td>\n      <td>1265000</td>\n      <td>12000</td>\n      <td>Diesel</td>\n      <td>Individual</td>\n      <td>Manual</td>\n      <td>First Owner</td>\n      <td>20.37</td>\n      <td>1461.0</td>\n      <td>108.45</td>\n      <td>5.0</td>\n    </tr>\n    <tr>\n      <th>7988</th>\n      <td>Maruti Ciaz Alpha Diesel</td>\n      <td>2019</td>\n      <td>1025000</td>\n      <td>32000</td>\n      <td>Diesel</td>\n      <td>Individual</td>\n      <td>Manual</td>\n      <td>First Owner</td>\n      <td>28.09</td>\n      <td>1248.0</td>\n      <td>88.5</td>\n      <td>5.0</td>\n    </tr>\n    <tr>\n      <th>8117</th>\n      <td>Maruti Swift Dzire VDI</td>\n      <td>2015</td>\n      <td>625000</td>\n      <td>50000</td>\n      <td>Diesel</td>\n      <td>Individual</td>\n      <td>Manual</td>\n      <td>First Owner</td>\n      <td>26.59</td>\n      <td>1248.0</td>\n      <td>74</td>\n      <td>5.0</td>\n    </tr>\n    <tr>\n      <th>8126</th>\n      <td>Tata Indigo CR4</td>\n      <td>2013</td>\n      <td>290000</td>\n      <td>25000</td>\n      <td>Diesel</td>\n      <td>Individual</td>\n      <td>Manual</td>\n      <td>First Owner</td>\n      <td>23.57</td>\n      <td>1396.0</td>\n      <td>70</td>\n      <td>5.0</td>\n    </tr>\n    <tr>\n      <th>8127</th>\n      <td>Tata Indigo CR4</td>\n      <td>2013</td>\n      <td>290000</td>\n      <td>25000</td>\n      <td>Diesel</td>\n      <td>Individual</td>\n      <td>Manual</td>\n      <td>First Owner</td>\n      <td>23.57</td>\n      <td>1396.0</td>\n      <td>70</td>\n      <td>5.0</td>\n    </tr>\n  </tbody>\n</table>\n<p>1202 rows × 12 columns</p>\n</div>"
     },
     "metadata": {},
     "output_type": "display_data"
    }
   ],
   "source": [
    "describe_data(car_price)"
   ],
   "metadata": {
    "collapsed": false,
    "ExecuteTime": {
     "end_time": "2024-11-09T20:59:36.508429100Z",
     "start_time": "2024-11-09T20:59:36.405477300Z"
    }
   },
   "id": "305eae6bebf0d3f2",
   "execution_count": 5
  },
  {
   "cell_type": "code",
   "outputs": [
    {
     "name": "stdout",
     "output_type": "stream",
     "text": [
      "       Annual Income     Price ($)         Phone\n",
      "count   2.390600e+04  23906.000000  2.390600e+04\n",
      "mean    8.308403e+05  28090.247846  7.497741e+06\n",
      "std     7.200064e+05  14788.687608  8.674920e+05\n",
      "min     1.008000e+04   1200.000000  6.000101e+06\n",
      "25%     3.860000e+05  18001.000000  6.746495e+06\n",
      "50%     7.350000e+05  23000.000000  7.496198e+06\n",
      "75%     1.175750e+06  34000.000000  8.248146e+06\n",
      "max     1.120000e+07  85800.000000  8.999579e+06 \n",
      "\n",
      "<class 'pandas.core.frame.DataFrame'>\n",
      "RangeIndex: 23906 entries, 0 to 23905\n",
      "Data columns (total 16 columns):\n",
      " #   Column         Non-Null Count  Dtype \n",
      "---  ------         --------------  ----- \n",
      " 0   Car_id         23906 non-null  object\n",
      " 1   Date           23906 non-null  object\n",
      " 2   Customer Name  23905 non-null  object\n",
      " 3   Gender         23906 non-null  object\n",
      " 4   Annual Income  23906 non-null  int64 \n",
      " 5   Dealer_Name    23906 non-null  object\n",
      " 6   Company        23906 non-null  object\n",
      " 7   Model          23906 non-null  object\n",
      " 8   Engine         23906 non-null  object\n",
      " 9   Transmission   23906 non-null  object\n",
      " 10  Color          23906 non-null  object\n",
      " 11  Price ($)      23906 non-null  int64 \n",
      " 12  Dealer_No      23906 non-null  object\n",
      " 13  Body Style     23906 non-null  object\n",
      " 14  Phone          23906 non-null  int64 \n",
      " 15  Dealer_Region  23906 non-null  object\n",
      "dtypes: int64(3), object(13)\n",
      "memory usage: 2.9+ MB\n",
      "None \n",
      "\n",
      "Duplicated values count:\n",
      " 0 \n",
      "\n",
      "Not a number values count:\n",
      " Car_id           0\n",
      "Date             0\n",
      "Customer Name    1\n",
      "Gender           0\n",
      "Annual Income    0\n",
      "Dealer_Name      0\n",
      "Company          0\n",
      "Model            0\n",
      "Engine           0\n",
      "Transmission     0\n",
      "Color            0\n",
      "Price ($)        0\n",
      "Dealer_No        0\n",
      "Body Style       0\n",
      "Phone            0\n",
      "Dealer_Region    0\n",
      "dtype: int64 \n",
      "\n",
      "Missing values rows:\n"
     ]
    },
    {
     "data": {
      "text/plain": "            Car_id       Date Customer Name Gender  Annual Income  \\\n7564  C_CND_007565  11/5/2022           NaN   Male         680000   \n\n           Dealer_Name Company       Model                     Engine  \\\n7564  Saab-Belle Dodge   Dodge  Ram Pickup  DoubleÂ Overhead Camshaft   \n\n     Transmission       Color  Price ($)  Dealer_No  Body Style    Phone  \\\n7564         Auto  Pale White      45000  60504-7114    Hardtop  7203103   \n\n     Dealer_Region  \n7564        Aurora  ",
      "text/html": "<div>\n<style scoped>\n    .dataframe tbody tr th:only-of-type {\n        vertical-align: middle;\n    }\n\n    .dataframe tbody tr th {\n        vertical-align: top;\n    }\n\n    .dataframe thead th {\n        text-align: right;\n    }\n</style>\n<table border=\"1\" class=\"dataframe\">\n  <thead>\n    <tr style=\"text-align: right;\">\n      <th></th>\n      <th>Car_id</th>\n      <th>Date</th>\n      <th>Customer Name</th>\n      <th>Gender</th>\n      <th>Annual Income</th>\n      <th>Dealer_Name</th>\n      <th>Company</th>\n      <th>Model</th>\n      <th>Engine</th>\n      <th>Transmission</th>\n      <th>Color</th>\n      <th>Price ($)</th>\n      <th>Dealer_No</th>\n      <th>Body Style</th>\n      <th>Phone</th>\n      <th>Dealer_Region</th>\n    </tr>\n  </thead>\n  <tbody>\n    <tr>\n      <th>7564</th>\n      <td>C_CND_007565</td>\n      <td>11/5/2022</td>\n      <td>NaN</td>\n      <td>Male</td>\n      <td>680000</td>\n      <td>Saab-Belle Dodge</td>\n      <td>Dodge</td>\n      <td>Ram Pickup</td>\n      <td>DoubleÂ Overhead Camshaft</td>\n      <td>Auto</td>\n      <td>Pale White</td>\n      <td>45000</td>\n      <td>60504-7114</td>\n      <td>Hardtop</td>\n      <td>7203103</td>\n      <td>Aurora</td>\n    </tr>\n  </tbody>\n</table>\n</div>"
     },
     "metadata": {},
     "output_type": "display_data"
    },
    {
     "name": "stdout",
     "output_type": "stream",
     "text": [
      "Duplicated values rows:\n"
     ]
    },
    {
     "data": {
      "text/plain": "Empty DataFrame\nColumns: [Car_id, Date, Customer Name, Gender, Annual Income, Dealer_Name, Company, Model, Engine, Transmission, Color, Price ($), Dealer_No , Body Style, Phone, Dealer_Region]\nIndex: []",
      "text/html": "<div>\n<style scoped>\n    .dataframe tbody tr th:only-of-type {\n        vertical-align: middle;\n    }\n\n    .dataframe tbody tr th {\n        vertical-align: top;\n    }\n\n    .dataframe thead th {\n        text-align: right;\n    }\n</style>\n<table border=\"1\" class=\"dataframe\">\n  <thead>\n    <tr style=\"text-align: right;\">\n      <th></th>\n      <th>Car_id</th>\n      <th>Date</th>\n      <th>Customer Name</th>\n      <th>Gender</th>\n      <th>Annual Income</th>\n      <th>Dealer_Name</th>\n      <th>Company</th>\n      <th>Model</th>\n      <th>Engine</th>\n      <th>Transmission</th>\n      <th>Color</th>\n      <th>Price ($)</th>\n      <th>Dealer_No</th>\n      <th>Body Style</th>\n      <th>Phone</th>\n      <th>Dealer_Region</th>\n    </tr>\n  </thead>\n  <tbody>\n  </tbody>\n</table>\n</div>"
     },
     "metadata": {},
     "output_type": "display_data"
    }
   ],
   "source": [
    "describe_data(car_sales)"
   ],
   "metadata": {
    "collapsed": false,
    "ExecuteTime": {
     "end_time": "2024-11-09T20:59:36.629615100Z",
     "start_time": "2024-11-09T20:59:36.460919900Z"
    }
   },
   "id": "dcdf74e40b2728da",
   "execution_count": 6
  },
  {
   "cell_type": "code",
   "outputs": [],
   "source": [
    "clean_car_ownership = car_ownership.__deepcopy__()\n",
    "clean_car_sales = car_sales.__deepcopy__()\n",
    "clean_car_price = car_price.__deepcopy__() "
   ],
   "metadata": {
    "collapsed": false,
    "ExecuteTime": {
     "end_time": "2024-11-09T20:59:36.649236Z",
     "start_time": "2024-11-09T20:59:36.573963300Z"
    }
   },
   "id": "1616f63756c5c275",
   "execution_count": 7
  },
  {
   "cell_type": "code",
   "outputs": [],
   "source": [
    "clean_car_ownership.drop_duplicates(inplace=True)"
   ],
   "metadata": {
    "collapsed": false,
    "ExecuteTime": {
     "end_time": "2024-11-09T20:59:36.689594Z",
     "start_time": "2024-11-09T20:59:36.581595Z"
    }
   },
   "id": "ae0de97704505fce",
   "execution_count": 8
  },
  {
   "cell_type": "code",
   "outputs": [],
   "source": [
    "clean_car_ownership.dropna(inplace=True, subset=['Occupation'])"
   ],
   "metadata": {
    "collapsed": false,
    "ExecuteTime": {
     "end_time": "2024-11-09T20:59:36.690416100Z",
     "start_time": "2024-11-09T20:59:36.585029200Z"
    }
   },
   "id": "adbd299bcaad70ce",
   "execution_count": 9
  },
  {
   "cell_type": "code",
   "outputs": [],
   "source": [
    "clean_car_ownership.drop(columns=['Finance History'], inplace=True)"
   ],
   "metadata": {
    "collapsed": false,
    "ExecuteTime": {
     "end_time": "2024-11-09T20:59:36.735251700Z",
     "start_time": "2024-11-09T20:59:36.592465500Z"
    }
   },
   "id": "797c3b1932521986",
   "execution_count": 10
  },
  {
   "cell_type": "code",
   "outputs": [],
   "source": [
    "def clean_numerics(value):\n",
    "    \n",
    "    if pd.isna(value) or pd.isnull(value):\n",
    "        return value\n",
    "    \n",
    "    value_str = str(value).lower()\n",
    "    value_str = ''.join(char for char in value_str if char.isdigit() or char in ['k'])\n",
    "    \n",
    "    if value_str == '':\n",
    "        return np.nan\n",
    "        \n",
    "    if 'k' in value_str:\n",
    "        value_str = value_str.replace('k', '')  \n",
    "        return float(value_str) * 1000 \n",
    "\n",
    "    return float(value_str)\n",
    "\n",
    "clean_car_ownership['Monthly Income'] = clean_car_ownership['Monthly Income'].apply(clean_numerics)\n",
    "clean_car_ownership['Years of Employment'] = clean_car_ownership['Years of Employment'].apply(clean_numerics)"
   ],
   "metadata": {
    "collapsed": false,
    "ExecuteTime": {
     "end_time": "2024-11-09T20:59:36.737427Z",
     "start_time": "2024-11-09T20:59:36.596836Z"
    }
   },
   "id": "c34dbb73c78589f",
   "execution_count": 11
  },
  {
   "cell_type": "code",
   "outputs": [],
   "source": [
    "# work in progress\n",
    "def fill_nulls_nans_numeric(df: pd.DataFrame, columns: list, group: str, trasform_to_int: bool) -> pd.DataFrame:\n",
    "\n",
    "    for column in columns:\n",
    "        df[column] = df.groupby(group)[column].transform(lambda x: x.fillna(x.mean()))\n",
    "        df[column] = df[column].fillna(value=df[column].median())\n",
    "    \n",
    "    if trasform_to_int:\n",
    "        df[columns] = df[columns].astype(int)\n",
    "    \n",
    "    return df\n",
    "\n",
    "clean_car_ownership = fill_nulls_nans_numeric(clean_car_ownership, ['Monthly Income', 'Credit Score', 'Years of Employment'], \"Occupation\", True)"
   ],
   "metadata": {
    "collapsed": false,
    "ExecuteTime": {
     "end_time": "2024-11-09T20:59:36.779535400Z",
     "start_time": "2024-11-09T20:59:36.606083600Z"
    }
   },
   "id": "70a122ff7df21a33",
   "execution_count": 12
  },
  {
   "cell_type": "code",
   "outputs": [
    {
     "data": {
      "text/plain": "array(['Good', 'Fair', 'Excellent', 'Poor', nan, 'Stable', 'Unstable',\n       'Unknow', 'Unkonw'], dtype=object)"
     },
     "execution_count": 13,
     "metadata": {},
     "output_type": "execute_result"
    }
   ],
   "source": [
    "clean_car_ownership['Finance Status'].unique()"
   ],
   "metadata": {
    "collapsed": false,
    "ExecuteTime": {
     "end_time": "2024-11-09T20:59:36.796287900Z",
     "start_time": "2024-11-09T20:59:36.651348700Z"
    }
   },
   "id": "1893150f71bf0a10",
   "execution_count": 13
  },
  {
   "cell_type": "code",
   "outputs": [
    {
     "data": {
      "text/plain": "array(['Good', 'Fair', 'Excellent', 'Poor', 'Unknown', 'Stable',\n       'Unstable'], dtype=object)"
     },
     "execution_count": 14,
     "metadata": {},
     "output_type": "execute_result"
    }
   ],
   "source": [
    "clean_car_ownership['Finance Status'] = clean_car_ownership['Finance Status'].replace({np.nan:'Unknown', 'Unkonw':'Unknown', 'Unknow': 'Unknown'})\n",
    "clean_car_ownership['Finance Status'].unique()"
   ],
   "metadata": {
    "collapsed": false,
    "ExecuteTime": {
     "end_time": "2024-11-09T20:59:36.797386600Z",
     "start_time": "2024-11-09T20:59:36.657129200Z"
    }
   },
   "id": "cbe1daa7c9269742",
   "execution_count": 14
  },
  {
   "cell_type": "code",
   "outputs": [],
   "source": [
    "clean_car_ownership['Car'] = clean_car_ownership['Car'].fillna('No')"
   ],
   "metadata": {
    "collapsed": false,
    "ExecuteTime": {
     "end_time": "2024-11-09T20:59:36.798541600Z",
     "start_time": "2024-11-09T20:59:36.662048Z"
    }
   },
   "id": "196c4d0de123d362",
   "execution_count": 15
  },
  {
   "cell_type": "code",
   "outputs": [],
   "source": [
    "clean_car_ownership['Number of Children'] = clean_car_ownership['Number of Children'].replace({'na':np.nan})\n",
    "clean_car_ownership['Number of Children'] = clean_car_ownership['Number of Children'].replace({np.nan:-1})"
   ],
   "metadata": {
    "collapsed": false,
    "ExecuteTime": {
     "end_time": "2024-11-09T20:59:36.818342600Z",
     "start_time": "2024-11-09T20:59:36.667647Z"
    }
   },
   "id": "2c6738981679b95a",
   "execution_count": 16
  },
  {
   "cell_type": "code",
   "outputs": [],
   "source": [
    "clean_car_ownership.to_csv(path_or_buf='../data/clean_data/clean_car_ownership.csv')\n"
   ],
   "metadata": {
    "collapsed": false,
    "ExecuteTime": {
     "end_time": "2024-11-09T20:59:36.819439900Z",
     "start_time": "2024-11-09T20:59:36.672932600Z"
    }
   },
   "id": "9e2c082fe048ac98",
   "execution_count": 17
  },
  {
   "cell_type": "code",
   "outputs": [],
   "source": [
    "clean_car_price = clean_car_price.drop(columns=['mileage(km/ltr/kg)','max_power','engine','seats'])\n"
   ],
   "metadata": {
    "collapsed": false,
    "ExecuteTime": {
     "end_time": "2024-11-09T20:59:36.819439900Z",
     "start_time": "2024-11-09T20:59:36.680526300Z"
    }
   },
   "id": "1caab17cbb920330",
   "execution_count": 18
  },
  {
   "cell_type": "code",
   "outputs": [],
   "source": [
    "clean_car_sales = clean_car_sales.drop(columns=['Customer Name'])"
   ],
   "metadata": {
    "collapsed": false,
    "ExecuteTime": {
     "end_time": "2024-11-09T20:59:36.821515700Z",
     "start_time": "2024-11-09T20:59:36.689594Z"
    }
   },
   "id": "e9037429cbee6db5",
   "execution_count": 19
  },
  {
   "cell_type": "code",
   "outputs": [
    {
     "name": "stdout",
     "output_type": "stream",
     "text": [
      "       Monthly Income  Credit Score  Years of Employment\n",
      "count      426.000000    426.000000           426.000000\n",
      "mean      7446.624413    701.610329             4.352113\n",
      "std      12159.747035     66.733100             2.453896\n",
      "min          7.000000    500.000000             1.000000\n",
      "25%       3500.000000    650.000000             3.000000\n",
      "50%       4800.000000    695.000000             4.000000\n",
      "75%       7000.000000    750.000000             6.000000\n",
      "max     120000.000000    900.000000            20.000000 \n",
      "\n",
      "<class 'pandas.core.frame.DataFrame'>\n",
      "Index: 426 entries, 0 to 499\n",
      "Data columns (total 7 columns):\n",
      " #   Column               Non-Null Count  Dtype \n",
      "---  ------               --------------  ----- \n",
      " 0   Occupation           426 non-null    object\n",
      " 1   Monthly Income       426 non-null    int32 \n",
      " 2   Credit Score         426 non-null    int32 \n",
      " 3   Years of Employment  426 non-null    int32 \n",
      " 4   Finance Status       426 non-null    object\n",
      " 5   Car                  426 non-null    object\n",
      " 6   Number of Children   426 non-null    object\n",
      "dtypes: int32(3), object(4)\n",
      "memory usage: 21.6+ KB\n",
      "None \n",
      "\n",
      "Duplicated values count:\n",
      " 30 \n",
      "\n",
      "Not a number values count:\n",
      " Occupation             0\n",
      "Monthly Income         0\n",
      "Credit Score           0\n",
      "Years of Employment    0\n",
      "Finance Status         0\n",
      "Car                    0\n",
      "Number of Children     0\n",
      "dtype: int64 \n",
      "\n",
      "Missing values rows:\n"
     ]
    },
    {
     "data": {
      "text/plain": "Empty DataFrame\nColumns: [Occupation, Monthly Income, Credit Score, Years of Employment, Finance Status, Car, Number of Children]\nIndex: []",
      "text/html": "<div>\n<style scoped>\n    .dataframe tbody tr th:only-of-type {\n        vertical-align: middle;\n    }\n\n    .dataframe tbody tr th {\n        vertical-align: top;\n    }\n\n    .dataframe thead th {\n        text-align: right;\n    }\n</style>\n<table border=\"1\" class=\"dataframe\">\n  <thead>\n    <tr style=\"text-align: right;\">\n      <th></th>\n      <th>Occupation</th>\n      <th>Monthly Income</th>\n      <th>Credit Score</th>\n      <th>Years of Employment</th>\n      <th>Finance Status</th>\n      <th>Car</th>\n      <th>Number of Children</th>\n    </tr>\n  </thead>\n  <tbody>\n  </tbody>\n</table>\n</div>"
     },
     "metadata": {},
     "output_type": "display_data"
    },
    {
     "name": "stdout",
     "output_type": "stream",
     "text": [
      "Duplicated values rows:\n"
     ]
    },
    {
     "data": {
      "text/plain": "              Occupation  Monthly Income  Credit Score  Years of Employment  \\\n289             Musician            2500           550                    1   \n297             Mechanic            2500           600                    2   \n298            Marketing            5200           720                    5   \n299     Graphic Designer            3700           680                    3   \n300    Financial Advisor            8500           780                    6   \n301    Real Estate Agent            6200           700                    4   \n302                 Chef            2800           620                    1   \n303             Engineer            9000           790                    7   \n304  Construction Worker            3000           610                    3   \n305             Designer            4500           700                    4   \n306               Writer            2500           590                    1   \n307        Web Developer            6000           730                    5   \n308                 Chef            3500           650                    2   \n309      Account Manager            5800           720                    4   \n310    Financial Analyst            6800           760                    5   \n311          Electrician            3200           640                    2   \n312      Human Resources            4500           690                    3   \n313              Plumber            2700           620                    1   \n314        Social Worker            3600           670                    2   \n315       Data Scientist            9200           820                    6   \n316                 Chef            3100           650                    2   \n317     Customer Service            2500           600                    1   \n318         Veterinarian            7000           750                    8   \n319     Graphic Designer            3500           680                    3   \n320            Architect            8500           790                    7   \n321                 Chef            3200           630                    2   \n322         Web Designer            4800           710                    4   \n339     Customer Service            2500           600                    1   \n351     Dental Hygienist            5000           718                    4   \n388             Attorney           11000           806                    9   \n\n    Finance Status  Car Number of Children  \n289        Unknown   No                 -1  \n297       Unstable   No                 -1  \n298         Stable  Yes                 -1  \n299         Stable   No                 -1  \n300         Stable  Yes                 -1  \n301         Stable  Yes                 -1  \n302       Unstable   No                 -1  \n303         Stable  Yes                 -1  \n304       Unstable   No                 -1  \n305         Stable   No                 -1  \n306       Unstable   No                 -1  \n307         Stable  Yes                 -1  \n308       Unstable   No                 -1  \n309         Stable  Yes                 -1  \n310         Stable  Yes                 -1  \n311       Unstable   No                 -1  \n312         Stable  Yes                 -1  \n313       Unstable   No                 -1  \n314       Unstable   No                 -1  \n315           Good  Yes                 -1  \n316           Fair   No                 -1  \n317      Excellent   No                 -1  \n318           Good  Yes                 -1  \n319      Excellent   No                 -1  \n320      Excellent  Yes                 -1  \n321           Good   No                 -1  \n322      Excellent   No                 -1  \n339       Unstable   No                  0  \n351        Unknown   No                 -1  \n388         Stable  Yes                  1  ",
      "text/html": "<div>\n<style scoped>\n    .dataframe tbody tr th:only-of-type {\n        vertical-align: middle;\n    }\n\n    .dataframe tbody tr th {\n        vertical-align: top;\n    }\n\n    .dataframe thead th {\n        text-align: right;\n    }\n</style>\n<table border=\"1\" class=\"dataframe\">\n  <thead>\n    <tr style=\"text-align: right;\">\n      <th></th>\n      <th>Occupation</th>\n      <th>Monthly Income</th>\n      <th>Credit Score</th>\n      <th>Years of Employment</th>\n      <th>Finance Status</th>\n      <th>Car</th>\n      <th>Number of Children</th>\n    </tr>\n  </thead>\n  <tbody>\n    <tr>\n      <th>289</th>\n      <td>Musician</td>\n      <td>2500</td>\n      <td>550</td>\n      <td>1</td>\n      <td>Unknown</td>\n      <td>No</td>\n      <td>-1</td>\n    </tr>\n    <tr>\n      <th>297</th>\n      <td>Mechanic</td>\n      <td>2500</td>\n      <td>600</td>\n      <td>2</td>\n      <td>Unstable</td>\n      <td>No</td>\n      <td>-1</td>\n    </tr>\n    <tr>\n      <th>298</th>\n      <td>Marketing</td>\n      <td>5200</td>\n      <td>720</td>\n      <td>5</td>\n      <td>Stable</td>\n      <td>Yes</td>\n      <td>-1</td>\n    </tr>\n    <tr>\n      <th>299</th>\n      <td>Graphic Designer</td>\n      <td>3700</td>\n      <td>680</td>\n      <td>3</td>\n      <td>Stable</td>\n      <td>No</td>\n      <td>-1</td>\n    </tr>\n    <tr>\n      <th>300</th>\n      <td>Financial Advisor</td>\n      <td>8500</td>\n      <td>780</td>\n      <td>6</td>\n      <td>Stable</td>\n      <td>Yes</td>\n      <td>-1</td>\n    </tr>\n    <tr>\n      <th>301</th>\n      <td>Real Estate Agent</td>\n      <td>6200</td>\n      <td>700</td>\n      <td>4</td>\n      <td>Stable</td>\n      <td>Yes</td>\n      <td>-1</td>\n    </tr>\n    <tr>\n      <th>302</th>\n      <td>Chef</td>\n      <td>2800</td>\n      <td>620</td>\n      <td>1</td>\n      <td>Unstable</td>\n      <td>No</td>\n      <td>-1</td>\n    </tr>\n    <tr>\n      <th>303</th>\n      <td>Engineer</td>\n      <td>9000</td>\n      <td>790</td>\n      <td>7</td>\n      <td>Stable</td>\n      <td>Yes</td>\n      <td>-1</td>\n    </tr>\n    <tr>\n      <th>304</th>\n      <td>Construction Worker</td>\n      <td>3000</td>\n      <td>610</td>\n      <td>3</td>\n      <td>Unstable</td>\n      <td>No</td>\n      <td>-1</td>\n    </tr>\n    <tr>\n      <th>305</th>\n      <td>Designer</td>\n      <td>4500</td>\n      <td>700</td>\n      <td>4</td>\n      <td>Stable</td>\n      <td>No</td>\n      <td>-1</td>\n    </tr>\n    <tr>\n      <th>306</th>\n      <td>Writer</td>\n      <td>2500</td>\n      <td>590</td>\n      <td>1</td>\n      <td>Unstable</td>\n      <td>No</td>\n      <td>-1</td>\n    </tr>\n    <tr>\n      <th>307</th>\n      <td>Web Developer</td>\n      <td>6000</td>\n      <td>730</td>\n      <td>5</td>\n      <td>Stable</td>\n      <td>Yes</td>\n      <td>-1</td>\n    </tr>\n    <tr>\n      <th>308</th>\n      <td>Chef</td>\n      <td>3500</td>\n      <td>650</td>\n      <td>2</td>\n      <td>Unstable</td>\n      <td>No</td>\n      <td>-1</td>\n    </tr>\n    <tr>\n      <th>309</th>\n      <td>Account Manager</td>\n      <td>5800</td>\n      <td>720</td>\n      <td>4</td>\n      <td>Stable</td>\n      <td>Yes</td>\n      <td>-1</td>\n    </tr>\n    <tr>\n      <th>310</th>\n      <td>Financial Analyst</td>\n      <td>6800</td>\n      <td>760</td>\n      <td>5</td>\n      <td>Stable</td>\n      <td>Yes</td>\n      <td>-1</td>\n    </tr>\n    <tr>\n      <th>311</th>\n      <td>Electrician</td>\n      <td>3200</td>\n      <td>640</td>\n      <td>2</td>\n      <td>Unstable</td>\n      <td>No</td>\n      <td>-1</td>\n    </tr>\n    <tr>\n      <th>312</th>\n      <td>Human Resources</td>\n      <td>4500</td>\n      <td>690</td>\n      <td>3</td>\n      <td>Stable</td>\n      <td>Yes</td>\n      <td>-1</td>\n    </tr>\n    <tr>\n      <th>313</th>\n      <td>Plumber</td>\n      <td>2700</td>\n      <td>620</td>\n      <td>1</td>\n      <td>Unstable</td>\n      <td>No</td>\n      <td>-1</td>\n    </tr>\n    <tr>\n      <th>314</th>\n      <td>Social Worker</td>\n      <td>3600</td>\n      <td>670</td>\n      <td>2</td>\n      <td>Unstable</td>\n      <td>No</td>\n      <td>-1</td>\n    </tr>\n    <tr>\n      <th>315</th>\n      <td>Data Scientist</td>\n      <td>9200</td>\n      <td>820</td>\n      <td>6</td>\n      <td>Good</td>\n      <td>Yes</td>\n      <td>-1</td>\n    </tr>\n    <tr>\n      <th>316</th>\n      <td>Chef</td>\n      <td>3100</td>\n      <td>650</td>\n      <td>2</td>\n      <td>Fair</td>\n      <td>No</td>\n      <td>-1</td>\n    </tr>\n    <tr>\n      <th>317</th>\n      <td>Customer Service</td>\n      <td>2500</td>\n      <td>600</td>\n      <td>1</td>\n      <td>Excellent</td>\n      <td>No</td>\n      <td>-1</td>\n    </tr>\n    <tr>\n      <th>318</th>\n      <td>Veterinarian</td>\n      <td>7000</td>\n      <td>750</td>\n      <td>8</td>\n      <td>Good</td>\n      <td>Yes</td>\n      <td>-1</td>\n    </tr>\n    <tr>\n      <th>319</th>\n      <td>Graphic Designer</td>\n      <td>3500</td>\n      <td>680</td>\n      <td>3</td>\n      <td>Excellent</td>\n      <td>No</td>\n      <td>-1</td>\n    </tr>\n    <tr>\n      <th>320</th>\n      <td>Architect</td>\n      <td>8500</td>\n      <td>790</td>\n      <td>7</td>\n      <td>Excellent</td>\n      <td>Yes</td>\n      <td>-1</td>\n    </tr>\n    <tr>\n      <th>321</th>\n      <td>Chef</td>\n      <td>3200</td>\n      <td>630</td>\n      <td>2</td>\n      <td>Good</td>\n      <td>No</td>\n      <td>-1</td>\n    </tr>\n    <tr>\n      <th>322</th>\n      <td>Web Designer</td>\n      <td>4800</td>\n      <td>710</td>\n      <td>4</td>\n      <td>Excellent</td>\n      <td>No</td>\n      <td>-1</td>\n    </tr>\n    <tr>\n      <th>339</th>\n      <td>Customer Service</td>\n      <td>2500</td>\n      <td>600</td>\n      <td>1</td>\n      <td>Unstable</td>\n      <td>No</td>\n      <td>0</td>\n    </tr>\n    <tr>\n      <th>351</th>\n      <td>Dental Hygienist</td>\n      <td>5000</td>\n      <td>718</td>\n      <td>4</td>\n      <td>Unknown</td>\n      <td>No</td>\n      <td>-1</td>\n    </tr>\n    <tr>\n      <th>388</th>\n      <td>Attorney</td>\n      <td>11000</td>\n      <td>806</td>\n      <td>9</td>\n      <td>Stable</td>\n      <td>Yes</td>\n      <td>1</td>\n    </tr>\n  </tbody>\n</table>\n</div>"
     },
     "metadata": {},
     "output_type": "display_data"
    }
   ],
   "source": [
    "describe_data(clean_car_ownership)"
   ],
   "metadata": {
    "collapsed": false,
    "ExecuteTime": {
     "end_time": "2024-11-09T20:59:36.873089600Z",
     "start_time": "2024-11-09T20:59:36.693769Z"
    }
   },
   "id": "a715df83e09e13c6",
   "execution_count": 20
  },
  {
   "cell_type": "code",
   "outputs": [
    {
     "name": "stdout",
     "output_type": "stream",
     "text": [
      "       Annual Income     Price ($)         Phone\n",
      "count   2.390600e+04  23906.000000  2.390600e+04\n",
      "mean    8.308403e+05  28090.247846  7.497741e+06\n",
      "std     7.200064e+05  14788.687608  8.674920e+05\n",
      "min     1.008000e+04   1200.000000  6.000101e+06\n",
      "25%     3.860000e+05  18001.000000  6.746495e+06\n",
      "50%     7.350000e+05  23000.000000  7.496198e+06\n",
      "75%     1.175750e+06  34000.000000  8.248146e+06\n",
      "max     1.120000e+07  85800.000000  8.999579e+06 \n",
      "\n",
      "<class 'pandas.core.frame.DataFrame'>\n",
      "RangeIndex: 23906 entries, 0 to 23905\n",
      "Data columns (total 15 columns):\n",
      " #   Column         Non-Null Count  Dtype \n",
      "---  ------         --------------  ----- \n",
      " 0   Car_id         23906 non-null  object\n",
      " 1   Date           23906 non-null  object\n",
      " 2   Gender         23906 non-null  object\n",
      " 3   Annual Income  23906 non-null  int64 \n",
      " 4   Dealer_Name    23906 non-null  object\n",
      " 5   Company        23906 non-null  object\n",
      " 6   Model          23906 non-null  object\n",
      " 7   Engine         23906 non-null  object\n",
      " 8   Transmission   23906 non-null  object\n",
      " 9   Color          23906 non-null  object\n",
      " 10  Price ($)      23906 non-null  int64 \n",
      " 11  Dealer_No      23906 non-null  object\n",
      " 12  Body Style     23906 non-null  object\n",
      " 13  Phone          23906 non-null  int64 \n",
      " 14  Dealer_Region  23906 non-null  object\n",
      "dtypes: int64(3), object(12)\n",
      "memory usage: 2.7+ MB\n",
      "None \n",
      "\n",
      "Duplicated values count:\n",
      " 0 \n",
      "\n",
      "Not a number values count:\n",
      " Car_id           0\n",
      "Date             0\n",
      "Gender           0\n",
      "Annual Income    0\n",
      "Dealer_Name      0\n",
      "Company          0\n",
      "Model            0\n",
      "Engine           0\n",
      "Transmission     0\n",
      "Color            0\n",
      "Price ($)        0\n",
      "Dealer_No        0\n",
      "Body Style       0\n",
      "Phone            0\n",
      "Dealer_Region    0\n",
      "dtype: int64 \n",
      "\n",
      "Missing values rows:\n"
     ]
    },
    {
     "data": {
      "text/plain": "Empty DataFrame\nColumns: [Car_id, Date, Gender, Annual Income, Dealer_Name, Company, Model, Engine, Transmission, Color, Price ($), Dealer_No , Body Style, Phone, Dealer_Region]\nIndex: []",
      "text/html": "<div>\n<style scoped>\n    .dataframe tbody tr th:only-of-type {\n        vertical-align: middle;\n    }\n\n    .dataframe tbody tr th {\n        vertical-align: top;\n    }\n\n    .dataframe thead th {\n        text-align: right;\n    }\n</style>\n<table border=\"1\" class=\"dataframe\">\n  <thead>\n    <tr style=\"text-align: right;\">\n      <th></th>\n      <th>Car_id</th>\n      <th>Date</th>\n      <th>Gender</th>\n      <th>Annual Income</th>\n      <th>Dealer_Name</th>\n      <th>Company</th>\n      <th>Model</th>\n      <th>Engine</th>\n      <th>Transmission</th>\n      <th>Color</th>\n      <th>Price ($)</th>\n      <th>Dealer_No</th>\n      <th>Body Style</th>\n      <th>Phone</th>\n      <th>Dealer_Region</th>\n    </tr>\n  </thead>\n  <tbody>\n  </tbody>\n</table>\n</div>"
     },
     "metadata": {},
     "output_type": "display_data"
    },
    {
     "name": "stdout",
     "output_type": "stream",
     "text": [
      "Duplicated values rows:\n"
     ]
    },
    {
     "data": {
      "text/plain": "Empty DataFrame\nColumns: [Car_id, Date, Gender, Annual Income, Dealer_Name, Company, Model, Engine, Transmission, Color, Price ($), Dealer_No , Body Style, Phone, Dealer_Region]\nIndex: []",
      "text/html": "<div>\n<style scoped>\n    .dataframe tbody tr th:only-of-type {\n        vertical-align: middle;\n    }\n\n    .dataframe tbody tr th {\n        vertical-align: top;\n    }\n\n    .dataframe thead th {\n        text-align: right;\n    }\n</style>\n<table border=\"1\" class=\"dataframe\">\n  <thead>\n    <tr style=\"text-align: right;\">\n      <th></th>\n      <th>Car_id</th>\n      <th>Date</th>\n      <th>Gender</th>\n      <th>Annual Income</th>\n      <th>Dealer_Name</th>\n      <th>Company</th>\n      <th>Model</th>\n      <th>Engine</th>\n      <th>Transmission</th>\n      <th>Color</th>\n      <th>Price ($)</th>\n      <th>Dealer_No</th>\n      <th>Body Style</th>\n      <th>Phone</th>\n      <th>Dealer_Region</th>\n    </tr>\n  </thead>\n  <tbody>\n  </tbody>\n</table>\n</div>"
     },
     "metadata": {},
     "output_type": "display_data"
    }
   ],
   "source": [
    "describe_data(clean_car_sales)"
   ],
   "metadata": {
    "collapsed": false,
    "ExecuteTime": {
     "end_time": "2024-11-09T20:59:36.954709300Z",
     "start_time": "2024-11-09T20:59:36.717466600Z"
    }
   },
   "id": "b2103123cbcab23c",
   "execution_count": 21
  },
  {
   "cell_type": "code",
   "outputs": [
    {
     "name": "stdout",
     "output_type": "stream",
     "text": [
      "              year  selling_price     km_driven\n",
      "count  8128.000000   8.128000e+03  8.128000e+03\n",
      "mean   2013.804011   6.382718e+05  6.981951e+04\n",
      "std       4.044249   8.062534e+05  5.655055e+04\n",
      "min    1983.000000   2.999900e+04  1.000000e+00\n",
      "25%    2011.000000   2.549990e+05  3.500000e+04\n",
      "50%    2015.000000   4.500000e+05  6.000000e+04\n",
      "75%    2017.000000   6.750000e+05  9.800000e+04\n",
      "max    2020.000000   1.000000e+07  2.360457e+06 \n",
      "\n",
      "<class 'pandas.core.frame.DataFrame'>\n",
      "RangeIndex: 8128 entries, 0 to 8127\n",
      "Data columns (total 8 columns):\n",
      " #   Column         Non-Null Count  Dtype \n",
      "---  ------         --------------  ----- \n",
      " 0   name           8128 non-null   object\n",
      " 1   year           8128 non-null   int64 \n",
      " 2   selling_price  8128 non-null   int64 \n",
      " 3   km_driven      8128 non-null   int64 \n",
      " 4   fuel           8128 non-null   object\n",
      " 5   seller_type    8128 non-null   object\n",
      " 6   transmission   8128 non-null   object\n",
      " 7   owner          8128 non-null   object\n",
      "dtypes: int64(3), object(5)\n",
      "memory usage: 508.1+ KB\n",
      "None \n",
      "\n",
      "Duplicated values count:\n",
      " 1203 \n",
      "\n",
      "Not a number values count:\n",
      " name             0\n",
      "year             0\n",
      "selling_price    0\n",
      "km_driven        0\n",
      "fuel             0\n",
      "seller_type      0\n",
      "transmission     0\n",
      "owner            0\n",
      "dtype: int64 \n",
      "\n",
      "Missing values rows:\n"
     ]
    },
    {
     "data": {
      "text/plain": "Empty DataFrame\nColumns: [name, year, selling_price, km_driven, fuel, seller_type, transmission, owner]\nIndex: []",
      "text/html": "<div>\n<style scoped>\n    .dataframe tbody tr th:only-of-type {\n        vertical-align: middle;\n    }\n\n    .dataframe tbody tr th {\n        vertical-align: top;\n    }\n\n    .dataframe thead th {\n        text-align: right;\n    }\n</style>\n<table border=\"1\" class=\"dataframe\">\n  <thead>\n    <tr style=\"text-align: right;\">\n      <th></th>\n      <th>name</th>\n      <th>year</th>\n      <th>selling_price</th>\n      <th>km_driven</th>\n      <th>fuel</th>\n      <th>seller_type</th>\n      <th>transmission</th>\n      <th>owner</th>\n    </tr>\n  </thead>\n  <tbody>\n  </tbody>\n</table>\n</div>"
     },
     "metadata": {},
     "output_type": "display_data"
    },
    {
     "name": "stdout",
     "output_type": "stream",
     "text": [
      "Duplicated values rows:\n"
     ]
    },
    {
     "data": {
      "text/plain": "                                          name  year  selling_price  \\\n291                   Hyundai Grand i10 Sportz  2017         450000   \n296                           Maruti Swift VXI  2012         330000   \n370   Jaguar XE 2016-2019 2.0L Diesel Prestige  2017        2625000   \n371                              Lexus ES 300h  2019        5150000   \n372             Jaguar XF 2.0 Diesel Portfolio  2017        3200000   \n...                                        ...   ...            ...   \n7987             Renault Captur 1.5 Diesel RXT  2018        1265000   \n7988                  Maruti Ciaz Alpha Diesel  2019        1025000   \n8117                    Maruti Swift Dzire VDI  2015         625000   \n8126                           Tata Indigo CR4  2013         290000   \n8127                           Tata Indigo CR4  2013         290000   \n\n      km_driven    fuel seller_type transmission         owner  \n291       35000  Petrol  Individual       Manual   First Owner  \n296       50000  Petrol  Individual       Manual  Second Owner  \n370        9000  Diesel      Dealer    Automatic   First Owner  \n371       20000  Petrol      Dealer    Automatic   First Owner  \n372       45000  Diesel      Dealer    Automatic   First Owner  \n...         ...     ...         ...          ...           ...  \n7987      12000  Diesel  Individual       Manual   First Owner  \n7988      32000  Diesel  Individual       Manual   First Owner  \n8117      50000  Diesel  Individual       Manual   First Owner  \n8126      25000  Diesel  Individual       Manual   First Owner  \n8127      25000  Diesel  Individual       Manual   First Owner  \n\n[1203 rows x 8 columns]",
      "text/html": "<div>\n<style scoped>\n    .dataframe tbody tr th:only-of-type {\n        vertical-align: middle;\n    }\n\n    .dataframe tbody tr th {\n        vertical-align: top;\n    }\n\n    .dataframe thead th {\n        text-align: right;\n    }\n</style>\n<table border=\"1\" class=\"dataframe\">\n  <thead>\n    <tr style=\"text-align: right;\">\n      <th></th>\n      <th>name</th>\n      <th>year</th>\n      <th>selling_price</th>\n      <th>km_driven</th>\n      <th>fuel</th>\n      <th>seller_type</th>\n      <th>transmission</th>\n      <th>owner</th>\n    </tr>\n  </thead>\n  <tbody>\n    <tr>\n      <th>291</th>\n      <td>Hyundai Grand i10 Sportz</td>\n      <td>2017</td>\n      <td>450000</td>\n      <td>35000</td>\n      <td>Petrol</td>\n      <td>Individual</td>\n      <td>Manual</td>\n      <td>First Owner</td>\n    </tr>\n    <tr>\n      <th>296</th>\n      <td>Maruti Swift VXI</td>\n      <td>2012</td>\n      <td>330000</td>\n      <td>50000</td>\n      <td>Petrol</td>\n      <td>Individual</td>\n      <td>Manual</td>\n      <td>Second Owner</td>\n    </tr>\n    <tr>\n      <th>370</th>\n      <td>Jaguar XE 2016-2019 2.0L Diesel Prestige</td>\n      <td>2017</td>\n      <td>2625000</td>\n      <td>9000</td>\n      <td>Diesel</td>\n      <td>Dealer</td>\n      <td>Automatic</td>\n      <td>First Owner</td>\n    </tr>\n    <tr>\n      <th>371</th>\n      <td>Lexus ES 300h</td>\n      <td>2019</td>\n      <td>5150000</td>\n      <td>20000</td>\n      <td>Petrol</td>\n      <td>Dealer</td>\n      <td>Automatic</td>\n      <td>First Owner</td>\n    </tr>\n    <tr>\n      <th>372</th>\n      <td>Jaguar XF 2.0 Diesel Portfolio</td>\n      <td>2017</td>\n      <td>3200000</td>\n      <td>45000</td>\n      <td>Diesel</td>\n      <td>Dealer</td>\n      <td>Automatic</td>\n      <td>First Owner</td>\n    </tr>\n    <tr>\n      <th>...</th>\n      <td>...</td>\n      <td>...</td>\n      <td>...</td>\n      <td>...</td>\n      <td>...</td>\n      <td>...</td>\n      <td>...</td>\n      <td>...</td>\n    </tr>\n    <tr>\n      <th>7987</th>\n      <td>Renault Captur 1.5 Diesel RXT</td>\n      <td>2018</td>\n      <td>1265000</td>\n      <td>12000</td>\n      <td>Diesel</td>\n      <td>Individual</td>\n      <td>Manual</td>\n      <td>First Owner</td>\n    </tr>\n    <tr>\n      <th>7988</th>\n      <td>Maruti Ciaz Alpha Diesel</td>\n      <td>2019</td>\n      <td>1025000</td>\n      <td>32000</td>\n      <td>Diesel</td>\n      <td>Individual</td>\n      <td>Manual</td>\n      <td>First Owner</td>\n    </tr>\n    <tr>\n      <th>8117</th>\n      <td>Maruti Swift Dzire VDI</td>\n      <td>2015</td>\n      <td>625000</td>\n      <td>50000</td>\n      <td>Diesel</td>\n      <td>Individual</td>\n      <td>Manual</td>\n      <td>First Owner</td>\n    </tr>\n    <tr>\n      <th>8126</th>\n      <td>Tata Indigo CR4</td>\n      <td>2013</td>\n      <td>290000</td>\n      <td>25000</td>\n      <td>Diesel</td>\n      <td>Individual</td>\n      <td>Manual</td>\n      <td>First Owner</td>\n    </tr>\n    <tr>\n      <th>8127</th>\n      <td>Tata Indigo CR4</td>\n      <td>2013</td>\n      <td>290000</td>\n      <td>25000</td>\n      <td>Diesel</td>\n      <td>Individual</td>\n      <td>Manual</td>\n      <td>First Owner</td>\n    </tr>\n  </tbody>\n</table>\n<p>1203 rows × 8 columns</p>\n</div>"
     },
     "metadata": {},
     "output_type": "display_data"
    }
   ],
   "source": [
    "describe_data(clean_car_price)"
   ],
   "metadata": {
    "collapsed": false,
    "ExecuteTime": {
     "end_time": "2024-11-09T20:59:36.995871600Z",
     "start_time": "2024-11-09T20:59:36.813876500Z"
    }
   },
   "id": "1ad4dc45d14dea7",
   "execution_count": 22
  }
 ],
 "metadata": {
  "kernelspec": {
   "display_name": "Python 3",
   "language": "python",
   "name": "python3"
  },
  "language_info": {
   "codemirror_mode": {
    "name": "ipython",
    "version": 2
   },
   "file_extension": ".py",
   "mimetype": "text/x-python",
   "name": "python",
   "nbconvert_exporter": "python",
   "pygments_lexer": "ipython2",
   "version": "2.7.6"
  }
 },
 "nbformat": 4,
 "nbformat_minor": 5
}
