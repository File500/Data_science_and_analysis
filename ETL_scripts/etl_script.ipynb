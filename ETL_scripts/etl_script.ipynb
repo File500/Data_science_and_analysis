{
 "cells": [
  {
   "cell_type": "code",
   "execution_count": 1,
   "id": "initial_id",
   "metadata": {
    "collapsed": true,
    "ExecuteTime": {
     "end_time": "2024-11-08T12:36:49.561899700Z",
     "start_time": "2024-11-08T12:36:49.555408600Z"
    }
   },
   "outputs": [],
   "source": [
    "import numpy as np\n",
    "import scipy as sc\n",
    "from matplotlib import pyplot as plt\n",
    "import pandas as pd\n",
    "import seaborn as sb"
   ]
  },
  {
   "cell_type": "code",
   "outputs": [],
   "source": [
    "#helpper functions\n",
    "\n",
    "def load_data(path: str) -> pd.DataFrame:\n",
    "    return pd.read_csv(path)\n",
    "\n",
    "def describe_data(df: pd.DataFrame) -> pd.DataFrame:\n",
    "    print(df.describe(),\"\\n\")\n",
    "    print(df.info(),\"\\n\")\n",
    "    print('Duplicated values count:\\n',df.duplicated().sum(),\"\\n\")\n",
    "    print('Not a number values count:\\n',df.isna().sum(),\"\\n\")\n",
    "    print('Missing values rows:')\n",
    "    df_with_nan = df[df.isna().any(axis=1)]\n",
    "    display(df_with_nan)\n",
    "    print('Duplicated values rows:')\n",
    "    duplicated_indexes = df.duplicated().where(df.duplicated()==True).dropna().index.tolist()\n",
    "    display(df.loc[duplicated_indexes])"
   ],
   "metadata": {
    "collapsed": false,
    "ExecuteTime": {
     "end_time": "2024-11-08T12:36:49.569279Z",
     "start_time": "2024-11-08T12:36:49.560902300Z"
    }
   },
   "id": "cbcef7a98a277da0",
   "execution_count": 2
  },
  {
   "cell_type": "code",
   "outputs": [],
   "source": [
    "car_ownership = load_data('data/car_ownership.csv')\n",
    "car_price = load_data('data/car_price_and_metrics.csv')\n",
    "car_sales = load_data('data/car_sales.csv')"
   ],
   "metadata": {
    "collapsed": false,
    "ExecuteTime": {
     "end_time": "2024-11-08T12:36:49.650616100Z",
     "start_time": "2024-11-08T12:36:49.569279Z"
    }
   },
   "id": "3dcfb3bb93dafcb5",
   "execution_count": 3
  },
  {
   "cell_type": "code",
   "outputs": [
    {
     "name": "stdout",
     "output_type": "stream",
     "text": [
      "       Credit Score\n",
      "count    460.000000\n",
      "mean     702.969565\n",
      "std       69.232323\n",
      "min      500.000000\n",
      "25%      650.000000\n",
      "50%      700.000000\n",
      "75%      750.000000\n",
      "max      900.000000 \n",
      "\n",
      "<class 'pandas.core.frame.DataFrame'>\n",
      "RangeIndex: 500 entries, 0 to 499\n",
      "Data columns (total 8 columns):\n",
      " #   Column               Non-Null Count  Dtype  \n",
      "---  ------               --------------  -----  \n",
      " 0   Occupation           490 non-null    object \n",
      " 1   Monthly Income       487 non-null    object \n",
      " 2   Credit Score         460 non-null    float64\n",
      " 3   Years of Employment  457 non-null    object \n",
      " 4   Finance Status       477 non-null    object \n",
      " 5   Finance History      472 non-null    object \n",
      " 6   Car                  480 non-null    object \n",
      " 7   Number of Children   375 non-null    object \n",
      "dtypes: float64(1), object(7)\n",
      "memory usage: 31.4+ KB\n",
      "None \n",
      "\n",
      "Duplicated values count:\n",
      " 73 \n",
      "\n",
      "Not a number values count:\n",
      " Occupation              10\n",
      "Monthly Income          13\n",
      "Credit Score            40\n",
      "Years of Employment     43\n",
      "Finance Status          23\n",
      "Finance History         28\n",
      "Car                     20\n",
      "Number of Children     125\n",
      "dtype: int64 \n",
      "\n",
      "Missing values rows:\n"
     ]
    },
    {
     "data": {
      "text/plain": "            Occupation Monthly Income  Credit Score Years of Employment  \\\n6              Teacher          35000         700.0                   8   \n7                Nurse          20000         600.0                   3   \n8          Businessman         120000         850.0                  20   \n9               Doctor          90000         800.0                  10   \n10                 NaN            NaN           NaN                 NaN   \n..                 ...            ...           ...                 ...   \n476         Pharmacist        $9,000          780.0                 NaN   \n477             Writer        $3,500          650.0                 NaN   \n478                NaN            NaN           NaN                 NaN   \n483  Real Estate Agent        $5,500          690.0             4 years   \n489      Web Developer        $5,800          690.0             4 years   \n\n    Finance Status            Finance History  Car Number of Children  \n6             Fair  Late payment 3 months ago  Yes                NaN  \n7             Poor   Late payment 1 month ago   No                NaN  \n8        Excellent                  No issues  Yes                NaN  \n9             Good                  No issues  Yes                NaN  \n10             NaN                        NaN  NaN                NaN  \n..             ...                        ...  ...                ...  \n476         Stable      No significant issues  Yes                  1  \n477            NaN                        NaN  NaN                NaN  \n478            NaN                        NaN  NaN                NaN  \n483         Stable                        NaN  Yes                  0  \n489         Stable                        NaN   No                  1  \n\n[185 rows x 8 columns]",
      "text/html": "<div>\n<style scoped>\n    .dataframe tbody tr th:only-of-type {\n        vertical-align: middle;\n    }\n\n    .dataframe tbody tr th {\n        vertical-align: top;\n    }\n\n    .dataframe thead th {\n        text-align: right;\n    }\n</style>\n<table border=\"1\" class=\"dataframe\">\n  <thead>\n    <tr style=\"text-align: right;\">\n      <th></th>\n      <th>Occupation</th>\n      <th>Monthly Income</th>\n      <th>Credit Score</th>\n      <th>Years of Employment</th>\n      <th>Finance Status</th>\n      <th>Finance History</th>\n      <th>Car</th>\n      <th>Number of Children</th>\n    </tr>\n  </thead>\n  <tbody>\n    <tr>\n      <th>6</th>\n      <td>Teacher</td>\n      <td>35000</td>\n      <td>700.0</td>\n      <td>8</td>\n      <td>Fair</td>\n      <td>Late payment 3 months ago</td>\n      <td>Yes</td>\n      <td>NaN</td>\n    </tr>\n    <tr>\n      <th>7</th>\n      <td>Nurse</td>\n      <td>20000</td>\n      <td>600.0</td>\n      <td>3</td>\n      <td>Poor</td>\n      <td>Late payment 1 month ago</td>\n      <td>No</td>\n      <td>NaN</td>\n    </tr>\n    <tr>\n      <th>8</th>\n      <td>Businessman</td>\n      <td>120000</td>\n      <td>850.0</td>\n      <td>20</td>\n      <td>Excellent</td>\n      <td>No issues</td>\n      <td>Yes</td>\n      <td>NaN</td>\n    </tr>\n    <tr>\n      <th>9</th>\n      <td>Doctor</td>\n      <td>90000</td>\n      <td>800.0</td>\n      <td>10</td>\n      <td>Good</td>\n      <td>No issues</td>\n      <td>Yes</td>\n      <td>NaN</td>\n    </tr>\n    <tr>\n      <th>10</th>\n      <td>NaN</td>\n      <td>NaN</td>\n      <td>NaN</td>\n      <td>NaN</td>\n      <td>NaN</td>\n      <td>NaN</td>\n      <td>NaN</td>\n      <td>NaN</td>\n    </tr>\n    <tr>\n      <th>...</th>\n      <td>...</td>\n      <td>...</td>\n      <td>...</td>\n      <td>...</td>\n      <td>...</td>\n      <td>...</td>\n      <td>...</td>\n      <td>...</td>\n    </tr>\n    <tr>\n      <th>476</th>\n      <td>Pharmacist</td>\n      <td>$9,000</td>\n      <td>780.0</td>\n      <td>NaN</td>\n      <td>Stable</td>\n      <td>No significant issues</td>\n      <td>Yes</td>\n      <td>1</td>\n    </tr>\n    <tr>\n      <th>477</th>\n      <td>Writer</td>\n      <td>$3,500</td>\n      <td>650.0</td>\n      <td>NaN</td>\n      <td>NaN</td>\n      <td>NaN</td>\n      <td>NaN</td>\n      <td>NaN</td>\n    </tr>\n    <tr>\n      <th>478</th>\n      <td>NaN</td>\n      <td>NaN</td>\n      <td>NaN</td>\n      <td>NaN</td>\n      <td>NaN</td>\n      <td>NaN</td>\n      <td>NaN</td>\n      <td>NaN</td>\n    </tr>\n    <tr>\n      <th>483</th>\n      <td>Real Estate Agent</td>\n      <td>$5,500</td>\n      <td>690.0</td>\n      <td>4 years</td>\n      <td>Stable</td>\n      <td>NaN</td>\n      <td>Yes</td>\n      <td>0</td>\n    </tr>\n    <tr>\n      <th>489</th>\n      <td>Web Developer</td>\n      <td>$5,800</td>\n      <td>690.0</td>\n      <td>4 years</td>\n      <td>Stable</td>\n      <td>NaN</td>\n      <td>No</td>\n      <td>1</td>\n    </tr>\n  </tbody>\n</table>\n<p>185 rows × 8 columns</p>\n</div>"
     },
     "metadata": {},
     "output_type": "display_data"
    },
    {
     "name": "stdout",
     "output_type": "stream",
     "text": [
      "Duplicated values rows:\n"
     ]
    },
    {
     "data": {
      "text/plain": "            Occupation Monthly Income  Credit Score Years of Employment  \\\n72                 NaN            NaN           NaN                 NaN   \n93                 NaN            NaN           NaN                 NaN   \n134                NaN            NaN           NaN                 NaN   \n196                NaN            NaN           NaN                 NaN   \n210    Insurance Agent        $4,500          690.0             4 years   \n..                 ...            ...           ...                 ...   \n456                NaN            NaN           NaN                 NaN   \n478                NaN            NaN           NaN                 NaN   \n481      Sales Manager        $7,500          720.0             6 years   \n496               Chef        $4,500          680.0             4 years   \n497  Interior Designer        $5,500          690.0             4 years   \n\n    Finance Status        Finance History  Car Number of Children  \n72             NaN                    NaN  NaN                NaN  \n93             NaN                    NaN  NaN                NaN  \n134            NaN                    NaN  NaN                NaN  \n196            NaN                    NaN  NaN                NaN  \n210         Stable  No significant issues  Yes                  1  \n..             ...                    ...  ...                ...  \n456            NaN                    NaN  NaN                NaN  \n478            NaN                    NaN  NaN                NaN  \n481         Stable  No significant issues  Yes                  2  \n496         Stable  No significant issues  Yes                  0  \n497         Stable  No significant issues  Yes                  1  \n\n[73 rows x 8 columns]",
      "text/html": "<div>\n<style scoped>\n    .dataframe tbody tr th:only-of-type {\n        vertical-align: middle;\n    }\n\n    .dataframe tbody tr th {\n        vertical-align: top;\n    }\n\n    .dataframe thead th {\n        text-align: right;\n    }\n</style>\n<table border=\"1\" class=\"dataframe\">\n  <thead>\n    <tr style=\"text-align: right;\">\n      <th></th>\n      <th>Occupation</th>\n      <th>Monthly Income</th>\n      <th>Credit Score</th>\n      <th>Years of Employment</th>\n      <th>Finance Status</th>\n      <th>Finance History</th>\n      <th>Car</th>\n      <th>Number of Children</th>\n    </tr>\n  </thead>\n  <tbody>\n    <tr>\n      <th>72</th>\n      <td>NaN</td>\n      <td>NaN</td>\n      <td>NaN</td>\n      <td>NaN</td>\n      <td>NaN</td>\n      <td>NaN</td>\n      <td>NaN</td>\n      <td>NaN</td>\n    </tr>\n    <tr>\n      <th>93</th>\n      <td>NaN</td>\n      <td>NaN</td>\n      <td>NaN</td>\n      <td>NaN</td>\n      <td>NaN</td>\n      <td>NaN</td>\n      <td>NaN</td>\n      <td>NaN</td>\n    </tr>\n    <tr>\n      <th>134</th>\n      <td>NaN</td>\n      <td>NaN</td>\n      <td>NaN</td>\n      <td>NaN</td>\n      <td>NaN</td>\n      <td>NaN</td>\n      <td>NaN</td>\n      <td>NaN</td>\n    </tr>\n    <tr>\n      <th>196</th>\n      <td>NaN</td>\n      <td>NaN</td>\n      <td>NaN</td>\n      <td>NaN</td>\n      <td>NaN</td>\n      <td>NaN</td>\n      <td>NaN</td>\n      <td>NaN</td>\n    </tr>\n    <tr>\n      <th>210</th>\n      <td>Insurance Agent</td>\n      <td>$4,500</td>\n      <td>690.0</td>\n      <td>4 years</td>\n      <td>Stable</td>\n      <td>No significant issues</td>\n      <td>Yes</td>\n      <td>1</td>\n    </tr>\n    <tr>\n      <th>...</th>\n      <td>...</td>\n      <td>...</td>\n      <td>...</td>\n      <td>...</td>\n      <td>...</td>\n      <td>...</td>\n      <td>...</td>\n      <td>...</td>\n    </tr>\n    <tr>\n      <th>456</th>\n      <td>NaN</td>\n      <td>NaN</td>\n      <td>NaN</td>\n      <td>NaN</td>\n      <td>NaN</td>\n      <td>NaN</td>\n      <td>NaN</td>\n      <td>NaN</td>\n    </tr>\n    <tr>\n      <th>478</th>\n      <td>NaN</td>\n      <td>NaN</td>\n      <td>NaN</td>\n      <td>NaN</td>\n      <td>NaN</td>\n      <td>NaN</td>\n      <td>NaN</td>\n      <td>NaN</td>\n    </tr>\n    <tr>\n      <th>481</th>\n      <td>Sales Manager</td>\n      <td>$7,500</td>\n      <td>720.0</td>\n      <td>6 years</td>\n      <td>Stable</td>\n      <td>No significant issues</td>\n      <td>Yes</td>\n      <td>2</td>\n    </tr>\n    <tr>\n      <th>496</th>\n      <td>Chef</td>\n      <td>$4,500</td>\n      <td>680.0</td>\n      <td>4 years</td>\n      <td>Stable</td>\n      <td>No significant issues</td>\n      <td>Yes</td>\n      <td>0</td>\n    </tr>\n    <tr>\n      <th>497</th>\n      <td>Interior Designer</td>\n      <td>$5,500</td>\n      <td>690.0</td>\n      <td>4 years</td>\n      <td>Stable</td>\n      <td>No significant issues</td>\n      <td>Yes</td>\n      <td>1</td>\n    </tr>\n  </tbody>\n</table>\n<p>73 rows × 8 columns</p>\n</div>"
     },
     "metadata": {},
     "output_type": "display_data"
    }
   ],
   "source": [
    "describe_data(car_ownership)"
   ],
   "metadata": {
    "collapsed": false,
    "ExecuteTime": {
     "end_time": "2024-11-08T12:36:49.685782700Z",
     "start_time": "2024-11-08T12:36:49.656599400Z"
    }
   },
   "id": "c3232278bb573c06",
   "execution_count": 4
  },
  {
   "cell_type": "code",
   "outputs": [
    {
     "name": "stdout",
     "output_type": "stream",
     "text": [
      "              year  selling_price     km_driven  mileage(km/ltr/kg)  \\\n",
      "count  8128.000000   8.128000e+03  8.128000e+03         7907.000000   \n",
      "mean   2013.804011   6.382718e+05  6.981951e+04           19.418783   \n",
      "std       4.044249   8.062534e+05  5.655055e+04            4.037145   \n",
      "min    1983.000000   2.999900e+04  1.000000e+00            0.000000   \n",
      "25%    2011.000000   2.549990e+05  3.500000e+04           16.780000   \n",
      "50%    2015.000000   4.500000e+05  6.000000e+04           19.300000   \n",
      "75%    2017.000000   6.750000e+05  9.800000e+04           22.320000   \n",
      "max    2020.000000   1.000000e+07  2.360457e+06           42.000000   \n",
      "\n",
      "            engine        seats  \n",
      "count  7907.000000  7907.000000  \n",
      "mean   1458.625016     5.416719  \n",
      "std     503.916303     0.959588  \n",
      "min     624.000000     2.000000  \n",
      "25%    1197.000000     5.000000  \n",
      "50%    1248.000000     5.000000  \n",
      "75%    1582.000000     5.000000  \n",
      "max    3604.000000    14.000000   \n",
      "\n",
      "<class 'pandas.core.frame.DataFrame'>\n",
      "RangeIndex: 8128 entries, 0 to 8127\n",
      "Data columns (total 12 columns):\n",
      " #   Column              Non-Null Count  Dtype  \n",
      "---  ------              --------------  -----  \n",
      " 0   name                8128 non-null   object \n",
      " 1   year                8128 non-null   int64  \n",
      " 2   selling_price       8128 non-null   int64  \n",
      " 3   km_driven           8128 non-null   int64  \n",
      " 4   fuel                8128 non-null   object \n",
      " 5   seller_type         8128 non-null   object \n",
      " 6   transmission        8128 non-null   object \n",
      " 7   owner               8128 non-null   object \n",
      " 8   mileage(km/ltr/kg)  7907 non-null   float64\n",
      " 9   engine              7907 non-null   float64\n",
      " 10  max_power           7913 non-null   object \n",
      " 11  seats               7907 non-null   float64\n",
      "dtypes: float64(3), int64(3), object(6)\n",
      "memory usage: 762.1+ KB\n",
      "None \n",
      "\n",
      "Duplicated values count:\n",
      " 1202 \n",
      "\n",
      "Not a number values count:\n",
      " name                    0\n",
      "year                    0\n",
      "selling_price           0\n",
      "km_driven               0\n",
      "fuel                    0\n",
      "seller_type             0\n",
      "transmission            0\n",
      "owner                   0\n",
      "mileage(km/ltr/kg)    221\n",
      "engine                221\n",
      "max_power             215\n",
      "seats                 221\n",
      "dtype: int64 \n",
      "\n",
      "Missing values rows:\n"
     ]
    },
    {
     "data": {
      "text/plain": "                                      name  year  selling_price  km_driven  \\\n13                    Maruti Swift 1.3 VXi  2007         200000      80000   \n31                      Fiat Palio 1.2 ELX  2003          70000      50000   \n78                         Tata Indica DLS  2003          50000      70000   \n87             Maruti Swift VDI BSIV W ABS  2015         475000      78000   \n119                  Maruti Swift VDI BSIV  2010         300000     120000   \n...                                    ...   ...            ...        ...   \n7846                Toyota Qualis Fleet A3  2000         200000     100000   \n7996             Hyundai Santro LS zipPlus  2000         140000      50000   \n8009  Hyundai Santro Xing XS eRLX Euro III  2006         145000      80000   \n8068             Ford Figo Aspire Facelift  2017         580000     165000   \n8103                  Maruti Swift 1.3 VXi  2006         130000     100000   \n\n        fuel seller_type transmission         owner  mileage(km/ltr/kg)  \\\n13    Petrol  Individual       Manual  Second Owner                 NaN   \n31    Petrol  Individual       Manual  Second Owner                 NaN   \n78    Diesel  Individual       Manual   First Owner                 NaN   \n87    Diesel      Dealer       Manual   First Owner                 NaN   \n119   Diesel  Individual       Manual  Second Owner                 NaN   \n...      ...         ...          ...           ...                 ...   \n7846  Diesel  Individual       Manual   First Owner                 NaN   \n7996  Petrol  Individual       Manual  Second Owner                 NaN   \n8009  Petrol  Individual       Manual  Second Owner                 NaN   \n8068  Diesel  Individual       Manual   First Owner                 NaN   \n8103  Petrol  Individual       Manual  Second Owner                 NaN   \n\n      engine max_power  seats  \n13       NaN       NaN    NaN  \n31       NaN       NaN    NaN  \n78       NaN       NaN    NaN  \n87       NaN       NaN    NaN  \n119      NaN       NaN    NaN  \n...      ...       ...    ...  \n7846     NaN       NaN    NaN  \n7996     NaN       NaN    NaN  \n8009     NaN       NaN    NaN  \n8068     NaN       NaN    NaN  \n8103     NaN       NaN    NaN  \n\n[221 rows x 12 columns]",
      "text/html": "<div>\n<style scoped>\n    .dataframe tbody tr th:only-of-type {\n        vertical-align: middle;\n    }\n\n    .dataframe tbody tr th {\n        vertical-align: top;\n    }\n\n    .dataframe thead th {\n        text-align: right;\n    }\n</style>\n<table border=\"1\" class=\"dataframe\">\n  <thead>\n    <tr style=\"text-align: right;\">\n      <th></th>\n      <th>name</th>\n      <th>year</th>\n      <th>selling_price</th>\n      <th>km_driven</th>\n      <th>fuel</th>\n      <th>seller_type</th>\n      <th>transmission</th>\n      <th>owner</th>\n      <th>mileage(km/ltr/kg)</th>\n      <th>engine</th>\n      <th>max_power</th>\n      <th>seats</th>\n    </tr>\n  </thead>\n  <tbody>\n    <tr>\n      <th>13</th>\n      <td>Maruti Swift 1.3 VXi</td>\n      <td>2007</td>\n      <td>200000</td>\n      <td>80000</td>\n      <td>Petrol</td>\n      <td>Individual</td>\n      <td>Manual</td>\n      <td>Second Owner</td>\n      <td>NaN</td>\n      <td>NaN</td>\n      <td>NaN</td>\n      <td>NaN</td>\n    </tr>\n    <tr>\n      <th>31</th>\n      <td>Fiat Palio 1.2 ELX</td>\n      <td>2003</td>\n      <td>70000</td>\n      <td>50000</td>\n      <td>Petrol</td>\n      <td>Individual</td>\n      <td>Manual</td>\n      <td>Second Owner</td>\n      <td>NaN</td>\n      <td>NaN</td>\n      <td>NaN</td>\n      <td>NaN</td>\n    </tr>\n    <tr>\n      <th>78</th>\n      <td>Tata Indica DLS</td>\n      <td>2003</td>\n      <td>50000</td>\n      <td>70000</td>\n      <td>Diesel</td>\n      <td>Individual</td>\n      <td>Manual</td>\n      <td>First Owner</td>\n      <td>NaN</td>\n      <td>NaN</td>\n      <td>NaN</td>\n      <td>NaN</td>\n    </tr>\n    <tr>\n      <th>87</th>\n      <td>Maruti Swift VDI BSIV W ABS</td>\n      <td>2015</td>\n      <td>475000</td>\n      <td>78000</td>\n      <td>Diesel</td>\n      <td>Dealer</td>\n      <td>Manual</td>\n      <td>First Owner</td>\n      <td>NaN</td>\n      <td>NaN</td>\n      <td>NaN</td>\n      <td>NaN</td>\n    </tr>\n    <tr>\n      <th>119</th>\n      <td>Maruti Swift VDI BSIV</td>\n      <td>2010</td>\n      <td>300000</td>\n      <td>120000</td>\n      <td>Diesel</td>\n      <td>Individual</td>\n      <td>Manual</td>\n      <td>Second Owner</td>\n      <td>NaN</td>\n      <td>NaN</td>\n      <td>NaN</td>\n      <td>NaN</td>\n    </tr>\n    <tr>\n      <th>...</th>\n      <td>...</td>\n      <td>...</td>\n      <td>...</td>\n      <td>...</td>\n      <td>...</td>\n      <td>...</td>\n      <td>...</td>\n      <td>...</td>\n      <td>...</td>\n      <td>...</td>\n      <td>...</td>\n      <td>...</td>\n    </tr>\n    <tr>\n      <th>7846</th>\n      <td>Toyota Qualis Fleet A3</td>\n      <td>2000</td>\n      <td>200000</td>\n      <td>100000</td>\n      <td>Diesel</td>\n      <td>Individual</td>\n      <td>Manual</td>\n      <td>First Owner</td>\n      <td>NaN</td>\n      <td>NaN</td>\n      <td>NaN</td>\n      <td>NaN</td>\n    </tr>\n    <tr>\n      <th>7996</th>\n      <td>Hyundai Santro LS zipPlus</td>\n      <td>2000</td>\n      <td>140000</td>\n      <td>50000</td>\n      <td>Petrol</td>\n      <td>Individual</td>\n      <td>Manual</td>\n      <td>Second Owner</td>\n      <td>NaN</td>\n      <td>NaN</td>\n      <td>NaN</td>\n      <td>NaN</td>\n    </tr>\n    <tr>\n      <th>8009</th>\n      <td>Hyundai Santro Xing XS eRLX Euro III</td>\n      <td>2006</td>\n      <td>145000</td>\n      <td>80000</td>\n      <td>Petrol</td>\n      <td>Individual</td>\n      <td>Manual</td>\n      <td>Second Owner</td>\n      <td>NaN</td>\n      <td>NaN</td>\n      <td>NaN</td>\n      <td>NaN</td>\n    </tr>\n    <tr>\n      <th>8068</th>\n      <td>Ford Figo Aspire Facelift</td>\n      <td>2017</td>\n      <td>580000</td>\n      <td>165000</td>\n      <td>Diesel</td>\n      <td>Individual</td>\n      <td>Manual</td>\n      <td>First Owner</td>\n      <td>NaN</td>\n      <td>NaN</td>\n      <td>NaN</td>\n      <td>NaN</td>\n    </tr>\n    <tr>\n      <th>8103</th>\n      <td>Maruti Swift 1.3 VXi</td>\n      <td>2006</td>\n      <td>130000</td>\n      <td>100000</td>\n      <td>Petrol</td>\n      <td>Individual</td>\n      <td>Manual</td>\n      <td>Second Owner</td>\n      <td>NaN</td>\n      <td>NaN</td>\n      <td>NaN</td>\n      <td>NaN</td>\n    </tr>\n  </tbody>\n</table>\n<p>221 rows × 12 columns</p>\n</div>"
     },
     "metadata": {},
     "output_type": "display_data"
    },
    {
     "name": "stdout",
     "output_type": "stream",
     "text": [
      "Duplicated values rows:\n"
     ]
    },
    {
     "data": {
      "text/plain": "                                          name  year  selling_price  \\\n291                   Hyundai Grand i10 Sportz  2017         450000   \n296                           Maruti Swift VXI  2012         330000   \n370   Jaguar XE 2016-2019 2.0L Diesel Prestige  2017        2625000   \n371                              Lexus ES 300h  2019        5150000   \n372             Jaguar XF 2.0 Diesel Portfolio  2017        3200000   \n...                                        ...   ...            ...   \n7987             Renault Captur 1.5 Diesel RXT  2018        1265000   \n7988                  Maruti Ciaz Alpha Diesel  2019        1025000   \n8117                    Maruti Swift Dzire VDI  2015         625000   \n8126                           Tata Indigo CR4  2013         290000   \n8127                           Tata Indigo CR4  2013         290000   \n\n      km_driven    fuel seller_type transmission         owner  \\\n291       35000  Petrol  Individual       Manual   First Owner   \n296       50000  Petrol  Individual       Manual  Second Owner   \n370        9000  Diesel      Dealer    Automatic   First Owner   \n371       20000  Petrol      Dealer    Automatic   First Owner   \n372       45000  Diesel      Dealer    Automatic   First Owner   \n...         ...     ...         ...          ...           ...   \n7987      12000  Diesel  Individual       Manual   First Owner   \n7988      32000  Diesel  Individual       Manual   First Owner   \n8117      50000  Diesel  Individual       Manual   First Owner   \n8126      25000  Diesel  Individual       Manual   First Owner   \n8127      25000  Diesel  Individual       Manual   First Owner   \n\n      mileage(km/ltr/kg)  engine max_power  seats  \n291                18.90  1197.0        82    5.0  \n296                18.60  1197.0      85.8    5.0  \n370                13.60  1999.0       177    5.0  \n371                22.37  2487.0    214.56    5.0  \n372                19.33  1999.0       177    5.0  \n...                  ...     ...       ...    ...  \n7987               20.37  1461.0    108.45    5.0  \n7988               28.09  1248.0      88.5    5.0  \n8117               26.59  1248.0        74    5.0  \n8126               23.57  1396.0        70    5.0  \n8127               23.57  1396.0        70    5.0  \n\n[1202 rows x 12 columns]",
      "text/html": "<div>\n<style scoped>\n    .dataframe tbody tr th:only-of-type {\n        vertical-align: middle;\n    }\n\n    .dataframe tbody tr th {\n        vertical-align: top;\n    }\n\n    .dataframe thead th {\n        text-align: right;\n    }\n</style>\n<table border=\"1\" class=\"dataframe\">\n  <thead>\n    <tr style=\"text-align: right;\">\n      <th></th>\n      <th>name</th>\n      <th>year</th>\n      <th>selling_price</th>\n      <th>km_driven</th>\n      <th>fuel</th>\n      <th>seller_type</th>\n      <th>transmission</th>\n      <th>owner</th>\n      <th>mileage(km/ltr/kg)</th>\n      <th>engine</th>\n      <th>max_power</th>\n      <th>seats</th>\n    </tr>\n  </thead>\n  <tbody>\n    <tr>\n      <th>291</th>\n      <td>Hyundai Grand i10 Sportz</td>\n      <td>2017</td>\n      <td>450000</td>\n      <td>35000</td>\n      <td>Petrol</td>\n      <td>Individual</td>\n      <td>Manual</td>\n      <td>First Owner</td>\n      <td>18.90</td>\n      <td>1197.0</td>\n      <td>82</td>\n      <td>5.0</td>\n    </tr>\n    <tr>\n      <th>296</th>\n      <td>Maruti Swift VXI</td>\n      <td>2012</td>\n      <td>330000</td>\n      <td>50000</td>\n      <td>Petrol</td>\n      <td>Individual</td>\n      <td>Manual</td>\n      <td>Second Owner</td>\n      <td>18.60</td>\n      <td>1197.0</td>\n      <td>85.8</td>\n      <td>5.0</td>\n    </tr>\n    <tr>\n      <th>370</th>\n      <td>Jaguar XE 2016-2019 2.0L Diesel Prestige</td>\n      <td>2017</td>\n      <td>2625000</td>\n      <td>9000</td>\n      <td>Diesel</td>\n      <td>Dealer</td>\n      <td>Automatic</td>\n      <td>First Owner</td>\n      <td>13.60</td>\n      <td>1999.0</td>\n      <td>177</td>\n      <td>5.0</td>\n    </tr>\n    <tr>\n      <th>371</th>\n      <td>Lexus ES 300h</td>\n      <td>2019</td>\n      <td>5150000</td>\n      <td>20000</td>\n      <td>Petrol</td>\n      <td>Dealer</td>\n      <td>Automatic</td>\n      <td>First Owner</td>\n      <td>22.37</td>\n      <td>2487.0</td>\n      <td>214.56</td>\n      <td>5.0</td>\n    </tr>\n    <tr>\n      <th>372</th>\n      <td>Jaguar XF 2.0 Diesel Portfolio</td>\n      <td>2017</td>\n      <td>3200000</td>\n      <td>45000</td>\n      <td>Diesel</td>\n      <td>Dealer</td>\n      <td>Automatic</td>\n      <td>First Owner</td>\n      <td>19.33</td>\n      <td>1999.0</td>\n      <td>177</td>\n      <td>5.0</td>\n    </tr>\n    <tr>\n      <th>...</th>\n      <td>...</td>\n      <td>...</td>\n      <td>...</td>\n      <td>...</td>\n      <td>...</td>\n      <td>...</td>\n      <td>...</td>\n      <td>...</td>\n      <td>...</td>\n      <td>...</td>\n      <td>...</td>\n      <td>...</td>\n    </tr>\n    <tr>\n      <th>7987</th>\n      <td>Renault Captur 1.5 Diesel RXT</td>\n      <td>2018</td>\n      <td>1265000</td>\n      <td>12000</td>\n      <td>Diesel</td>\n      <td>Individual</td>\n      <td>Manual</td>\n      <td>First Owner</td>\n      <td>20.37</td>\n      <td>1461.0</td>\n      <td>108.45</td>\n      <td>5.0</td>\n    </tr>\n    <tr>\n      <th>7988</th>\n      <td>Maruti Ciaz Alpha Diesel</td>\n      <td>2019</td>\n      <td>1025000</td>\n      <td>32000</td>\n      <td>Diesel</td>\n      <td>Individual</td>\n      <td>Manual</td>\n      <td>First Owner</td>\n      <td>28.09</td>\n      <td>1248.0</td>\n      <td>88.5</td>\n      <td>5.0</td>\n    </tr>\n    <tr>\n      <th>8117</th>\n      <td>Maruti Swift Dzire VDI</td>\n      <td>2015</td>\n      <td>625000</td>\n      <td>50000</td>\n      <td>Diesel</td>\n      <td>Individual</td>\n      <td>Manual</td>\n      <td>First Owner</td>\n      <td>26.59</td>\n      <td>1248.0</td>\n      <td>74</td>\n      <td>5.0</td>\n    </tr>\n    <tr>\n      <th>8126</th>\n      <td>Tata Indigo CR4</td>\n      <td>2013</td>\n      <td>290000</td>\n      <td>25000</td>\n      <td>Diesel</td>\n      <td>Individual</td>\n      <td>Manual</td>\n      <td>First Owner</td>\n      <td>23.57</td>\n      <td>1396.0</td>\n      <td>70</td>\n      <td>5.0</td>\n    </tr>\n    <tr>\n      <th>8127</th>\n      <td>Tata Indigo CR4</td>\n      <td>2013</td>\n      <td>290000</td>\n      <td>25000</td>\n      <td>Diesel</td>\n      <td>Individual</td>\n      <td>Manual</td>\n      <td>First Owner</td>\n      <td>23.57</td>\n      <td>1396.0</td>\n      <td>70</td>\n      <td>5.0</td>\n    </tr>\n  </tbody>\n</table>\n<p>1202 rows × 12 columns</p>\n</div>"
     },
     "metadata": {},
     "output_type": "display_data"
    }
   ],
   "source": [
    "describe_data(car_price)"
   ],
   "metadata": {
    "collapsed": false,
    "ExecuteTime": {
     "end_time": "2024-11-08T12:36:49.851749500Z",
     "start_time": "2024-11-08T12:36:49.686780400Z"
    }
   },
   "id": "305eae6bebf0d3f2",
   "execution_count": 5
  },
  {
   "cell_type": "code",
   "outputs": [
    {
     "name": "stdout",
     "output_type": "stream",
     "text": [
      "       Annual Income     Price ($)         Phone\n",
      "count   2.390600e+04  23906.000000  2.390600e+04\n",
      "mean    8.308403e+05  28090.247846  7.497741e+06\n",
      "std     7.200064e+05  14788.687608  8.674920e+05\n",
      "min     1.008000e+04   1200.000000  6.000101e+06\n",
      "25%     3.860000e+05  18001.000000  6.746495e+06\n",
      "50%     7.350000e+05  23000.000000  7.496198e+06\n",
      "75%     1.175750e+06  34000.000000  8.248146e+06\n",
      "max     1.120000e+07  85800.000000  8.999579e+06 \n",
      "\n",
      "<class 'pandas.core.frame.DataFrame'>\n",
      "RangeIndex: 23906 entries, 0 to 23905\n",
      "Data columns (total 16 columns):\n",
      " #   Column         Non-Null Count  Dtype \n",
      "---  ------         --------------  ----- \n",
      " 0   Car_id         23906 non-null  object\n",
      " 1   Date           23906 non-null  object\n",
      " 2   Customer Name  23905 non-null  object\n",
      " 3   Gender         23906 non-null  object\n",
      " 4   Annual Income  23906 non-null  int64 \n",
      " 5   Dealer_Name    23906 non-null  object\n",
      " 6   Company        23906 non-null  object\n",
      " 7   Model          23906 non-null  object\n",
      " 8   Engine         23906 non-null  object\n",
      " 9   Transmission   23906 non-null  object\n",
      " 10  Color          23906 non-null  object\n",
      " 11  Price ($)      23906 non-null  int64 \n",
      " 12  Dealer_No      23906 non-null  object\n",
      " 13  Body Style     23906 non-null  object\n",
      " 14  Phone          23906 non-null  int64 \n",
      " 15  Dealer_Region  23906 non-null  object\n",
      "dtypes: int64(3), object(13)\n",
      "memory usage: 2.9+ MB\n",
      "None \n",
      "\n",
      "Duplicated values count:\n",
      " 0 \n",
      "\n",
      "Not a number values count:\n",
      " Car_id           0\n",
      "Date             0\n",
      "Customer Name    1\n",
      "Gender           0\n",
      "Annual Income    0\n",
      "Dealer_Name      0\n",
      "Company          0\n",
      "Model            0\n",
      "Engine           0\n",
      "Transmission     0\n",
      "Color            0\n",
      "Price ($)        0\n",
      "Dealer_No        0\n",
      "Body Style       0\n",
      "Phone            0\n",
      "Dealer_Region    0\n",
      "dtype: int64 \n",
      "\n",
      "Missing values rows:\n"
     ]
    },
    {
     "data": {
      "text/plain": "            Car_id       Date Customer Name Gender  Annual Income  \\\n7564  C_CND_007565  11/5/2022           NaN   Male         680000   \n\n           Dealer_Name Company       Model                     Engine  \\\n7564  Saab-Belle Dodge   Dodge  Ram Pickup  DoubleÂ Overhead Camshaft   \n\n     Transmission       Color  Price ($)  Dealer_No  Body Style    Phone  \\\n7564         Auto  Pale White      45000  60504-7114    Hardtop  7203103   \n\n     Dealer_Region  \n7564        Aurora  ",
      "text/html": "<div>\n<style scoped>\n    .dataframe tbody tr th:only-of-type {\n        vertical-align: middle;\n    }\n\n    .dataframe tbody tr th {\n        vertical-align: top;\n    }\n\n    .dataframe thead th {\n        text-align: right;\n    }\n</style>\n<table border=\"1\" class=\"dataframe\">\n  <thead>\n    <tr style=\"text-align: right;\">\n      <th></th>\n      <th>Car_id</th>\n      <th>Date</th>\n      <th>Customer Name</th>\n      <th>Gender</th>\n      <th>Annual Income</th>\n      <th>Dealer_Name</th>\n      <th>Company</th>\n      <th>Model</th>\n      <th>Engine</th>\n      <th>Transmission</th>\n      <th>Color</th>\n      <th>Price ($)</th>\n      <th>Dealer_No</th>\n      <th>Body Style</th>\n      <th>Phone</th>\n      <th>Dealer_Region</th>\n    </tr>\n  </thead>\n  <tbody>\n    <tr>\n      <th>7564</th>\n      <td>C_CND_007565</td>\n      <td>11/5/2022</td>\n      <td>NaN</td>\n      <td>Male</td>\n      <td>680000</td>\n      <td>Saab-Belle Dodge</td>\n      <td>Dodge</td>\n      <td>Ram Pickup</td>\n      <td>DoubleÂ Overhead Camshaft</td>\n      <td>Auto</td>\n      <td>Pale White</td>\n      <td>45000</td>\n      <td>60504-7114</td>\n      <td>Hardtop</td>\n      <td>7203103</td>\n      <td>Aurora</td>\n    </tr>\n  </tbody>\n</table>\n</div>"
     },
     "metadata": {},
     "output_type": "display_data"
    },
    {
     "name": "stdout",
     "output_type": "stream",
     "text": [
      "Duplicated values rows:\n"
     ]
    },
    {
     "data": {
      "text/plain": "Empty DataFrame\nColumns: [Car_id, Date, Customer Name, Gender, Annual Income, Dealer_Name, Company, Model, Engine, Transmission, Color, Price ($), Dealer_No , Body Style, Phone, Dealer_Region]\nIndex: []",
      "text/html": "<div>\n<style scoped>\n    .dataframe tbody tr th:only-of-type {\n        vertical-align: middle;\n    }\n\n    .dataframe tbody tr th {\n        vertical-align: top;\n    }\n\n    .dataframe thead th {\n        text-align: right;\n    }\n</style>\n<table border=\"1\" class=\"dataframe\">\n  <thead>\n    <tr style=\"text-align: right;\">\n      <th></th>\n      <th>Car_id</th>\n      <th>Date</th>\n      <th>Customer Name</th>\n      <th>Gender</th>\n      <th>Annual Income</th>\n      <th>Dealer_Name</th>\n      <th>Company</th>\n      <th>Model</th>\n      <th>Engine</th>\n      <th>Transmission</th>\n      <th>Color</th>\n      <th>Price ($)</th>\n      <th>Dealer_No</th>\n      <th>Body Style</th>\n      <th>Phone</th>\n      <th>Dealer_Region</th>\n    </tr>\n  </thead>\n  <tbody>\n  </tbody>\n</table>\n</div>"
     },
     "metadata": {},
     "output_type": "display_data"
    }
   ],
   "source": [
    "describe_data(car_sales)"
   ],
   "metadata": {
    "collapsed": false,
    "ExecuteTime": {
     "end_time": "2024-11-08T12:36:49.955316400Z",
     "start_time": "2024-11-08T12:36:49.747029400Z"
    }
   },
   "id": "dcdf74e40b2728da",
   "execution_count": 6
  },
  {
   "cell_type": "code",
   "outputs": [],
   "source": [
    "clean_car_ownership = car_ownership.__deepcopy__()\n",
    "clean_car_sales = car_sales.__deepcopy__()\n",
    "clean_car_price = car_price.__deepcopy__() "
   ],
   "metadata": {
    "collapsed": false,
    "ExecuteTime": {
     "end_time": "2024-11-08T12:36:49.955316400Z",
     "start_time": "2024-11-08T12:36:49.878723700Z"
    }
   },
   "id": "1616f63756c5c275",
   "execution_count": 7
  },
  {
   "cell_type": "code",
   "outputs": [],
   "source": [
    "clean_car_ownership.drop_duplicates(inplace=True)"
   ],
   "metadata": {
    "collapsed": false,
    "ExecuteTime": {
     "end_time": "2024-11-08T12:36:49.956313500Z",
     "start_time": "2024-11-08T12:36:49.887456900Z"
    }
   },
   "id": "ae0de97704505fce",
   "execution_count": 8
  },
  {
   "cell_type": "code",
   "outputs": [],
   "source": [
    "clean_car_ownership.dropna(inplace=True, subset=['Occupation'])"
   ],
   "metadata": {
    "collapsed": false,
    "ExecuteTime": {
     "end_time": "2024-11-08T12:36:49.980250Z",
     "start_time": "2024-11-08T12:36:49.895428900Z"
    }
   },
   "id": "adbd299bcaad70ce",
   "execution_count": 9
  },
  {
   "cell_type": "code",
   "outputs": [],
   "source": [
    "clean_car_ownership.drop(columns=['Finance History'], inplace=True)"
   ],
   "metadata": {
    "collapsed": false,
    "ExecuteTime": {
     "end_time": "2024-11-08T12:36:50.019417700Z",
     "start_time": "2024-11-08T12:36:49.903553100Z"
    }
   },
   "id": "797c3b1932521986",
   "execution_count": 10
  },
  {
   "cell_type": "code",
   "outputs": [],
   "source": [
    "def clean_numerics(value):\n",
    "    \n",
    "    if pd.isna(value) or pd.isnull(value):\n",
    "        return value\n",
    "    \n",
    "    value_str = str(value).lower()\n",
    "    value_str = ''.join(char for char in value_str if char.isdigit() or char in ['k'])\n",
    "    \n",
    "    if value_str == '':\n",
    "        return np.nan\n",
    "        \n",
    "    if 'k' in value_str:\n",
    "        value_str = value_str.replace('k', '')  \n",
    "        return float(value_str) * 1000 \n",
    "\n",
    "    return float(value_str)\n",
    "\n",
    "clean_car_ownership['Monthly Income'] = clean_car_ownership['Monthly Income'].apply(clean_numerics)\n",
    "clean_car_ownership['Years of Employment'] = clean_car_ownership['Years of Employment'].apply(clean_numerics)"
   ],
   "metadata": {
    "collapsed": false,
    "ExecuteTime": {
     "end_time": "2024-11-08T12:36:50.060308900Z",
     "start_time": "2024-11-08T12:36:49.908434600Z"
    }
   },
   "id": "c34dbb73c78589f",
   "execution_count": 11
  },
  {
   "cell_type": "code",
   "outputs": [],
   "source": [
    "# work in progress\n",
    "def fill_nulls_nans_numeric(df: pd.DataFrame, columns: list, group: str, trasform_to_int: bool) -> pd.DataFrame:\n",
    "\n",
    "    for column in columns:\n",
    "        df[column] = df.groupby(group)[column].transform(lambda x: x.fillna(x.mean()))\n",
    "        df[column] = df[column].fillna(value=df[column].median())\n",
    "    \n",
    "    if trasform_to_int:\n",
    "        df[columns] = df[columns].astype(int)\n",
    "    \n",
    "    return df\n",
    "\n",
    "clean_car_ownership = fill_nulls_nans_numeric(clean_car_ownership, ['Monthly Income', 'Credit Score', 'Years of Employment'], \"Occupation\", True)"
   ],
   "metadata": {
    "collapsed": false,
    "ExecuteTime": {
     "end_time": "2024-11-08T12:36:50.102197400Z",
     "start_time": "2024-11-08T12:36:49.923401400Z"
    }
   },
   "id": "70a122ff7df21a33",
   "execution_count": 12
  },
  {
   "cell_type": "code",
   "outputs": [
    {
     "data": {
      "text/plain": "array(['Good', 'Fair', 'Excellent', 'Poor', nan, 'Stable', 'Unstable',\n       'Unknow', 'Unkonw'], dtype=object)"
     },
     "execution_count": 13,
     "metadata": {},
     "output_type": "execute_result"
    }
   ],
   "source": [
    "clean_car_ownership['Finance Status'].unique()"
   ],
   "metadata": {
    "collapsed": false,
    "ExecuteTime": {
     "end_time": "2024-11-08T12:36:50.121146100Z",
     "start_time": "2024-11-08T12:36:49.984239600Z"
    }
   },
   "id": "1893150f71bf0a10",
   "execution_count": 13
  },
  {
   "cell_type": "code",
   "outputs": [
    {
     "data": {
      "text/plain": "array(['Good', 'Fair', 'Excellent', 'Poor', 'Unknown', 'Stable',\n       'Unstable'], dtype=object)"
     },
     "execution_count": 14,
     "metadata": {},
     "output_type": "execute_result"
    }
   ],
   "source": [
    "clean_car_ownership['Finance Status'] = clean_car_ownership['Finance Status'].replace({np.nan:'Unknown', 'Unkonw':'Unknown', 'Unknow': 'Unknown'})\n",
    "clean_car_ownership['Finance Status'].unique()"
   ],
   "metadata": {
    "collapsed": false,
    "ExecuteTime": {
     "end_time": "2024-11-08T12:36:50.121146100Z",
     "start_time": "2024-11-08T12:36:49.991587300Z"
    }
   },
   "id": "cbe1daa7c9269742",
   "execution_count": 14
  },
  {
   "cell_type": "code",
   "outputs": [],
   "source": [
    "clean_car_ownership['Car'] = clean_car_ownership['Car'].fillna('No')"
   ],
   "metadata": {
    "collapsed": false,
    "ExecuteTime": {
     "end_time": "2024-11-08T12:54:20.370802700Z",
     "start_time": "2024-11-08T12:54:20.367815700Z"
    }
   },
   "id": "196c4d0de123d362",
   "execution_count": 17
  },
  {
   "cell_type": "code",
   "outputs": [],
   "source": [
    "clean_car_ownership['Number of Children'] = clean_car_ownership['Number of Children'].replace({'na':np.nan})\n",
    "clean_car_ownership['Number of Children'] = clean_car_ownership['Number of Children'].replace({np.nan:-1})"
   ],
   "metadata": {
    "collapsed": false,
    "ExecuteTime": {
     "end_time": "2024-11-08T13:08:09.371851900Z",
     "start_time": "2024-11-08T13:08:09.353959200Z"
    }
   },
   "id": "2c6738981679b95a",
   "execution_count": 22
  },
  {
   "cell_type": "code",
   "outputs": [],
   "source": [
    "clean_car_ownership.to_csv(path_or_buf='../data/clean_data/clean_car_ownership.csv')\n"
   ],
   "metadata": {
    "collapsed": false,
    "ExecuteTime": {
     "end_time": "2024-11-08T13:23:33.654934700Z",
     "start_time": "2024-11-08T13:23:33.650028800Z"
    }
   },
   "id": "9e2c082fe048ac98",
   "execution_count": 27
  }
 ],
 "metadata": {
  "kernelspec": {
   "display_name": "Python 3",
   "language": "python",
   "name": "python3"
  },
  "language_info": {
   "codemirror_mode": {
    "name": "ipython",
    "version": 2
   },
   "file_extension": ".py",
   "mimetype": "text/x-python",
   "name": "python",
   "nbconvert_exporter": "python",
   "pygments_lexer": "ipython2",
   "version": "2.7.6"
  }
 },
 "nbformat": 4,
 "nbformat_minor": 5
}
